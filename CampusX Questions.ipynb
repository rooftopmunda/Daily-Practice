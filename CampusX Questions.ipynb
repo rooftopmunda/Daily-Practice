{
 "cells": [
  {
   "cell_type": "markdown",
   "metadata": {},
   "source": [
    "Write a program that keeps on accepting a number from the user until the user enters Zero. Display the sum and average of all the numbers."
   ]
  },
  {
   "cell_type": "code",
   "execution_count": null,
   "metadata": {},
   "outputs": [],
   "source": [
    "total_sum = 0\n",
    "count = 0\n",
    "\n",
    "while True:\n",
    "    try:\n",
    "        num = float(input(\"Enter a number: \"))\n",
    "        \n",
    "        if num == 0:\n",
    "            break\n",
    "        total_sum += num\n",
    "        \n",
    "        count += 1\n",
    "    except ValueError:\n",
    "        print(\"Enter a valid input\")\n",
    "        \n",
    "    if count > 0:\n",
    "        average = total_sum / count\n",
    "        print(f\"The sum of the numbers are: {total_sum}\")\n",
    "        print(f\"The average sum of the numbers: {average}\")\n",
    "    else:\n",
    "        print(\"No numbers were entered!\")"
   ]
  },
  {
   "cell_type": "markdown",
   "metadata": {},
   "source": [
    "Write a program which will find all such numbers which are divisible by 7 but are not a multiple of 5, between 2000 and 3200 (both included). The numbers obtained should be printed in a comma-separated sequence on a single line."
   ]
  },
  {
   "cell_type": "code",
   "execution_count": null,
   "metadata": {},
   "outputs": [],
   "source": [
    "numbers = []\n",
    "\n",
    "for num in range(2000, 3200+1):\n",
    "    if num % 7 == 0 and num % 5 != 0:\n",
    "        numbers.append(num)\n",
    "\n",
    "string = \",\".join(map(str, numbers))\n",
    "\n",
    "print(string)"
   ]
  },
  {
   "cell_type": "markdown",
   "metadata": {},
   "source": [
    "Take a user input as integer N. Find out the sum from 1 to N. If any number if divisible by 5, then skip that number. And if the sum is greater than 300, don't need to calculate the sum further more. Print the final result. And don't use for loop to solve this problem."
   ]
  },
  {
   "cell_type": "code",
   "execution_count": 19,
   "metadata": {},
   "outputs": [
    {
     "name": "stdout",
     "output_type": "stream",
     "text": [
      "10\n"
     ]
    }
   ],
   "source": [
    "n = int(input(\"Enter a number: \"))\n",
    "\n",
    "sum = 0\n",
    "\n",
    "for num in range(1 , n+1):\n",
    "    if num % 5 == 0:\n",
    "        continue\n",
    "    if sum > 300:\n",
    "        break\n",
    "    sum += num\n",
    "\n",
    "print(sum)"
   ]
  }
 ],
 "metadata": {
  "kernelspec": {
   "display_name": "base",
   "language": "python",
   "name": "python3"
  },
  "language_info": {
   "codemirror_mode": {
    "name": "ipython",
    "version": 3
   },
   "file_extension": ".py",
   "mimetype": "text/x-python",
   "name": "python",
   "nbconvert_exporter": "python",
   "pygments_lexer": "ipython3",
   "version": "3.10.9"
  },
  "orig_nbformat": 4
 },
 "nbformat": 4,
 "nbformat_minor": 2
}
