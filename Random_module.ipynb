{
 "cells": [
  {
   "cell_type": "markdown",
   "metadata": {},
   "source": [
    "## \"Imagine you have a bag with five different-colored balls: red, blue, green, yellow, and orange. Can you write a Python program using the random module to randomly pick a ball from the bag and tell me the color of the ball you picked?\""
   ]
  },
  {
   "cell_type": "code",
   "execution_count": 23,
   "metadata": {},
   "outputs": [
    {
     "name": "stdout",
     "output_type": "stream",
     "text": [
      "The color of the ball you picked is: green\n"
     ]
    }
   ],
   "source": [
    "import random\n",
    "ball_color = [\"red\", \"green\", \"blue\",\"yellow\",\"orange\"]\n",
    "choice = random.choice(ball_color)\n",
    "print(f'The color of the ball you picked is: {choice}')"
   ]
  },
  {
   "cell_type": "markdown",
   "metadata": {},
   "source": [
    "## \"Imagine you have a list of your favorite fruits: 'apple', 'banana', 'orange', 'kiwi', and 'grapes'. Can you write a Python program using the random module to shuffle the list of fruits and then tell me the first fruit in the shuffled list?\""
   ]
  },
  {
   "cell_type": "code",
   "execution_count": 25,
   "metadata": {},
   "outputs": [
    {
     "name": "stdout",
     "output_type": "stream",
     "text": [
      "The first fruit in the random fruit list is: kiwi\n"
     ]
    }
   ],
   "source": [
    "import random\n",
    "fav_fruits = ['apple', 'banana', 'orange', 'kiwi','grapes']\n",
    "shuffle = random.shuffle(fav_fruits)\n",
    "print(f'The first fruit in the random fruit list is: {fav_fruits[0]}')"
   ]
  },
  {
   "cell_type": "markdown",
   "metadata": {},
   "source": [
    "## Imagine you are playing a dice game with a friend. The dice has six sides with numbers from 1 to 6. Can you write a program using the random module to simulate rolling the dice and then tell me the number you rolled?"
   ]
  },
  {
   "cell_type": "code",
   "execution_count": 26,
   "metadata": {},
   "outputs": [
    {
     "name": "stdout",
     "output_type": "stream",
     "text": [
      "You rolled a 5 on the dice!\n"
     ]
    }
   ],
   "source": [
    "sides = [1,2,3,4,5,6]\n",
    "\n",
    "side = random.choice(sides)\n",
    "print(f'You rolled a {side} on the dice!')"
   ]
  },
  {
   "cell_type": "code",
   "execution_count": 2,
   "metadata": {},
   "outputs": [
    {
     "name": "stdout",
     "output_type": "stream",
     "text": [
      "You rolled a 4 on the dice!\n"
     ]
    }
   ],
   "source": [
    "import random\n",
    "\n",
    "sides = [1,2,3,4,5,6]\n",
    "\n",
    "side = random.choice(sides)\n",
    "print(f'You rolled a {side} on the dice!')\n"
   ]
  }
 ],
 "metadata": {
  "kernelspec": {
   "display_name": "Python 3",
   "language": "python",
   "name": "python3"
  },
  "language_info": {
   "codemirror_mode": {
    "name": "ipython",
    "version": 3
   },
   "file_extension": ".py",
   "mimetype": "text/x-python",
   "name": "python",
   "nbconvert_exporter": "python",
   "pygments_lexer": "ipython3",
   "version": "3.11.3"
  },
  "orig_nbformat": 4
 },
 "nbformat": 4,
 "nbformat_minor": 2
}
