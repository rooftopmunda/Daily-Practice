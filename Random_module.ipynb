{
 "cells": [
  {
   "cell_type": "markdown",
   "metadata": {},
   "source": [
    "## \"Imagine you have a bag with five different-colored balls: red, blue, green, yellow, and orange. Can you write a Python program using the random module to randomly pick a ball from the bag and tell me the color of the ball you picked?\""
   ]
  },
  {
   "cell_type": "code",
   "execution_count": null,
   "metadata": {},
   "outputs": [],
   "source": [
    "# Picks a random element from the given list or iterable element.\n",
    "import random\n",
    "ball_color = [\"red\", \"green\", \"blue\",\"yellow\",\"orange\"]\n",
    "choice = random.choice(ball_color)\n",
    "print(f'The color of the ball you picked is: {choice}')"
   ]
  },
  {
   "cell_type": "code",
   "execution_count": null,
   "metadata": {},
   "outputs": [],
   "source": [
    "import random\n",
    "colors = [\"red\", \"green\", \"blue\", \"yellow\", \"orange\", \"purple\", \"pink\", \"brown\", \"white\", \"black\", \"gray\", \"cyan\", \"magenta\", \"teal\", \"olive\", \"gold\", \"silver\"]\n",
    "choice = random.choice(colors)\n",
    "print(f'Random color: {choice}')\n"
   ]
  },
  {
   "cell_type": "markdown",
   "metadata": {},
   "source": [
    "## \"Imagine you have a list of your favorite fruits: 'apple', 'banana', 'orange', 'kiwi', and 'grapes'. Can you write a Python program using the random module to shuffle the list of fruits and then tell me the first fruit in the shuffled list?\""
   ]
  },
  {
   "cell_type": "code",
   "execution_count": null,
   "metadata": {},
   "outputs": [],
   "source": [
    "# Random.shuffle shuffles the elements within the list and you need to print the list as the output.\n",
    "import random\n",
    "fav_fruits = ['apple', 'banana', 'orange', 'kiwi','grapes']\n",
    "shuffle = random.shuffle(fav_fruits)\n",
    "print(f'The first fruit in the random fruit list is: {fav_fruits[0]}')"
   ]
  },
  {
   "cell_type": "markdown",
   "metadata": {},
   "source": [
    "## Imagine you are playing a dice game with a friend. The dice has six sides with numbers from 1 to 6. Can you write a program using the random module to simulate rolling the dice and then tell me the number you rolled?"
   ]
  },
  {
   "cell_type": "code",
   "execution_count": null,
   "metadata": {},
   "outputs": [],
   "source": [
    "#Random.choice gives a random choice from a given iterable. You'll need to print the single element and not the entire list as the output.\n",
    "import random\n",
    "\n",
    "sides = [1,2,3,4,5,6]\n",
    "choice = random.choice(sides)\n",
    "print(choice)"
   ]
  },
  {
   "cell_type": "code",
   "execution_count": null,
   "metadata": {},
   "outputs": [],
   "source": [
    "import random\n",
    "\n",
    "numbers = list(range(1, 11))\n",
    "random_sample = random.sample(numbers, 7)  # Generates a random sample of 3 unique numbers\n",
    "print(random_sample)"
   ]
  },
  {
   "cell_type": "markdown",
   "metadata": {},
   "source": [
    "# Random Sample\n",
    "* Returns the requested sample size from a raneg of samples.\n",
    "* Example: Out of first 20 roll numbers,choosing ay random 7 students for an activity."
   ]
  },
  {
   "cell_type": "code",
   "execution_count": null,
   "metadata": {},
   "outputs": [],
   "source": [
    "import random\n",
    "numb = list(range(1,21))\n",
    "random_sample = random.sample(numb, 7)\n",
    "print(random_sample)"
   ]
  }
 ],
 "metadata": {
  "kernelspec": {
   "display_name": "Python 3",
   "language": "python",
   "name": "python3"
  },
  "language_info": {
   "codemirror_mode": {
    "name": "ipython",
    "version": 3
   },
   "file_extension": ".py",
   "mimetype": "text/x-python",
   "name": "python",
   "nbconvert_exporter": "python",
   "pygments_lexer": "ipython3",
   "version": "3.10.9"
  },
  "orig_nbformat": 4
 },
 "nbformat": 4,
 "nbformat_minor": 2
}
