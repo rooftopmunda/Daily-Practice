{
 "cells": [
  {
   "cell_type": "markdown",
   "metadata": {},
   "source": [
    "Define a function called greet that takes a name as an argument and prints a greeting message, such as \"Hello, [name]!\""
   ]
  },
  {
   "cell_type": "code",
   "execution_count": null,
   "metadata": {},
   "outputs": [],
   "source": [
    "def greet(name):\n",
    "    print(f'Hello {name}!')"
   ]
  },
  {
   "cell_type": "markdown",
   "metadata": {},
   "source": [
    "Write a function called add_numbers that takes two numbers as arguments and returns their sum."
   ]
  },
  {
   "cell_type": "code",
   "execution_count": null,
   "metadata": {},
   "outputs": [],
   "source": [
    "def add_numbers(a,b):\n",
    "    return a + b"
   ]
  },
  {
   "cell_type": "markdown",
   "metadata": {},
   "source": [
    "Create a function called is_even that takes an integer as an argument and returns True if it's even, and False otherwise."
   ]
  },
  {
   "cell_type": "code",
   "execution_count": null,
   "metadata": {},
   "outputs": [],
   "source": [
    "def is_even(a):\n",
    "    if a % 2 == 0:\n",
    "        print(\"True\")\n",
    "    elif a % 2 != 0:\n",
    "        print(\"False\")\n",
    "         "
   ]
  },
  {
   "cell_type": "markdown",
   "metadata": {},
   "source": [
    "Implement a function called find_max that takes a list of numbers as an argument and returns the maximum value in the list."
   ]
  },
  {
   "cell_type": "code",
   "execution_count": null,
   "metadata": {},
   "outputs": [],
   "source": [
    "def find_max(*args):\n",
    "    max_v = list(args)\n",
    "    k = max(max_v)\n",
    "    return k"
   ]
  },
  {
   "cell_type": "code",
   "execution_count": null,
   "metadata": {},
   "outputs": [],
   "source": [
    "find_max(5,365,53,35,4,1,5,8,456,65,85,52,6)"
   ]
  },
  {
   "cell_type": "markdown",
   "metadata": {},
   "source": [
    "Define a function called calculate_area that calculates and returns the area of a rectangle given its length and width as arguments."
   ]
  },
  {
   "cell_type": "code",
   "execution_count": null,
   "metadata": {},
   "outputs": [],
   "source": [
    "def calculate_area(len, width):\n",
    "    area = len * width\n",
    "    print(f'The area of the rectangle is:', area ,\"m/sq\")"
   ]
  },
  {
   "cell_type": "markdown",
   "metadata": {},
   "source": [
    "Write a function called is_prime that takes an integer as input and returns True if it's a prime number, and False otherwise."
   ]
  },
  {
   "cell_type": "markdown",
   "metadata": {},
   "source": [
    "Prime numbers are positive integers greater than 1 that have no positive divisors other than 1 and themselves. In other words, a prime number is a number that cannot be divided evenly by any other number except 1 and itself."
   ]
  },
  {
   "cell_type": "code",
   "execution_count": null,
   "metadata": {},
   "outputs": [],
   "source": [
    "def is_prime(number):\n",
    "    if number < 2:\n",
    "        return False\n",
    "    for i in range(2 , int(number ** 0.5) +1):\n",
    "        if number % i == 0:\n",
    "            return False\n",
    "    return True"
   ]
  },
  {
   "cell_type": "code",
   "execution_count": null,
   "metadata": {},
   "outputs": [],
   "source": [
    "def prime_number_hai(x):\n",
    "    if x < 2: \n",
    "        print(f'{x} prime number nahi hai!')\n",
    "        return\n",
    "    for i in range(2 , int(x ** 0.5) +1):\n",
    "        if x % i == 0:\n",
    "            print(f'{x} prime number nahi hai!')\n",
    "            break\n",
    "    else:\n",
    "        print(f'{x} prime number hai!')"
   ]
  },
  {
   "cell_type": "markdown",
   "metadata": {},
   "source": [
    "Write a function called is_prime that takes an integer as input and returns True if it's a prime number, and False otherwise.\n",
    "___\n",
    "Prime numbers are positive integers greater than 1 that have no positive divisors other than 1 and themselves. In other words, a prime number is a number that cannot be divided evenly by any other number except 1 and itself."
   ]
  },
  {
   "cell_type": "code",
   "execution_count": 48,
   "metadata": {},
   "outputs": [],
   "source": [
    "def if_prime(num):\n",
    "    if num < 2:\n",
    "        print(f\"{num} prime number nahi hai!\")\n",
    "        return\n",
    "    for i in range(2 , int(num** 0.5) + 1):\n",
    "        if num % i == 0:\n",
    "            print(f\"{num} prime number nahi hai!\")\n",
    "            break\n",
    "    else:\n",
    "        print(f\"{num} prime number hai!\")"
   ]
  },
  {
   "cell_type": "code",
   "execution_count": 55,
   "metadata": {},
   "outputs": [
    {
     "name": "stdout",
     "output_type": "stream",
     "text": [
      "18 prime number nahi hai!\n",
      "97 prime number hai!\n",
      "25 prime number nahi hai!\n",
      "30 prime number nahi hai!\n",
      "1 prime number nahi hai!\n",
      "73 prime number hai!\n"
     ]
    }
   ],
   "source": [
    "if_prime(18)\n",
    "if_prime(97)\n",
    "if_prime(25)\n",
    "if_prime(30)\n",
    "if_prime(1)\n",
    "if_prime(73)"
   ]
  },
  {
   "cell_type": "code",
   "execution_count": null,
   "metadata": {},
   "outputs": [],
   "source": []
  }
 ],
 "metadata": {
  "kernelspec": {
   "display_name": "base",
   "language": "python",
   "name": "python3"
  },
  "language_info": {
   "codemirror_mode": {
    "name": "ipython",
    "version": 3
   },
   "file_extension": ".py",
   "mimetype": "text/x-python",
   "name": "python",
   "nbconvert_exporter": "python",
   "pygments_lexer": "ipython3",
   "version": "3.10.9"
  },
  "orig_nbformat": 4
 },
 "nbformat": 4,
 "nbformat_minor": 2
}
