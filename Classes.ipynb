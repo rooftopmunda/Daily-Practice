{
 "cells": [
  {
   "cell_type": "markdown",
   "metadata": {},
   "source": [
    "## `Q-1:` Rectangle Class\n",
    "1. Write a Rectangle class in Python language, allowing you to build a rectangle with length and width attributes.\n",
    "\n",
    "2. Create a Perimeter() method to calculate the perimeter of the rectangle and a Area() method to calculate the area of ​​the rectangle.\n",
    "\n",
    "3. Create a method display() that display the length, width, perimeter and area of an object created using an instantiation on rectangle class."
   ]
  },
  {
   "cell_type": "code",
   "execution_count": 37,
   "metadata": {},
   "outputs": [],
   "source": [
    "class Rectangle:\n",
    "    def __init__(self, len, wid):\n",
    "        self.len = len\n",
    "        self.wid = wid\n",
    "        \n",
    "    def __str__(self):\n",
    "        return \"Rectangle with len:{} and wid:{}\".format(self.len,self.wid)\n",
    "        \n",
    "    def perimeter(self):\n",
    "        perimeter = 2 * (self.len + self.wid)\n",
    "        return perimeter\n",
    "    \n",
    "    def area(self):\n",
    "        area = self.len * self.wid\n",
    "        return area\n",
    "    \n",
    "    def display(self):\n",
    "        pm = self.perimeter()\n",
    "        ar = self.area()\n",
    "        \n",
    "        \n",
    "        print(f\"\"\"\n",
    "The length of rectangle is: {self.len}\n",
    "The width of rectangle is: {self.wid}\n",
    "The perimeter of rectangle is: {pm}\n",
    "The area of rectangle is: {ar}\n",
    "\"\"\")"
   ]
  },
  {
   "cell_type": "code",
   "execution_count": 38,
   "metadata": {},
   "outputs": [
    {
     "name": "stdout",
     "output_type": "stream",
     "text": [
      "\n",
      "The length of rectangle is: 6\n",
      "The width of rectangle is: 5\n",
      "The perimeter of rectangle is: 22\n",
      "The area of rectangle is: 30\n",
      "\n"
     ]
    }
   ],
   "source": [
    "Rec2 = Rectangle(6,5)\n",
    "Rec2.display()"
   ]
  },
  {
   "cell_type": "markdown",
   "metadata": {},
   "source": [
    "## `Q-2: Bank Class`\n",
    "\n",
    "1. Create a Python class called `BankAccount` which represents a bank account, having as attributes: `accountNumber` (numeric type), `name` (name of the account owner as string type), `balance`.\n",
    "2. Create a constructor with parameters: `accountNumber, name, balance`.\n",
    "3. Create a `Deposit()` method which manages the deposit actions.\n",
    "4. Create a `Withdrawal()` method  which manages withdrawals actions.\n",
    "5. Create an `bankFees()` method to apply the bank fees with a percentage of 5% of the balance account.\n",
    "6. Create a `display()` method to display account details.\n",
    "Give the complete code for the  BankAccount class."
   ]
  },
  {
   "cell_type": "code",
   "execution_count": 39,
   "metadata": {},
   "outputs": [],
   "source": [
    "class BankAccount:\n",
    "    \n",
    "    def __init__(self,accountNumber,name,balance):\n",
    "        self.accountNumber = accountNumber\n",
    "        self.name = name\n",
    "        self.balance = balance\n",
    "        \n",
    "    def deposit(self,amount):\n",
    "        if amount > 0:\n",
    "            self.balance += amount\n",
    "            print(f\"Deposited ${amount}. New balance: ${self.balance}\")\n",
    "        else:\n",
    "            print(\"Deposit amount must be greater than zero.\")\n",
    "            \n",
    "    def withdrawal(self,amount):\n",
    "        if 0 < amount <= self.balance:\n",
    "            self.balance -= amount\n",
    "            print(f\"Withdrew ${amount}. New balance: ${self.balance}\")\n",
    "        else:\n",
    "            print(\"Withdrawal amount exceeds account balance.\")\n",
    "            \n",
    "    def bankFees(self):\n",
    "        fee = self.balance * 0.05\n",
    "        self.balance -= fee\n",
    "        \n",
    "    def display(self):\n",
    "        print(\"Account Details:\")\n",
    "        print(\"Account Number:\", self.accountNumber)\n",
    "        print(\"Account Holder:\", self.name)\n",
    "        print(\"Account Balance:\", self.balance)\n",
    "        "
   ]
  },
  {
   "cell_type": "code",
   "execution_count": 40,
   "metadata": {},
   "outputs": [
    {
     "name": "stdout",
     "output_type": "stream",
     "text": [
      "Withdrew $700. New balance: $2100\n",
      "Deposited $1000. New balance: $3100\n",
      "Account Details:\n",
      "Account Number: 2178514584\n",
      "Account Holder: Sufal\n",
      "Account Balance: 3100\n"
     ]
    }
   ],
   "source": [
    "newAccount = BankAccount(2178514584, \"Sufal\" , 2800)\n",
    "\n",
    "newAccount.withdrawal(700)\n",
    "\n",
    "newAccount.deposit(1000)\n",
    "\n",
    "newAccount.display()"
   ]
  }
 ],
 "metadata": {
  "kernelspec": {
   "display_name": "base",
   "language": "python",
   "name": "python3"
  },
  "language_info": {
   "codemirror_mode": {
    "name": "ipython",
    "version": 3
   },
   "file_extension": ".py",
   "mimetype": "text/x-python",
   "name": "python",
   "nbconvert_exporter": "python",
   "pygments_lexer": "ipython3",
   "version": "3.10.9"
  },
  "orig_nbformat": 4
 },
 "nbformat": 4,
 "nbformat_minor": 2
}
