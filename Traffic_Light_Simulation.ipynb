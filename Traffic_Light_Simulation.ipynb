{
 "cells": [
  {
   "cell_type": "code",
   "execution_count": null,
   "metadata": {},
   "outputs": [],
   "source": [
    "import time\n",
    "from itertools import cycle\n",
    "\n",
    "lights = [\n",
    "    ('Green', 3),\n",
    "    ('Yellow',0.5),\n",
    "    ('Red', 3.5)\n",
    "]\n",
    "colors = cycle(lights)\n",
    "while True:\n",
    "    c,s = next(colors)\n",
    "    print(c)\n",
    "    time.sleep(s)"
   ]
  },
  {
   "cell_type": "code",
   "execution_count": null,
   "metadata": {},
   "outputs": [],
   "source": [
    "import time\n",
    "from itertools import cycle\n",
    "\n",
    "lights = [\n",
    "    ('Green', 3),\n",
    "    ('Yellow',0.5),\n",
    "    ('Red', 3.5)\n",
    "]\n",
    "colors = cycle(lights)\n",
    "while True:\n",
    "    for light , duration in lights:\n",
    "        print(light)\n",
    "        time.sleep(duration)"
   ]
  }
 ],
 "metadata": {
  "kernelspec": {
   "display_name": "base",
   "language": "python",
   "name": "python3"
  },
  "language_info": {
   "codemirror_mode": {
    "name": "ipython",
    "version": 3
   },
   "file_extension": ".py",
   "mimetype": "text/x-python",
   "name": "python",
   "nbconvert_exporter": "python",
   "pygments_lexer": "ipython3",
   "version": "3.10.9"
  },
  "orig_nbformat": 4
 },
 "nbformat": 4,
 "nbformat_minor": 2
}
