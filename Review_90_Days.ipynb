{
 "cells": [
  {
   "cell_type": "markdown",
   "metadata": {},
   "source": [
    "Anaconda is a distribution which has many inbuilt libraries and packages for data science.\n",
    "IDE is integrated development environment. It is brings all the features like debugger, code editor and other utilities all under one roof. Ex: VS Code, Pycharm,etc\n",
    "Objective of programming: The objective of programming is to give a set of instructions to the computer and generate results from it. It is used to automate tasks and solve human problems faster and more efficiently.\n",
    "\n",
    "Keywords: It is a set of reserved words which when executes a specific result. Example the print keyword gives us an output after the execution of the code. They are case sensitive and cannot be used as identifiers, There are 35 keywords as of python 3.9. They are immutable.\n",
    "\n",
    "identifiers: They are the names used to identify objects and memory locations.\n",
    "Comments are the piece of code that is ignore by the python interpretor. Denoted by #\n",
    "\n",
    "Statement is a line of code that performs a specific task or operation.\n",
    "\n",
    "Expressions are combinations of value, variable and operators which when evaluated produces a result.\n",
    "\n",
    "Library is a bundle of tools and function.\n",
    "\n",
    "variables are named storage locations which hold value or data.\n",
    "\n",
    "Cannot convert complex number into another number type.\n",
    "\n",
    "Statements vs Expressions:\n",
    "Statement is a line of code that performs a specific task. Expressions are combination of values which when evaluated gives a result.\n",
    "\n",
    "Functions vs Methods:\n",
    "Function is a stand alone peice of code which takes arguments and performs a specific task, they can be called in any scope from anywhere.\n",
    "Methods are functions inside a class which performs a specific task when an instance of that class is made.\n",
    "\n",
    "Indexing is the ability to access individual elements.They are used to retrieve specific items based on their positions. Indexing start with 0.\n",
    "They are used in [:] where the first number denotes the starting postion and the second number denotes the ending postion but the result produced is n-1.\n",
    "\n",
    "Slicing allows you to access a certain protion or range of elements. It can be performed on iterable objects like strings or lists.\\\n",
    "\n",
    "Global variables are functions created outsiode of a variable. The global keyword allows you to access a global variable inside a function.\n",
    "\n",
    "Casting is the process of converting one data type to another.\n",
    "\n",
    "Strings are unicode characters. They are surrounded bu '' or \"\"\n",
    "\n",
    "and or not: and if both are true, or if one is true and no reverses the result. Ex: if not 20\n",
    "\n",
    "is: checks if the object has same memory location and returns true.\n",
    "is not: returns true if the objects do not have the same meory location.\n",
    "\n",
    "Membership: in / not in: It checks if an element is in a collection like list strings or tuple etc.\n"
   ]
  },
  {
   "cell_type": "code",
   "execution_count": null,
   "metadata": {},
   "outputs": [],
   "source": []
  },
  {
   "cell_type": "code",
   "execution_count": null,
   "metadata": {},
   "outputs": [],
   "source": []
  },
  {
   "cell_type": "code",
   "execution_count": null,
   "metadata": {},
   "outputs": [],
   "source": []
  }
 ],
 "metadata": {
  "kernelspec": {
   "display_name": "base",
   "language": "python",
   "name": "python3"
  },
  "language_info": {
   "codemirror_mode": {
    "name": "ipython",
    "version": 3
   },
   "file_extension": ".py",
   "mimetype": "text/x-python",
   "name": "python",
   "nbconvert_exporter": "python",
   "pygments_lexer": "ipython3",
   "version": "3.10.9"
  },
  "orig_nbformat": 4
 },
 "nbformat": 4,
 "nbformat_minor": 2
}
