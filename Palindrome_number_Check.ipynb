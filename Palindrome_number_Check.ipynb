{
  "nbformat": 4,
  "nbformat_minor": 0,
  "metadata": {
    "colab": {
      "provenance": [],
      "authorship_tag": "ABX9TyO+O+czBkyohPjb77f36fVD",
      "include_colab_link": true
    },
    "kernelspec": {
      "name": "python3",
      "display_name": "Python 3"
    },
    "language_info": {
      "name": "python"
    }
  },
  "cells": [
    {
      "cell_type": "markdown",
      "metadata": {
        "id": "view-in-github",
        "colab_type": "text"
      },
      "source": [
        "<a href=\"https://colab.research.google.com/github/rooftopmunda/Daily-Practice/blob/main/Palindrome_number_Check.ipynb\" target=\"_parent\"><img src=\"https://colab.research.google.com/assets/colab-badge.svg\" alt=\"Open In Colab\"/></a>"
      ]
    },
    {
      "cell_type": "markdown",
      "source": [
        "#Write a program to check if the given number is a palindrome number.\n",
        "A palindrome number is a number that remains the same when its digits are reversed."
      ],
      "metadata": {
        "id": "zXcN2XKgEhlR"
      }
    },
    {
      "cell_type": "code",
      "source": [
        "number = input(\"Enter a four-digit number\")\n",
        "\n",
        "reversed_num = int(number[::-1])\n",
        "\n",
        "if int(reversed_num) == int(number):\n",
        "  print(\"The number is a palindrome\")\n",
        "else:\n",
        "  print(\"The number is not a palindrome\")"
      ],
      "metadata": {
        "colab": {
          "base_uri": "https://localhost:8080/"
        },
        "id": "eIwJEGFhEprz",
        "outputId": "6bcff64e-7749-435b-b82f-95c2eba80744"
      },
      "execution_count": null,
      "outputs": [
        {
          "output_type": "stream",
          "name": "stdout",
          "text": [
            "Enter a four-digit number9876789\n",
            "The number is a palindrome\n"
          ]
        }
      ]
    },
    {
      "cell_type": "markdown",
      "source": [
        "The code above checks if the given number is a plaindrome or not. It does so by reversing the input in a new variable and using slicing with a negative set. Then  it compares if the numbers are the same and prints the output accordingly."
      ],
      "metadata": {
        "id": "ufe3tUE5KXB-"
      }
    },
    {
      "cell_type": "code",
      "source": [
        "number = input(\"Enter a number: \")\n",
        "\n",
        "p_check = int(number[::-1])\n",
        "if int(number) == int(p_check):\n",
        "  print(\"The number is a palindrome number\")\n",
        "else:\n",
        "  print(\"The number is not a palindrome number\")"
      ],
      "metadata": {
        "colab": {
          "base_uri": "https://localhost:8080/"
        },
        "id": "oBhVeeV3G9t-",
        "outputId": "44fe75a8-2afc-4430-9d22-8089df16ce86"
      },
      "execution_count": null,
      "outputs": [
        {
          "output_type": "stream",
          "name": "stdout",
          "text": [
            "Enter a number: 12321\n",
            "The number is a palindrome number\n"
          ]
        }
      ]
    },
    {
      "cell_type": "markdown",
      "source": [
        "Practice: 8/7/23\n",
        "The logic is to use slicing and using a negative set (-1) to reverse the number sequence. Then we can compare it to the original number and check if they are the same."
      ],
      "metadata": {
        "id": "h00uqY9IxuqS"
      }
    },
    {
      "cell_type": "code",
      "source": [
        "number  = (input(\"Enter a number to check if it is a palindrome number\"))\n",
        "\n",
        "check = int(number[::-1])\n",
        "if int(number) == int(check):\n",
        "  print(\"The number is a palindrome number\")\n",
        "else:\n",
        "  print(\"The number is not a palindrome number\")"
      ],
      "metadata": {
        "id": "-KBWzCFRLHIH",
        "outputId": "38652629-db20-4801-c2d3-e2f3ec4e732e",
        "colab": {
          "base_uri": "https://localhost:8080/"
        }
      },
      "execution_count": null,
      "outputs": [
        {
          "output_type": "stream",
          "name": "stdout",
          "text": [
            "Enter a number to check if it is a palindrome number1345695\n",
            "The number is not a palindrome number\n"
          ]
        }
      ]
    },
    {
      "cell_type": "markdown",
      "source": [
        "Practice: 9/7/2023\n",
        "\n",
        "I this version I removed the int() casting before comparing the numbers. It isn't necesary to convert the numbers into an iteger as we can perfrom the same operation with strings"
      ],
      "metadata": {
        "id": "UaY3LPasm_SH"
      }
    },
    {
      "cell_type": "code",
      "source": [
        "##Palindrome Number Check\n",
        "\n",
        "number = input(\"Enter a number to check if it's a palindrome number\")\n",
        "rev_num = number[::-1]\n",
        "if rev_num == number:\n",
        "    print(\"It is a palindrome number\")\n",
        "else:\n",
        "    print(\"it is not a palindrome number\")"
      ],
      "metadata": {
        "id": "kQTAZfqNyKuS"
      },
      "execution_count": null,
      "outputs": []
    },
    {
      "cell_type": "markdown",
      "source": [
        "practice 10/7/2023"
      ],
      "metadata": {
        "id": "YE-D5DzOJBrC"
      }
    },
    {
      "cell_type": "code",
      "source": [
        "number =input(\"enter a number to check if it is a palindrome number: \")\n",
        "rev_p = number[::-1]\n",
        "if rev_p == number:\n",
        "  print(\"It is a palindrome number\")\n",
        "else:\n",
        "  print(\"It is not a palindrome number\")"
      ],
      "metadata": {
        "id": "2fNThUxbJETh",
        "outputId": "076e369e-b919-454f-800b-5f7d11433a6d",
        "colab": {
          "base_uri": "https://localhost:8080/"
        }
      },
      "execution_count": 4,
      "outputs": [
        {
          "output_type": "stream",
          "name": "stdout",
          "text": [
            "enter a number to check if it is a palindrome number: 12321\n",
            "It is a palindrome number\n"
          ]
        }
      ]
    },
    {
      "cell_type": "code",
      "source": [],
      "metadata": {
        "id": "40pPvDtjJi18"
      },
      "execution_count": null,
      "outputs": []
    }
  ]
}