{
  "cells": [
    {
      "cell_type": "markdown",
      "metadata": {
        "colab_type": "text",
        "id": "view-in-github"
      },
      "source": [
        "<a href=\"https://colab.research.google.com/github/rooftopmunda/Daily-Practice/blob/main/Palindrome_number_Check.ipynb\" target=\"_parent\"><img src=\"https://colab.research.google.com/assets/colab-badge.svg\" alt=\"Open In Colab\"/></a>"
      ]
    },
    {
      "cell_type": "markdown",
      "metadata": {
        "id": "zXcN2XKgEhlR"
      },
      "source": [
        "#Write a program to check if the given number is a palindrome number.\n",
        "A palindrome number is a number that remains the same when its digits are reversed."
      ]
    },
    {
      "cell_type": "code",
      "execution_count": null,
      "metadata": {
        "id": "eIwJEGFhEprz"
      },
      "outputs": [],
      "source": [
        "number = input(\"Enter a four-digit number\")\n",
        "\n",
        "reversed_num = int(number[::-1])\n",
        "\n",
        "if int(reversed_num) == int(number):\n",
        "  print(\"The number is a palindrome\")\n",
        "else:\n",
        "  print(\"The number is not a palindrome\")"
      ]
    },
    {
      "cell_type": "markdown",
      "metadata": {
        "id": "ufe3tUE5KXB-"
      },
      "source": [
        "The code above checks if the given number is a plaindrome or not. It does so by reversing the input in a new variable and using slicing with a negative set. Then  it compares if the numbers are the same and prints the output accordingly."
      ]
    },
    {
      "cell_type": "code",
      "execution_count": null,
      "metadata": {
        "id": "oBhVeeV3G9t-"
      },
      "outputs": [],
      "source": [
        "number = input(\"Enter a number: \")\n",
        "\n",
        "p_check = int(number[::-1])\n",
        "if int(number) == int(p_check):\n",
        "  print(\"The number is a palindrome number\")\n",
        "else:\n",
        "  print(\"The number is not a palindrome number\")"
      ]
    },
    {
      "cell_type": "markdown",
      "metadata": {
        "id": "h00uqY9IxuqS"
      },
      "source": [
        "Practice: 8/7/23\n",
        "The logic is to use slicing and using a negative set (-1) to reverse the number sequence. Then we can compare it to the original number and check if they are the same."
      ]
    },
    {
      "cell_type": "code",
      "execution_count": null,
      "metadata": {
        "id": "-KBWzCFRLHIH"
      },
      "outputs": [],
      "source": [
        "number  = (input(\"Enter a number to check if it is a palindrome number\"))\n",
        "\n",
        "check = int(number[::-1])\n",
        "if int(number) == int(check):\n",
        "  print(\"The number is a palindrome number\")\n",
        "else:\n",
        "  print(\"The number is not a palindrome number\")"
      ]
    },
    {
      "cell_type": "markdown",
      "metadata": {
        "id": "UaY3LPasm_SH"
      },
      "source": [
        "Practice: 9/7/2023\n",
        "\n",
        "I this version I removed the int() casting before comparing the numbers. It isn't necesary to convert the numbers into an iteger as we can perfrom the same operation with strings"
      ]
    },
    {
      "cell_type": "code",
      "execution_count": null,
      "metadata": {
        "id": "kQTAZfqNyKuS"
      },
      "outputs": [],
      "source": [
        "##Palindrome Number Check\n",
        "\n",
        "number = input(\"Enter a number to check if it's a palindrome number\")\n",
        "rev_num = number[::-1]\n",
        "if rev_num == number:\n",
        "    print(\"It is a palindrome number\")\n",
        "else:\n",
        "    print(\"it is not a palindrome number\")"
      ]
    },
    {
      "cell_type": "markdown",
      "metadata": {
        "id": "YE-D5DzOJBrC"
      },
      "source": [
        "practice 10/7/2023"
      ]
    },
    {
      "cell_type": "code",
      "execution_count": null,
      "metadata": {
        "id": "2fNThUxbJETh"
      },
      "outputs": [],
      "source": [
        "number =input(\"enter a number to check if it is a palindrome number: \")\n",
        "rev_p = number[::-1]\n",
        "if rev_p == number:\n",
        "  print(\"It is a palindrome number\")\n",
        "else:\n",
        "  print(\"It is not a palindrome number\")"
      ]
    },
    {
      "cell_type": "markdown",
      "metadata": {
        "id": "kpejm75GzXGM"
      },
      "source": [
        "Practice: 13/7/2023\n",
        "In this version, I have compared the variables by using a == becuase it was explicitly converted to a string. If the variable is compared directly we can use a ="
      ]
    },
    {
      "cell_type": "code",
      "execution_count": null,
      "metadata": {
        "id": "40pPvDtjJi18"
      },
      "outputs": [],
      "source": [
        "number  = input(\"Enter a number to check if it is a plaindrome number!\")\n",
        "rev  = number[::-1]\n",
        "if str(rev) == str(number):\n",
        "  print(\"The number is a palindrome number\")\n",
        "else:\n",
        "  print(\"The number is not a palindrome number\")"
      ]
    },
    {
      "cell_type": "code",
      "execution_count": 4,
      "metadata": {},
      "outputs": [
        {
          "name": "stdout",
          "output_type": "stream",
          "text": [
            "12321 is a palindrome number\n"
          ]
        }
      ],
      "source": [
        "number = input(\"Enter a number to check if it is a palindrome number: \")\n",
        "rev_num = number[::-1]\n",
        "if rev_num == number:\n",
        "    print(f'{number} is a palindrome number')\n",
        "else:\n",
        "    print(f'{number} is not a palindrome number')"
      ]
    },
    {
      "cell_type": "code",
      "execution_count": null,
      "metadata": {},
      "outputs": [],
      "source": []
    }
  ],
  "metadata": {
    "colab": {
      "authorship_tag": "ABX9TyNaGr0un/v+o6tshDduVLGO",
      "include_colab_link": true,
      "provenance": []
    },
    "kernelspec": {
      "display_name": "Python 3",
      "name": "python3"
    },
    "language_info": {
      "codemirror_mode": {
        "name": "ipython",
        "version": 3
      },
      "file_extension": ".py",
      "mimetype": "text/x-python",
      "name": "python",
      "nbconvert_exporter": "python",
      "pygments_lexer": "ipython3",
      "version": "3.10.9"
    }
  },
  "nbformat": 4,
  "nbformat_minor": 0
}
