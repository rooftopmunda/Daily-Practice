{
  "nbformat": 4,
  "nbformat_minor": 0,
  "metadata": {
    "colab": {
      "provenance": [],
      "authorship_tag": "ABX9TyOUgYl8/iTzg/Od7hR/NOLG",
      "include_colab_link": true
    },
    "kernelspec": {
      "name": "python3",
      "display_name": "Python 3"
    },
    "language_info": {
      "name": "python"
    }
  },
  "cells": [
    {
      "cell_type": "markdown",
      "metadata": {
        "id": "view-in-github",
        "colab_type": "text"
      },
      "source": [
        "<a href=\"https://colab.research.google.com/github/rooftopmunda/Daily-Practice/blob/main/Palindrome_number_Check.ipynb\" target=\"_parent\"><img src=\"https://colab.research.google.com/assets/colab-badge.svg\" alt=\"Open In Colab\"/></a>"
      ]
    },
    {
      "cell_type": "markdown",
      "source": [
        "#Write a program to check if the given number is a palindrome number.\n",
        "A palindrome number is a number that remains the same when its digits are reversed."
      ],
      "metadata": {
        "id": "zXcN2XKgEhlR"
      }
    },
    {
      "cell_type": "code",
      "source": [
        "number = input(\"Enter a four-digit number\")\n",
        "\n",
        "reversed_num = int(number[::-1])\n",
        "\n",
        "if int(reversed_num) == int(number):\n",
        "  print(\"The number is a palindrome\")\n",
        "else:\n",
        "  print(\"The number is not a palindrome\")"
      ],
      "metadata": {
        "colab": {
          "base_uri": "https://localhost:8080/"
        },
        "id": "eIwJEGFhEprz",
        "outputId": "6bcff64e-7749-435b-b82f-95c2eba80744"
      },
      "execution_count": 6,
      "outputs": [
        {
          "output_type": "stream",
          "name": "stdout",
          "text": [
            "Enter a four-digit number9876789\n",
            "The number is a palindrome\n"
          ]
        }
      ]
    },
    {
      "cell_type": "markdown",
      "source": [
        "The code above checks if the given number is a plaindrome or not. It does so by reversing the input in a new variable and using slicing with a negative set. Then  it compares if the numbers are the same and prints the output accordingly."
      ],
      "metadata": {
        "id": "ufe3tUE5KXB-"
      }
    },
    {
      "cell_type": "code",
      "source": [
        "number = input(\"Enter a number: \")\n",
        "\n",
        "p_check = int(number[::-1])\n",
        "if int(number) == int(p_check):\n",
        "  print(\"The number is a palindrome number\")\n",
        "else:\n",
        "  print(\"The number is not a palindrome number\")"
      ],
      "metadata": {
        "colab": {
          "base_uri": "https://localhost:8080/"
        },
        "id": "oBhVeeV3G9t-",
        "outputId": "44fe75a8-2afc-4430-9d22-8089df16ce86"
      },
      "execution_count": 7,
      "outputs": [
        {
          "output_type": "stream",
          "name": "stdout",
          "text": [
            "Enter a number: 12321\n",
            "The number is a palindrome number\n"
          ]
        }
      ]
    },
    {
      "cell_type": "code",
      "source": [],
      "metadata": {
        "id": "-KBWzCFRLHIH"
      },
      "execution_count": null,
      "outputs": []
    }
  ]
}