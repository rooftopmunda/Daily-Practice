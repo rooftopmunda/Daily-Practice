{
 "cells": [
  {
   "cell_type": "markdown",
   "metadata": {},
   "source": [
    "# Fibonacci Sequence\n",
    "\n",
    "* Fibonacci sequence is a sequence in which each number is the sum of the two preceding ones. \n",
    "* Numbers that are part of the Fibonacci sequence are known as Fibonacci numbers, commonly denoted by Fn.\n",
    "\n",
    "* Applications of Fibonacci numbers include computer algorithms such as the Fibonacci search technique, the Fibonacci heap data structure, and graphs called Fibonacci cubes.\n",
    "* They also appear in biological settings, such as branching in trees, the arrangement of leaves on a stem, the fruit sprouts of a pineapple, etc.\n",
    "\n",
    "### Formula for Fibonacci Sequence : Fn = F(n-1) + F(n-2) for n > 1.\n",
    "\n",
    "* Write a recursive function to determine the fibonacci number given at a specific position entered by the user.\n",
    "\n",
    "* Fibonacci sequence up to 10 terms: [0, 1, 1, 2, 3, 5, 8, 13, 21, 34]\n",
    "\n"
   ]
  },
  {
   "cell_type": "code",
   "execution_count": null,
   "metadata": {},
   "outputs": [],
   "source": [
    "def fibonacci_sequence(n):\n",
    "    if n <=0:\n",
    "        return None\n",
    "    if n == 1:\n",
    "        return 0\n",
    "    if n == 2:\n",
    "        return 1\n",
    "    \n",
    "    return fibonacci_sequence(n-1) + fibonacci_sequence(n-2)\n",
    "\n",
    "user_inp = int(input(\"Enter the position to find the number in the sequence: \"))\n",
    "result = fibonacci_sequence(user_inp)\n",
    "print(f\"Fibonacci number at position {user_inp} in the Fibonacci sequence is: {result}\")\n"
   ]
  },
  {
   "cell_type": "markdown",
   "metadata": {},
   "source": [
    "# Write a program (Recursive Function) to get the first 10 terms in the Fibonacci sequence"
   ]
  },
  {
   "cell_type": "code",
   "execution_count": 3,
   "metadata": {},
   "outputs": [
    {
     "name": "stdout",
     "output_type": "stream",
     "text": [
      "Fibonacci sequence up to 10 terms: [0, 1, 1, 2, 3, 5, 8, 13, 21, 34]\n"
     ]
    }
   ],
   "source": [
    "def fibonacci_recursive(n):\n",
    "    if n == 0:\n",
    "        return []\n",
    "    elif n == 1:\n",
    "        return [0]\n",
    "    elif n == 2:\n",
    "        return [0, 1]\n",
    "    else:\n",
    "        prev_sequence = fibonacci_recursive(n - 1)\n",
    "        next_term = prev_sequence[-1] + prev_sequence[-2]\n",
    "        return prev_sequence + [next_term]\n",
    "\n",
    "# Example usage\n",
    "num_terms = 10\n",
    "sequence = fibonacci_recursive(num_terms)\n",
    "print(\"Fibonacci sequence up to\", num_terms, \"terms:\", sequence)"
   ]
  },
  {
   "cell_type": "code",
   "execution_count": null,
   "metadata": {},
   "outputs": [],
   "source": [
    "def fibonacci_sequence(num_terms):\n",
    "    fibonacci_sequence = [0, 1]\n",
    "\n",
    "    while len(fibonacci_sequence) < num_terms:\n",
    "        next_term = fibonacci_sequence[-1] + fibonacci_sequence[-2]\n",
    "        fibonacci_sequence.append(next_term)\n",
    "\n",
    "    return fibonacci_sequence\n",
    "\n",
    "# Example usage\n",
    "num_terms = 10\n",
    "sequence = fibonacci_sequence(num_terms)\n",
    "print(\"Fibonacci sequence up to\", num_terms, \"terms:\", sequence)"
   ]
  },
  {
   "cell_type": "code",
   "execution_count": 10,
   "metadata": {},
   "outputs": [
    {
     "name": "stdout",
     "output_type": "stream",
     "text": [
      "[0, 1, 1, 2, 3, 5, 8, 13, 21, 34]\n"
     ]
    }
   ],
   "source": [
    "def fs(no_t):\n",
    "    seq = [0,1]\n",
    "    while len(seq) < no_t:\n",
    "        nt = seq[-1] + seq[-2]\n",
    "        seq.append(nt)\n",
    "        \n",
    "    return seq\n",
    "\n",
    "terms = int(input(\"Number of terms: \"))\n",
    "f_seq = fs(terms)\n",
    "print(f_seq)"
   ]
  },
  {
   "cell_type": "markdown",
   "metadata": {},
   "source": [
    "## Iterable Function to find the Fibonacci Sequence"
   ]
  },
  {
   "cell_type": "code",
   "execution_count": null,
   "metadata": {},
   "outputs": [],
   "source": [
    "def fibonacci_iterative(n):\n",
    "    if n <= 0:\n",
    "        return None\n",
    "    if n == 1:\n",
    "        return 0\n",
    "\n",
    "    fib_prev = 0\n",
    "    fib_current = 1\n",
    "\n",
    "    for _ in range(2, n):\n",
    "        fib_next = fib_prev + fib_current\n",
    "        fib_prev = fib_current\n",
    "        fib_current = fib_next\n",
    "\n",
    "    return fib_current\n",
    "\n",
    "# Example usage\n",
    "result = fibonacci_iterative(7)\n",
    "print(\"Fibonacci number at position 7:\", result)  # Output: Fibonacci number at position 7: 8"
   ]
  },
  {
   "cell_type": "code",
   "execution_count": null,
   "metadata": {},
   "outputs": [],
   "source": []
  }
 ],
 "metadata": {
  "kernelspec": {
   "display_name": "Python 3",
   "language": "python",
   "name": "python3"
  },
  "language_info": {
   "codemirror_mode": {
    "name": "ipython",
    "version": 3
   },
   "file_extension": ".py",
   "mimetype": "text/x-python",
   "name": "python",
   "nbconvert_exporter": "python",
   "pygments_lexer": "ipython3",
   "version": "3.11.3"
  },
  "orig_nbformat": 4
 },
 "nbformat": 4,
 "nbformat_minor": 2
}
