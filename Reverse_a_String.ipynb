{
  "nbformat": 4,
  "nbformat_minor": 0,
  "metadata": {
    "colab": {
      "provenance": [],
      "authorship_tag": "ABX9TyNlgZznk6ZIHp7MjxAIKsyo",
      "include_colab_link": true
    },
    "kernelspec": {
      "name": "python3",
      "display_name": "Python 3"
    },
    "language_info": {
      "name": "python"
    }
  },
  "cells": [
    {
      "cell_type": "markdown",
      "metadata": {
        "id": "view-in-github",
        "colab_type": "text"
      },
      "source": [
        "<a href=\"https://colab.research.google.com/github/rooftopmunda/Daily-Practice/blob/main/Reverse_a_String.ipynb\" target=\"_parent\"><img src=\"https://colab.research.google.com/assets/colab-badge.svg\" alt=\"Open In Colab\"/></a>"
      ]
    },
    {
      "cell_type": "markdown",
      "source": [
        "#Write a program that takes a string as input and prints every letter in the string in reverse order."
      ],
      "metadata": {
        "id": "Skwr9P0bvzxR"
      }
    },
    {
      "cell_type": "code",
      "source": [
        "string = str(input(\"Enter a sentence\"))\n",
        "rev_str = string[::-1]\n",
        "print(rev_str)"
      ],
      "metadata": {
        "colab": {
          "base_uri": "https://localhost:8080/"
        },
        "id": "KDx85m7Sv0kR",
        "outputId": "64442789-53de-42c8-c266-a958880b5fbf"
      },
      "execution_count": 1,
      "outputs": [
        {
          "output_type": "stream",
          "name": "stdout",
          "text": [
            "Enter a sentenceHello I am sufal\n",
            "lafus ma I olleH\n"
          ]
        }
      ]
    },
    {
      "cell_type": "markdown",
      "source": [
        "#Print the same string, but this time ensure to print the entire sentence in reverse instead of the letters."
      ],
      "metadata": {
        "id": "wl6cP6nqyhfZ"
      }
    },
    {
      "cell_type": "code",
      "source": [
        "sentence = input(\"Enter a sentence: \")\n",
        "words = sentence.split()\n",
        "reversed_sentence = ' '.join(reversed(words))\n",
        "print(\"Reversed sentence:\", reversed_sentence)"
      ],
      "metadata": {
        "id": "BA5-1gyayEcA"
      },
      "execution_count": null,
      "outputs": []
    },
    {
      "cell_type": "code",
      "source": [],
      "metadata": {
        "id": "XtXxr6rgy2Uh"
      },
      "execution_count": null,
      "outputs": []
    }
  ]
}