{
  "nbformat": 4,
  "nbformat_minor": 0,
  "metadata": {
    "colab": {
      "provenance": [],
      "authorship_tag": "ABX9TyP1Ve23RVS5HLk6FiF8b+VD",
      "include_colab_link": true
    },
    "kernelspec": {
      "name": "python3",
      "display_name": "Python 3"
    },
    "language_info": {
      "name": "python"
    }
  },
  "cells": [
    {
      "cell_type": "markdown",
      "metadata": {
        "id": "view-in-github",
        "colab_type": "text"
      },
      "source": [
        "<a href=\"https://colab.research.google.com/github/rooftopmunda/Daily-Practice/blob/main/Reverse_a_String.ipynb\" target=\"_parent\"><img src=\"https://colab.research.google.com/assets/colab-badge.svg\" alt=\"Open In Colab\"/></a>"
      ]
    },
    {
      "cell_type": "markdown",
      "source": [
        "#Write a program that takes a string as input and prints every letter in the string in reverse order."
      ],
      "metadata": {
        "id": "Skwr9P0bvzxR"
      }
    },
    {
      "cell_type": "code",
      "source": [
        "string = str(input(\"Enter a sentence\"))\n",
        "rev_str = string[::-1]\n",
        "print(rev_str)"
      ],
      "metadata": {
        "colab": {
          "base_uri": "https://localhost:8080/"
        },
        "id": "KDx85m7Sv0kR",
        "outputId": "64442789-53de-42c8-c266-a958880b5fbf"
      },
      "execution_count": null,
      "outputs": [
        {
          "output_type": "stream",
          "name": "stdout",
          "text": [
            "Enter a sentenceHello I am sufal\n",
            "lafus ma I olleH\n"
          ]
        }
      ]
    },
    {
      "cell_type": "markdown",
      "source": [
        "#Print the same string, but this time ensure to print the entire sentence in reverse instead of the letters."
      ],
      "metadata": {
        "id": "wl6cP6nqyhfZ"
      }
    },
    {
      "cell_type": "code",
      "source": [
        "sentence = input(\"Enter a sentence: \")\n",
        "words = sentence.split()\n",
        "reversed_sentence = ' '.join(reversed(words))\n",
        "print(\"Reversed sentence:\", reversed_sentence)"
      ],
      "metadata": {
        "id": "BA5-1gyayEcA"
      },
      "execution_count": null,
      "outputs": []
    },
    {
      "cell_type": "code",
      "source": [
        "sentence = input(\"Enter a sentence\")\n",
        "words = sentence.split()\n",
        "rev_sent = \" \".join(reversed(words))\n",
        "print(rev_sent)"
      ],
      "metadata": {
        "id": "XtXxr6rgy2Uh",
        "outputId": "5e8acf57-2c67-4667-a916-f3fabf8abe38",
        "colab": {
          "base_uri": "https://localhost:8080/"
        }
      },
      "execution_count": null,
      "outputs": [
        {
          "output_type": "stream",
          "name": "stdout",
          "text": [
            "Enter a sentenceI love nagpur\n",
            "nagpur love I\n"
          ]
        }
      ]
    },
    {
      "cell_type": "markdown",
      "source": [
        "In the code above, we take a sentence as an input from the user and then we assign the sentence to a variable. We split each word by using the split method and then reverse the words by using the reversed() method. Also we add a space \" \" between the words and use the .join function to do so. FInally we print the reversed sentence."
      ],
      "metadata": {
        "id": "QPDflxCFJlz7"
      }
    },
    {
      "cell_type": "code",
      "source": [
        "sentence = input(\"Enter a sentence\")\n",
        "words = sentence.split()\n",
        "rev_sen = \" \".join(reversed(words))\n",
        "print(\"Reversed Words:\", rev_sen)"
      ],
      "metadata": {
        "id": "Kr93c-rQJWlL",
        "outputId": "76359eaf-ccec-4490-afa1-86211a728709",
        "colab": {
          "base_uri": "https://localhost:8080/"
        }
      },
      "execution_count": null,
      "outputs": [
        {
          "output_type": "stream",
          "name": "stdout",
          "text": [
            "Enter a sentenceHello My name is sufal\n",
            "Reversed Words: sufal is name My Hello\n"
          ]
        }
      ]
    },
    {
      "cell_type": "code",
      "source": [
        "sentence = input(\"Enter a sentence\")\n",
        "rev_sentence = sentence[::-1]\n",
        "print(rev_sentence)\n"
      ],
      "metadata": {
        "id": "0X1GXWviKaFS",
        "outputId": "5d55cb34-a7a3-4e1a-d424-062ef83e249f",
        "colab": {
          "base_uri": "https://localhost:8080/"
        }
      },
      "execution_count": null,
      "outputs": [
        {
          "output_type": "stream",
          "name": "stdout",
          "text": [
            "Enter a sentenceHi I am sufal\n",
            "lafus ma I iH\n"
          ]
        }
      ]
    },
    {
      "cell_type": "markdown",
      "source": [
        "Practice: 8/7/23"
      ],
      "metadata": {
        "id": "obBoj3sz0P8l"
      }
    },
    {
      "cell_type": "code",
      "source": [
        "sentence = input(\"Enter a sentence to reverse every letter in it: \")\n",
        "rev_sen = sentence[::-1]\n",
        "print(rev_sen)"
      ],
      "metadata": {
        "id": "HlwPzf9NKotp",
        "outputId": "a208c4f0-5073-4cf5-cf20-9a9d4151ceac",
        "colab": {
          "base_uri": "https://localhost:8080/"
        }
      },
      "execution_count": null,
      "outputs": [
        {
          "output_type": "stream",
          "name": "stdout",
          "text": [
            "Enter a sentence to reverse every letter in it: Hi I am sufal banerjee\n",
            "eejrenab lafus ma I iH\n"
          ]
        }
      ]
    },
    {
      "cell_type": "markdown",
      "source": [
        "Reverse the sentence but each word and not individual letter:\n",
        "The logic here is to split the sentence word by word, then assign each word to a new variable. Then, use the reversed KW to reverse the order of the word and join them with the .join method."
      ],
      "metadata": {
        "id": "5XMOwxNg0viu"
      }
    },
    {
      "cell_type": "code",
      "source": [
        "sentence = input(\"Enter a sentence to reverse it word by word\")\n",
        "reversed_sentence = sentence.split()\n",
        "rev = \" \".join(reversed(reversed_sentence))\n",
        "print(rev)"
      ],
      "metadata": {
        "id": "_xR2UN8h0njT",
        "outputId": "79d8eb82-3432-4165-ccc8-fb7f29fe0b5d",
        "colab": {
          "base_uri": "https://localhost:8080/"
        }
      },
      "execution_count": null,
      "outputs": [
        {
          "output_type": "stream",
          "name": "stdout",
          "text": [
            "Enter a sentence to reverse it word by wordI love nagpur very much\n",
            "much very nagpur love I\n"
          ]
        }
      ]
    },
    {
      "cell_type": "code",
      "source": [
        "sen = input(\"Enter a sentence to reverse it\")\n",
        "i_words = sen.split()\n",
        "reversed = \" \".join(reversed(i_words))\n",
        "print(reversed)"
      ],
      "metadata": {
        "id": "ziMuBPmL14U9"
      },
      "execution_count": null,
      "outputs": []
    },
    {
      "cell_type": "markdown",
      "source": [
        "Practice: 9/7/2023\n",
        "\n",
        "No changes made in the code"
      ],
      "metadata": {
        "id": "hXg3fqwIvF3P"
      }
    },
    {
      "cell_type": "code",
      "source": [
        "string = input(\"Enter a sentence to reverse it word by word\")\n",
        "rev_sen = string.split()\n",
        "split = \" \".join(reversed(rev_sen))\n",
        "print(split)"
      ],
      "metadata": {
        "id": "_D1wR1Og3qQ_"
      },
      "execution_count": null,
      "outputs": []
    }
  ]
}