{
  "nbformat": 4,
  "nbformat_minor": 0,
  "metadata": {
    "colab": {
      "provenance": [],
      "authorship_tag": "ABX9TyNcRmMYe4aeyIq1Wvz+g5ni",
      "include_colab_link": true
    },
    "kernelspec": {
      "name": "python3",
      "display_name": "Python 3"
    },
    "language_info": {
      "name": "python"
    }
  },
  "cells": [
    {
      "cell_type": "markdown",
      "metadata": {
        "id": "view-in-github",
        "colab_type": "text"
      },
      "source": [
        "<a href=\"https://colab.research.google.com/github/rooftopmunda/Daily-Practice/blob/main/Reverse_a_String.ipynb\" target=\"_parent\"><img src=\"https://colab.research.google.com/assets/colab-badge.svg\" alt=\"Open In Colab\"/></a>"
      ]
    },
    {
      "cell_type": "markdown",
      "source": [
        "#Write a program that takes a string as input and prints every letter in the string in reverse order."
      ],
      "metadata": {
        "id": "Skwr9P0bvzxR"
      }
    },
    {
      "cell_type": "code",
      "source": [
        "string = str(input(\"Enter a sentence\"))\n",
        "rev_str = string[::-1]\n",
        "print(rev_str)"
      ],
      "metadata": {
        "id": "KDx85m7Sv0kR"
      },
      "execution_count": null,
      "outputs": []
    },
    {
      "cell_type": "markdown",
      "source": [
        "#Print the same string, but this time ensure to print the entire sentence in reverse instead of the letters."
      ],
      "metadata": {
        "id": "wl6cP6nqyhfZ"
      }
    },
    {
      "cell_type": "code",
      "source": [
        "sentence = input(\"Enter a sentence: \")\n",
        "words = sentence.split()\n",
        "reversed_sentence = ' '.join(reversed(words))\n",
        "print(\"Reversed sentence:\", reversed_sentence)"
      ],
      "metadata": {
        "id": "BA5-1gyayEcA"
      },
      "execution_count": null,
      "outputs": []
    },
    {
      "cell_type": "code",
      "source": [
        "sentence = input(\"Enter a sentence\")\n",
        "words = sentence.split()\n",
        "rev_sent = \" \".join(reversed(words))\n",
        "print(rev_sent)"
      ],
      "metadata": {
        "id": "XtXxr6rgy2Uh",
        "outputId": "5e8acf57-2c67-4667-a916-f3fabf8abe38",
        "colab": {
          "base_uri": "https://localhost:8080/"
        }
      },
      "execution_count": null,
      "outputs": [
        {
          "output_type": "stream",
          "name": "stdout",
          "text": [
            "Enter a sentenceI love nagpur\n",
            "nagpur love I\n"
          ]
        }
      ]
    },
    {
      "cell_type": "markdown",
      "source": [
        "In the code above, we take a sentence as an input from the user and then we assign the sentence to a variable. We split each word by using the split method and then reverse the words by using the reversed() method. Also we add a space \" \" between the words and use the .join function to do so. FInally we print the reversed sentence."
      ],
      "metadata": {
        "id": "QPDflxCFJlz7"
      }
    },
    {
      "cell_type": "code",
      "source": [
        "sentence = input(\"Enter a sentence\")\n",
        "words = sentence.split()\n",
        "rev_sen = \" \".join(reversed(words))\n",
        "print(\"Reversed Words:\", rev_sen)"
      ],
      "metadata": {
        "id": "Kr93c-rQJWlL"
      },
      "execution_count": null,
      "outputs": []
    },
    {
      "cell_type": "code",
      "source": [
        "sentence = input(\"Enter a sentence\")\n",
        "rev_sentence = sentence[::-1]\n",
        "print(rev_sentence)\n"
      ],
      "metadata": {
        "id": "0X1GXWviKaFS"
      },
      "execution_count": null,
      "outputs": []
    },
    {
      "cell_type": "markdown",
      "source": [
        "Practice: 8/7/23"
      ],
      "metadata": {
        "id": "obBoj3sz0P8l"
      }
    },
    {
      "cell_type": "code",
      "source": [
        "sentence = input(\"Enter a sentence to reverse every letter in it: \")\n",
        "rev_sen = sentence[::-1]\n",
        "print(rev_sen)"
      ],
      "metadata": {
        "id": "HlwPzf9NKotp"
      },
      "execution_count": null,
      "outputs": []
    },
    {
      "cell_type": "markdown",
      "source": [
        "Reverse the sentence but each word and not individual letter:\n",
        "The logic here is to split the sentence word by word, then assign each word to a new variable. Then, use the reversed KW to reverse the order of the word and join them with the .join method."
      ],
      "metadata": {
        "id": "5XMOwxNg0viu"
      }
    },
    {
      "cell_type": "code",
      "source": [
        "sentence = input(\"Enter a sentence to reverse it word by word\")\n",
        "reversed_sentence = sentence.split()\n",
        "rev = \" \".join(reversed(reversed_sentence))\n",
        "print(rev)"
      ],
      "metadata": {
        "id": "_xR2UN8h0njT"
      },
      "execution_count": null,
      "outputs": []
    },
    {
      "cell_type": "code",
      "source": [
        "sen = input(\"Enter a sentence to reverse it\")\n",
        "i_words = sen.split()\n",
        "reversed = \" \".join(reversed(i_words))\n",
        "print(reversed)"
      ],
      "metadata": {
        "id": "ziMuBPmL14U9"
      },
      "execution_count": null,
      "outputs": []
    },
    {
      "cell_type": "markdown",
      "source": [
        "Practice: 9/7/2023\n",
        "\n",
        "No changes made in the code"
      ],
      "metadata": {
        "id": "hXg3fqwIvF3P"
      }
    },
    {
      "cell_type": "code",
      "source": [
        "string = input(\"Enter a sentence to reverse it word by word\")\n",
        "rev_sen = string.split()\n",
        "split = \" \".join(reversed(rev_sen))\n",
        "print(split)"
      ],
      "metadata": {
        "id": "_D1wR1Og3qQ_"
      },
      "execution_count": null,
      "outputs": []
    },
    {
      "cell_type": "markdown",
      "source": [
        "Practice: 10/7/2023"
      ],
      "metadata": {
        "id": "9SXN_SkGLjJE"
      }
    },
    {
      "cell_type": "code",
      "source": [
        "string = input(\"Enter a sentence to reverse it word-by-word: \")\n",
        "rev_str = string.split()\n",
        "r_str = \" \".join(reversed(rev_str))\n",
        "print(r_str)"
      ],
      "metadata": {
        "id": "8mvv5UJrLsCh"
      },
      "execution_count": null,
      "outputs": []
    },
    {
      "cell_type": "code",
      "source": [
        "#Practice 13/7/2023\n",
        "\n",
        "string = input(\"Enter a sentence to reverse it: \")\n",
        "rev_string = string.split()\n",
        "output = \" \".join(reversed(rev_string))\n",
        "print(output)"
      ],
      "metadata": {
        "id": "xFmTpLK5l0ST"
      },
      "execution_count": null,
      "outputs": []
    },
    {
      "cell_type": "code",
      "source": [],
      "metadata": {
        "id": "6ZcPoTtOmryB"
      },
      "execution_count": null,
      "outputs": []
    }
  ]
}