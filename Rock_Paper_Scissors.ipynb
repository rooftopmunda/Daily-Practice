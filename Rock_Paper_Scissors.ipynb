{
 "cells": [
  {
   "cell_type": "code",
   "execution_count": null,
   "metadata": {},
   "outputs": [],
   "source": [
    "import random\n",
    "\n",
    "while True: #This initiates an infinite loop that will continue running until it's explicitly stopped.\n",
    "\n",
    "    choices = [\"rock\", \"paper\", \"scissors\"]\n",
    "\n",
    "    computer = random.choice(choices)\n",
    "    player = None #None is holding the value until we get a real response from the user\n",
    "\n",
    "    while player not in choices: #used to prevent invalid input from the user. \n",
    "        player = input(\"rock, paper or scissors?: \").lower()\n",
    "\n",
    "    if player == computer:\n",
    "        print(\"computer: \",computer)\n",
    "        print(\"Player: \",player)\n",
    "        print(\"Tie!\")\n",
    "    \n",
    "    elif player == \"rock\":\n",
    "        if computer == \"paper\":\n",
    "            print(\"computer: \",computer)\n",
    "            print(\"Player: \",player)\n",
    "            print(\"You lose!\")\n",
    "        if computer == \"scissors\":\n",
    "            print(\"computer: \",computer)\n",
    "            print(\"Player: \",player)\n",
    "            print(\"You Win!\")\n",
    "        \n",
    "    elif player == \"scissors\":\n",
    "        if computer == \"rock\":\n",
    "            print(\"computer: \",computer)\n",
    "            print(\"Player: \",player)\n",
    "            print(\"You lose!\")\n",
    "        if computer == \"paper\":\n",
    "            print(\"computer: \",computer)\n",
    "            print(\"Player: \",player)\n",
    "            print(\"You Win!\")\n",
    "        \n",
    "    elif player == \"paper\":\n",
    "        if computer == \"scissors\":\n",
    "            print(\"computer: \",computer)\n",
    "            print(\"Player: \",player)\n",
    "            print(\"You lose!\")\n",
    "        if computer == \"rock\":\n",
    "            print(\"computer: \",computer)\n",
    "            print(\"Player: \",player)\n",
    "            print(\"You Win!\")\n",
    "        \n",
    "    play_again = input(\"Play again? (y/n): \").lower()\n",
    "\n",
    "    if play_again != \"y\":\n",
    "        break\n",
    "    \n",
    "print(\"Bye!\")"
   ]
  }
 ],
 "metadata": {
  "kernelspec": {
   "display_name": "base",
   "language": "python",
   "name": "python3"
  },
  "language_info": {
   "codemirror_mode": {
    "name": "ipython",
    "version": 3
   },
   "file_extension": ".py",
   "mimetype": "text/x-python",
   "name": "python",
   "nbconvert_exporter": "python",
   "pygments_lexer": "ipython3",
   "version": "3.10.9"
  },
  "orig_nbformat": 4
 },
 "nbformat": 4,
 "nbformat_minor": 2
}
