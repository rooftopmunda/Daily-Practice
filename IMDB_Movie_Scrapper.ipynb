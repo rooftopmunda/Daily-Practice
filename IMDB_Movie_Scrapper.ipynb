{
 "cells": [
  {
   "cell_type": "code",
   "execution_count": null,
   "metadata": {},
   "outputs": [],
   "source": [
    "from bs4 import BeautifulSoup\n",
    "import requests\n",
    "import pandas as pd\n",
    "\n",
    "headers = {\n",
    "    'User-Agent': 'Mozilla/5.0 (Windows NT 10.0; Win64; x64) AppleWebKit/537.36 (KHTML, like Gecko) Chrome/93.0.4577.63 Safari/537.36',\n",
    "}\n",
    "\n",
    "url = 'https://www.imdb.com/chart/top/?ref_=nv_mv_250'\n",
    "response = requests.get(url, headers=headers)\n",
    "\n",
    "if response.status_code == 200:\n",
    "    html_content = response.text\n",
    "else:\n",
    "    print(f\"Request failed with status code {response.status_code}\")\n",
    "\n",
    "soup = BeautifulSoup(html_content,'html.parser')\n",
    "\n",
    "#movie rating\n",
    "cf = \"ipc-title-link-wrapper\"\n",
    "movie_titles = soup.find_all(\"a\", class_ = cf)\n",
    "\n",
    "movie_list = []\n",
    "\n",
    "for movie in movie_titles[0:250]:\n",
    "    movie_name = movie.text.split(\".\")[1].strip()\n",
    "    movie_list.append(movie_name)\n",
    "\n",
    "# movie rating\n",
    "rating_tag = \"ipc-rating-star ipc-rating-star--base ipc-rating-star--imdb ratingGroup--imdb-rating\"\n",
    "movie_rating = soup.find_all('span', class_ = rating_tag)\n",
    "\n",
    "rating_list = []\n",
    "\n",
    "for rating in movie_rating:\n",
    "    rating_value = rating.text[:3]\n",
    "    rating_list.append(rating_value)\n",
    "\n",
    "#movie year\n",
    "year_tag = \"sc-b51a3d33-5 ibuRZu cli-title-metadata\"\n",
    "movie_year = soup.find_all('div', class_ = year_tag)\n",
    "\n",
    "year_list = []\n",
    "\n",
    "for year in movie_year:\n",
    "    year_value = year.text[:4]\n",
    "    year_list.append(year_value)\n",
    "\n",
    "data = {'Movie Name': movie_list, 'Movie Rating': rating_list, 'Year of Release': year_list}\n",
    "df = pd.DataFrame(data)\n",
    "df.to_excel('imdb.xlsx', index = None)"
   ]
  },
  {
   "cell_type": "code",
   "execution_count": null,
   "metadata": {},
   "outputs": [],
   "source": []
  },
  {
   "cell_type": "code",
   "execution_count": null,
   "metadata": {},
   "outputs": [],
   "source": []
  },
  {
   "cell_type": "code",
   "execution_count": null,
   "metadata": {},
   "outputs": [],
   "source": []
  },
  {
   "cell_type": "code",
   "execution_count": null,
   "metadata": {},
   "outputs": [],
   "source": []
  }
 ],
 "metadata": {
  "kernelspec": {
   "display_name": "base",
   "language": "python",
   "name": "python3"
  },
  "language_info": {
   "codemirror_mode": {
    "name": "ipython",
    "version": 3
   },
   "file_extension": ".py",
   "mimetype": "text/x-python",
   "name": "python",
   "nbconvert_exporter": "python",
   "pygments_lexer": "ipython3",
   "version": "3.10.9"
  },
  "orig_nbformat": 4
 },
 "nbformat": 4,
 "nbformat_minor": 2
}
