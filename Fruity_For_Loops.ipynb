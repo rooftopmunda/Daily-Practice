{
  "nbformat": 4,
  "nbformat_minor": 0,
  "metadata": {
    "colab": {
      "provenance": [],
      "authorship_tag": "ABX9TyPA6t1hQrovjLoRGNUVeL8K",
      "include_colab_link": true
    },
    "kernelspec": {
      "name": "python3",
      "display_name": "Python 3"
    },
    "language_info": {
      "name": "python"
    }
  },
  "cells": [
    {
      "cell_type": "markdown",
      "metadata": {
        "id": "view-in-github",
        "colab_type": "text"
      },
      "source": [
        "<a href=\"https://colab.research.google.com/github/rooftopmunda/Daily-Practice/blob/main/Fruity_For_Loops.ipynb\" target=\"_parent\"><img src=\"https://colab.research.google.com/assets/colab-badge.svg\" alt=\"Open In Colab\"/></a>"
      ]
    },
    {
      "cell_type": "markdown",
      "source": [
        "You have a list of fruits:\n",
        "\n",
        "fruits = [\"apple\", \"banana\", \"cherry\", \"orange\", \"apricot\", \"custard apple\", \"grapes\"]\n",
        "\n",
        "Write a Python program that iterates through each fruit in the list and displays both the fruit name and its individual characters."
      ],
      "metadata": {
        "id": "btnEjZKz3f34"
      }
    },
    {
      "cell_type": "code",
      "source": [
        "fruits = [\"apple\", \"banana\", \"cherry\", \"orange\", \"apricot\", \"custard apple\", \"grapes\"]\n",
        "for fruit in fruits:\n",
        "  print(fruit)\n",
        "\n",
        "  for f in fruit:\n",
        "    print(f)"
      ],
      "metadata": {
        "colab": {
          "base_uri": "https://localhost:8080/"
        },
        "id": "PgBKvDNZ3mQb",
        "outputId": "51abf1da-c31a-4bfc-9823-7e0254d2b335"
      },
      "execution_count": 2,
      "outputs": [
        {
          "output_type": "stream",
          "name": "stdout",
          "text": [
            "apple\n",
            "a\n",
            "p\n",
            "p\n",
            "l\n",
            "e\n",
            "banana\n",
            "b\n",
            "a\n",
            "n\n",
            "a\n",
            "n\n",
            "a\n",
            "cherry\n",
            "c\n",
            "h\n",
            "e\n",
            "r\n",
            "r\n",
            "y\n",
            "orange\n",
            "o\n",
            "r\n",
            "a\n",
            "n\n",
            "g\n",
            "e\n",
            "apricot\n",
            "a\n",
            "p\n",
            "r\n",
            "i\n",
            "c\n",
            "o\n",
            "t\n",
            "custard apple\n",
            "c\n",
            "u\n",
            "s\n",
            "t\n",
            "a\n",
            "r\n",
            "d\n",
            " \n",
            "a\n",
            "p\n",
            "p\n",
            "l\n",
            "e\n",
            "grapes\n",
            "g\n",
            "r\n",
            "a\n",
            "p\n",
            "e\n",
            "s\n"
          ]
        }
      ]
    },
    {
      "cell_type": "code",
      "source": [],
      "metadata": {
        "id": "spFsQ_qF4_TV"
      },
      "execution_count": null,
      "outputs": []
    }
  ]
}