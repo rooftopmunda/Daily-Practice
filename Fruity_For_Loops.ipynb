{
  "cells": [
    {
      "cell_type": "markdown",
      "metadata": {
        "colab_type": "text",
        "id": "view-in-github"
      },
      "source": [
        "<a href=\"https://colab.research.google.com/github/rooftopmunda/Daily-Practice/blob/main/Fruity_For_Loops.ipynb\" target=\"_parent\"><img src=\"https://colab.research.google.com/assets/colab-badge.svg\" alt=\"Open In Colab\"/></a>"
      ]
    },
    {
      "cell_type": "markdown",
      "metadata": {
        "id": "btnEjZKz3f34"
      },
      "source": [
        "You have a list of fruits:\n",
        "\n",
        "fruits = [\"apple\", \"banana\", \"cherry\", \"orange\", \"apricot\", \"custard apple\", \"grapes\"]\n",
        "\n",
        "Write a Python program that iterates through each fruit in the list and displays both the fruit name and its individual characters."
      ]
    },
    {
      "cell_type": "code",
      "execution_count": null,
      "metadata": {
        "id": "PgBKvDNZ3mQb"
      },
      "outputs": [],
      "source": [
        "fruits = [\"apple\", \"banana\", \"cherry\", \"orange\", \"apricot\", \"custard apple\", \"grapes\"]\n",
        "for fruit in fruits:\n",
        "  print(fruit)\n",
        "\n",
        "  for f in fruit:\n",
        "    print(f)"
      ]
    },
    {
      "cell_type": "code",
      "execution_count": null,
      "metadata": {
        "id": "spFsQ_qF4_TV"
      },
      "outputs": [],
      "source": [
        "fruits = [\"apple\", \"banana\", \"cherry\", \"orange\", \"apricot\", \"custard apple\", \"grapes\"]\n",
        "for fruit in fruits:\n",
        "  print(fruit)\n",
        "  for f in fruit:\n",
        "    print(f)"
      ]
    },
    {
      "cell_type": "code",
      "execution_count": null,
      "metadata": {
        "id": "HxlT_L2sMtjD"
      },
      "outputs": [],
      "source": [
        "fruits = [\"apple\", \"banana\", \"cherry\", \"orange\", \"apricot\", \"custard apple\", \"grapes\"]\n",
        "for fruit in fruits:\n",
        "    print(fruit)\n",
        "    for f in fruit:\n",
        "        print(f)"
      ]
    },
    {
      "cell_type": "code",
      "execution_count": null,
      "metadata": {},
      "outputs": [],
      "source": []
    }
  ],
  "metadata": {
    "colab": {
      "authorship_tag": "ABX9TyPbNREVpHMeyVaIJaFhBquJ",
      "include_colab_link": true,
      "provenance": []
    },
    "kernelspec": {
      "display_name": "Python 3",
      "name": "python3"
    },
    "language_info": {
      "codemirror_mode": {
        "name": "ipython",
        "version": 3
      },
      "file_extension": ".py",
      "mimetype": "text/x-python",
      "name": "python",
      "nbconvert_exporter": "python",
      "pygments_lexer": "ipython3",
      "version": "3.10.9"
    }
  },
  "nbformat": 4,
  "nbformat_minor": 0
}
