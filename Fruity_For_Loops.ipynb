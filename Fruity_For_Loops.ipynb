{
  "nbformat": 4,
  "nbformat_minor": 0,
  "metadata": {
    "colab": {
      "provenance": [],
      "authorship_tag": "ABX9TyPbNREVpHMeyVaIJaFhBquJ",
      "include_colab_link": true
    },
    "kernelspec": {
      "name": "python3",
      "display_name": "Python 3"
    },
    "language_info": {
      "name": "python"
    }
  },
  "cells": [
    {
      "cell_type": "markdown",
      "metadata": {
        "id": "view-in-github",
        "colab_type": "text"
      },
      "source": [
        "<a href=\"https://colab.research.google.com/github/rooftopmunda/Daily-Practice/blob/main/Fruity_For_Loops.ipynb\" target=\"_parent\"><img src=\"https://colab.research.google.com/assets/colab-badge.svg\" alt=\"Open In Colab\"/></a>"
      ]
    },
    {
      "cell_type": "markdown",
      "source": [
        "You have a list of fruits:\n",
        "\n",
        "fruits = [\"apple\", \"banana\", \"cherry\", \"orange\", \"apricot\", \"custard apple\", \"grapes\"]\n",
        "\n",
        "Write a Python program that iterates through each fruit in the list and displays both the fruit name and its individual characters."
      ],
      "metadata": {
        "id": "btnEjZKz3f34"
      }
    },
    {
      "cell_type": "code",
      "source": [
        "fruits = [\"apple\", \"banana\", \"cherry\", \"orange\", \"apricot\", \"custard apple\", \"grapes\"]\n",
        "for fruit in fruits:\n",
        "  print(fruit)\n",
        "\n",
        "  for f in fruit:\n",
        "    print(f)"
      ],
      "metadata": {
        "id": "PgBKvDNZ3mQb"
      },
      "execution_count": null,
      "outputs": []
    },
    {
      "cell_type": "code",
      "source": [
        "fruits = [\"apple\", \"banana\", \"cherry\", \"orange\", \"apricot\", \"custard apple\", \"grapes\"]\n",
        "for fruit in fruits:\n",
        "  print(fruit)\n",
        "  for f in fruit:\n",
        "    print(f)"
      ],
      "metadata": {
        "id": "spFsQ_qF4_TV"
      },
      "execution_count": null,
      "outputs": []
    },
    {
      "cell_type": "code",
      "source": [],
      "metadata": {
        "id": "HxlT_L2sMtjD"
      },
      "execution_count": null,
      "outputs": []
    }
  ]
}