{
  "nbformat": 4,
  "nbformat_minor": 0,
  "metadata": {
    "colab": {
      "provenance": [],
      "authorship_tag": "ABX9TyPEAMxVa6mapOhM+wTq2G23",
      "include_colab_link": true
    },
    "kernelspec": {
      "name": "python3",
      "display_name": "Python 3"
    },
    "language_info": {
      "name": "python"
    }
  },
  "cells": [
    {
      "cell_type": "markdown",
      "metadata": {
        "id": "view-in-github",
        "colab_type": "text"
      },
      "source": [
        "<a href=\"https://colab.research.google.com/github/rooftopmunda/Daily-Practice/blob/main/Chapters_in_Book.ipynb\" target=\"_parent\"><img src=\"https://colab.research.google.com/assets/colab-badge.svg\" alt=\"Open In Colab\"/></a>"
      ]
    },
    {
      "cell_type": "markdown",
      "source": [
        "#Suppose you have a book with a total of 1200 pages, and each chapter in the book consists of 66 pages. Write a Python program that calculates and displays the total number of chapters in the book."
      ],
      "metadata": {
        "id": "UjyJp7gXjpTN"
      }
    },
    {
      "cell_type": "code",
      "source": [
        "pages_in_book = int(input(\"Enter the number of pages in the book: \"))\n",
        "pages_per_chapter = int(input(\"Enter the number of pages in the book\"))\n",
        "\n",
        "total_chapters = pages_in_book // pages_per_chapter\n",
        "print(\"The total number of chapter in the book is:\", total_chapters)"
      ],
      "metadata": {
        "colab": {
          "base_uri": "https://localhost:8080/"
        },
        "id": "s5zjEMomog2m",
        "outputId": "62807967-4096-4855-be74-124910c6408a"
      },
      "execution_count": 2,
      "outputs": [
        {
          "output_type": "stream",
          "name": "stdout",
          "text": [
            "Enter the number of pages in the book: 1200\n",
            "Enter the number of pages in the book66\n",
            "The total number of chapter in the book is: 18\n"
          ]
        }
      ]
    },
    {
      "cell_type": "code",
      "source": [],
      "metadata": {
        "id": "iOY6hbITvIij"
      },
      "execution_count": null,
      "outputs": []
    }
  ]
}