{
  "cells": [
    {
      "cell_type": "markdown",
      "metadata": {
        "colab_type": "text",
        "id": "view-in-github"
      },
      "source": [
        "<a href=\"https://colab.research.google.com/github/rooftopmunda/Daily-Practice/blob/main/Chapters_in_Book.ipynb\" target=\"_parent\"><img src=\"https://colab.research.google.com/assets/colab-badge.svg\" alt=\"Open In Colab\"/></a>"
      ]
    },
    {
      "cell_type": "markdown",
      "metadata": {
        "id": "UjyJp7gXjpTN"
      },
      "source": [
        "#Suppose you have a book with a total of 1200 pages, and each chapter in the book consists of 66 pages. Write a Python program that calculates and displays the total number of chapters in the book."
      ]
    },
    {
      "cell_type": "markdown",
      "metadata": {
        "id": "4LODYeI7zvNQ"
      },
      "source": [
        "Practice: 10/7/23\n",
        "The logic here is to simply perform floor division between the arguments and then print the outcome."
      ]
    },
    {
      "cell_type": "code",
      "execution_count": 4,
      "metadata": {
        "id": "s5zjEMomog2m"
      },
      "outputs": [
        {
          "name": "stdout",
          "output_type": "stream",
          "text": [
            "The total number of chapter in the book is: 18\n"
          ]
        }
      ],
      "source": [
        "pages_in_book = int(input(\"Enter the number of pages in the book: \"))\n",
        "pages_per_chapter = int(input(\"Enter the number of pages in the book\"))\n",
        "\n",
        "total_chapters = pages_in_book // pages_per_chapter\n",
        "print(\"The total number of chapter in the book is:\", total_chapters)"
      ]
    },
    {
      "cell_type": "code",
      "execution_count": 2,
      "metadata": {},
      "outputs": [
        {
          "name": "stdout",
          "output_type": "stream",
          "text": [
            "18\n"
          ]
        }
      ],
      "source": [
        "pages_book = int(input(\"Enter the number of pages in the book: \"))\n",
        "pages_chapter = int(input(\"Enter the number of pages per chapter: \"))\n",
        "\n",
        "total_chapters = pages_book//pages_chapter\n",
        "print(total_chapters)"
      ]
    },
    {
      "cell_type": "code",
      "execution_count": null,
      "metadata": {},
      "outputs": [],
      "source": []
    }
  ],
  "metadata": {
    "colab": {
      "authorship_tag": "ABX9TyMb5LxkvcJDMU7v9t4HKFsu",
      "include_colab_link": true,
      "provenance": []
    },
    "kernelspec": {
      "display_name": "Python 3",
      "name": "python3"
    },
    "language_info": {
      "codemirror_mode": {
        "name": "ipython",
        "version": 3
      },
      "file_extension": ".py",
      "mimetype": "text/x-python",
      "name": "python",
      "nbconvert_exporter": "python",
      "pygments_lexer": "ipython3",
      "version": "3.10.9"
    }
  },
  "nbformat": 4,
  "nbformat_minor": 0
}
