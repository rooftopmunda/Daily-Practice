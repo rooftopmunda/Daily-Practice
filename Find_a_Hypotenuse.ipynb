{
  "nbformat": 4,
  "nbformat_minor": 0,
  "metadata": {
    "colab": {
      "provenance": [],
      "authorship_tag": "ABX9TyNJs0th6edljhuOkMo9ke3m",
      "include_colab_link": true
    },
    "kernelspec": {
      "name": "python3",
      "display_name": "Python 3"
    },
    "language_info": {
      "name": "python"
    }
  },
  "cells": [
    {
      "cell_type": "markdown",
      "metadata": {
        "id": "view-in-github",
        "colab_type": "text"
      },
      "source": [
        "<a href=\"https://colab.research.google.com/github/rooftopmunda/Daily-Practice/blob/main/Find_a_Hypotenuse.ipynb\" target=\"_parent\"><img src=\"https://colab.research.google.com/assets/colab-badge.svg\" alt=\"Open In Colab\"/></a>"
      ]
    },
    {
      "cell_type": "markdown",
      "source": [
        "#Write a program that prompts the user to enter the lengths of the two shorter sides of a right triangle. The program should then calculate and display the length of the hypotenuse using the Pythagorean theorem."
      ],
      "metadata": {
        "id": "QopetgLGGo8M"
      }
    },
    {
      "cell_type": "code",
      "source": [
        "import math\n",
        "side1 = float(input(\"Enter the first side of the triangle of the triangle: \"))\n",
        "side2 = float(input(\"Enter the second side of the triangle of the triangle: \"))\n",
        "\n",
        "hypotenuse = math.sqrt(side1 ** 2 + side2 ** 2)\n",
        "r_hyp = round(hypotenuse,2)\n",
        "print(\"The lenght of the hypotenuse is:\", r_hyp)"
      ],
      "metadata": {
        "colab": {
          "base_uri": "https://localhost:8080/"
        },
        "id": "L-Mw4uOVG39c",
        "outputId": "78cf869c-5780-42ec-8423-7e7b119a4704"
      },
      "execution_count": 2,
      "outputs": [
        {
          "output_type": "stream",
          "name": "stdout",
          "text": [
            "Enter the first side of the triangle of the triangle: 25\n",
            "Enter the second side of the triangle of the triangle: 2\n",
            "The lenght of the hypotenuse is: 25.08\n"
          ]
        }
      ]
    },
    {
      "cell_type": "code",
      "source": [
        "side_1 = float(input(\"Enter the first side of the triangle: \"))\n",
        "side_2 = float(input(\"Enter the first side of the triangle: \"))\n",
        "\n",
        "hypotenuse = (side_1**2 + side_2**2) ** 0.5\n",
        "print(\"The length of the hypotenuse is:\", hypotenuse)"
      ],
      "metadata": {
        "id": "9mQeJku0HW53"
      },
      "execution_count": null,
      "outputs": []
    }
  ]
}