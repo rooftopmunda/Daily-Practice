{
  "nbformat": 4,
  "nbformat_minor": 0,
  "metadata": {
    "colab": {
      "provenance": [],
      "authorship_tag": "ABX9TyO67y5Q+vzy4+iwBBaYVivm",
      "include_colab_link": true
    },
    "kernelspec": {
      "name": "python3",
      "display_name": "Python 3"
    },
    "language_info": {
      "name": "python"
    }
  },
  "cells": [
    {
      "cell_type": "markdown",
      "metadata": {
        "id": "view-in-github",
        "colab_type": "text"
      },
      "source": [
        "<a href=\"https://colab.research.google.com/github/rooftopmunda/Daily-Practice/blob/main/Find_a_Hypotenuse.ipynb\" target=\"_parent\"><img src=\"https://colab.research.google.com/assets/colab-badge.svg\" alt=\"Open In Colab\"/></a>"
      ]
    },
    {
      "cell_type": "markdown",
      "source": [
        "#Write a program that prompts the user to enter the lengths of the two shorter sides of a right triangle. The program should then calculate and display the length of the hypotenuse using the Pythagorean theorem."
      ],
      "metadata": {
        "id": "QopetgLGGo8M"
      }
    },
    {
      "cell_type": "code",
      "source": [
        "import math\n",
        "side1 = float(input(\"Enter the first side of the triangle of the triangle: \"))\n",
        "side2 = float(input(\"Enter the second side of the triangle of the triangle: \"))\n",
        "\n",
        "hypotenuse = math.sqrt(side1 ** 2 + side2 ** 2)\n",
        "r_hyp = round(hypotenuse,2)\n",
        "print(\"The lenght of the hypotenuse is:\", r_hyp)"
      ],
      "metadata": {
        "colab": {
          "base_uri": "https://localhost:8080/"
        },
        "id": "L-Mw4uOVG39c",
        "outputId": "78cf869c-5780-42ec-8423-7e7b119a4704"
      },
      "execution_count": null,
      "outputs": [
        {
          "output_type": "stream",
          "name": "stdout",
          "text": [
            "Enter the first side of the triangle of the triangle: 25\n",
            "Enter the second side of the triangle of the triangle: 2\n",
            "The lenght of the hypotenuse is: 25.08\n"
          ]
        }
      ]
    },
    {
      "cell_type": "code",
      "source": [
        "side_1 = float(input(\"Enter the first side of the triangle: \"))\n",
        "side_2 = float(input(\"Enter the first side of the triangle: \"))\n",
        "\n",
        "hypotenuse = (side_1**2 + side_2**2) ** 0.5\n",
        "print(\"The length of the hypotenuse is:\", hypotenuse)"
      ],
      "metadata": {
        "id": "9mQeJku0HW53"
      },
      "execution_count": null,
      "outputs": []
    },
    {
      "cell_type": "markdown",
      "source": [
        "Practice - 10/7/2023\n",
        "In this version, I have only called the sqrt function from the math library."
      ],
      "metadata": {
        "id": "pxvmxIa3XZsR"
      }
    },
    {
      "cell_type": "code",
      "source": [
        "side1 = float(input(\"Enter the first side of the hypotenuse: \"))\n",
        "side2 = float(input(\"Enter the second side of the hypotenuse: \"))\n",
        "\n",
        "hypotenuse = (side1**2 + side2**2) **0.5\n",
        "print(\"The lenght of the hypotenuse is:\", hypotenuse)"
      ],
      "metadata": {
        "id": "JODIH4J5XcKr",
        "outputId": "2e1d1e98-cbd0-45ee-bce9-9b881761650c",
        "colab": {
          "base_uri": "https://localhost:8080/"
        }
      },
      "execution_count": 1,
      "outputs": [
        {
          "output_type": "stream",
          "name": "stdout",
          "text": [
            "Enter the first side of the hypotenuse: 25\n",
            "Enter the second side of the hypotenuse: 2\n",
            "The lenght of the hypotenuse is: 25.079872407968907\n"
          ]
        }
      ]
    },
    {
      "cell_type": "code",
      "source": [
        "from math import sqrt\n",
        "side1 = float(input(\"Enter the first side of the triangle: \"))\n",
        "side2 = float(input(\"Enter the second side of the triangle: \"))\n",
        "\n",
        "hypotenuse = sqrt(side1**2 + side2**2)\n",
        "r_hyp = round(hypotenuse)\n",
        "print(\"The lenght of the hypotenuse is:\", r_hyp)"
      ],
      "metadata": {
        "id": "PTttlYmz-CFO",
        "outputId": "124fcde4-0ae3-4012-9f27-86dc9dcd6546",
        "colab": {
          "base_uri": "https://localhost:8080/"
        }
      },
      "execution_count": 5,
      "outputs": [
        {
          "output_type": "stream",
          "name": "stdout",
          "text": [
            "Enter the first side of the triangle: 352.3\n",
            "Enter the second side of the triangle: 452.8\n",
            "The lenght of the hypotenuse is: 574\n"
          ]
        }
      ]
    },
    {
      "cell_type": "code",
      "source": [],
      "metadata": {
        "id": "wZ2dTOnB-dcO"
      },
      "execution_count": null,
      "outputs": []
    }
  ]
}