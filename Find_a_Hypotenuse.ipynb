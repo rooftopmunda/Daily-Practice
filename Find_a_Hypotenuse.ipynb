{
  "cells": [
    {
      "cell_type": "markdown",
      "metadata": {
        "colab_type": "text",
        "id": "view-in-github"
      },
      "source": [
        "<a href=\"https://colab.research.google.com/github/rooftopmunda/Daily-Practice/blob/main/Find_a_Hypotenuse.ipynb\" target=\"_parent\"><img src=\"https://colab.research.google.com/assets/colab-badge.svg\" alt=\"Open In Colab\"/></a>"
      ]
    },
    {
      "cell_type": "markdown",
      "metadata": {
        "id": "QopetgLGGo8M"
      },
      "source": [
        "#Write a program that prompts the user to enter the lengths of the two shorter sides of a right triangle. The program should then calculate and display the length of the hypotenuse using the Pythagorean theorem."
      ]
    },
    {
      "cell_type": "code",
      "execution_count": null,
      "metadata": {
        "colab": {
          "base_uri": "https://localhost:8080/"
        },
        "id": "L-Mw4uOVG39c",
        "outputId": "78cf869c-5780-42ec-8423-7e7b119a4704"
      },
      "outputs": [],
      "source": [
        "import math\n",
        "side1 = float(input(\"Enter the first side of the triangle of the triangle: \"))\n",
        "side2 = float(input(\"Enter the second side of the triangle of the triangle: \"))\n",
        "\n",
        "hypotenuse = math.sqrt(side1 ** 2 + side2 ** 2)\n",
        "r_hyp = round(hypotenuse,2)\n",
        "print(\"The lenght of the hypotenuse is:\", r_hyp)"
      ]
    },
    {
      "cell_type": "code",
      "execution_count": null,
      "metadata": {
        "id": "9mQeJku0HW53"
      },
      "outputs": [],
      "source": [
        "side_1 = float(input(\"Enter the first side of the triangle: \"))\n",
        "side_2 = float(input(\"Enter the first side of the triangle: \"))\n",
        "\n",
        "hypotenuse = (side_1**2 + side_2**2) ** 0.5\n",
        "print(\"The length of the hypotenuse is:\", hypotenuse)"
      ]
    },
    {
      "cell_type": "markdown",
      "metadata": {
        "id": "pxvmxIa3XZsR"
      },
      "source": [
        "Practice - 10/7/2023\n",
        "In this version, I have only called the sqrt function from the math library."
      ]
    },
    {
      "cell_type": "code",
      "execution_count": null,
      "metadata": {
        "colab": {
          "base_uri": "https://localhost:8080/"
        },
        "id": "JODIH4J5XcKr",
        "outputId": "f4149cad-9d0b-4bc9-f2fd-4fa62b51f6cf"
      },
      "outputs": [],
      "source": [
        "side1 = float(input(\"Enter the first side of the hypotenuse: \"))\n",
        "side2 = float(input(\"Enter the second side of the hypotenuse: \"))\n",
        "\n",
        "hypotenuse = (side1**2 + side2**2) **0.5\n",
        "print(\"The lenght of the hypotenuse is:\", hypotenuse)"
      ]
    },
    {
      "cell_type": "code",
      "execution_count": null,
      "metadata": {
        "id": "PTttlYmz-CFO"
      },
      "outputs": [],
      "source": [
        "from math import sqrt\n",
        "side1 = float(input(\"Enter the first side of the triangle: \"))\n",
        "side2 = float(input(\"Enter the second side of the triangle: \"))\n",
        "\n",
        "hypotenuse = sqrt(side1**2 + side2**2)\n",
        "r_hyp = round(hypotenuse, 2)\n",
        "print(\"The lenght of the hypotenuse is:\", r_hyp)"
      ]
    },
    {
      "cell_type": "code",
      "execution_count": null,
      "metadata": {
        "id": "wZ2dTOnB-dcO"
      },
      "outputs": [],
      "source": [
        "import math\n",
        "side1 = int(input(\"Enter the first side of the triangle: \"))\n",
        "side2 = int(input(\"Enter the second side of the triangle: \"))\n",
        "\n",
        "hyp = math.sqrt(side1**2 + side2**2)\n",
        "hyp = round(hyp,2)\n",
        "\n",
        "print(\"The hypotenuse of the triangle is: \", hyp)"
      ]
    },
    {
      "cell_type": "code",
      "execution_count": 16,
      "metadata": {
        "id": "u8RQyiuvPXpS"
      },
      "outputs": [
        {
          "name": "stdout",
          "output_type": "stream",
          "text": [
            "The hypotenuse of the triangle is:  25.08\n"
          ]
        }
      ],
      "source": [
        "import math\n",
        "def hyp(side1, side2):\n",
        "    hypotenuse = math.sqrt(side1**2 + side2**2)\n",
        "    return hypotenuse\n",
        "\n",
        "print(f\"The hypotenuse of the triangle is: \",round(hyp(25,2), 2))"
      ]
    }
  ],
  "metadata": {
    "colab": {
      "authorship_tag": "ABX9TyPf3yzQpL/9RqBZImXPlfrp",
      "include_colab_link": true,
      "provenance": []
    },
    "kernelspec": {
      "display_name": "Python 3",
      "name": "python3"
    },
    "language_info": {
      "codemirror_mode": {
        "name": "ipython",
        "version": 3
      },
      "file_extension": ".py",
      "mimetype": "text/x-python",
      "name": "python",
      "nbconvert_exporter": "python",
      "pygments_lexer": "ipython3",
      "version": "3.10.9"
    }
  },
  "nbformat": 4,
  "nbformat_minor": 0
}
