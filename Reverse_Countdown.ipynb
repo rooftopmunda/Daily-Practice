{
  "nbformat": 4,
  "nbformat_minor": 0,
  "metadata": {
    "colab": {
      "provenance": [],
      "authorship_tag": "ABX9TyOZYWYuOH1L7wTOXPoTRtaB",
      "include_colab_link": true
    },
    "kernelspec": {
      "name": "python3",
      "display_name": "Python 3"
    },
    "language_info": {
      "name": "python"
    }
  },
  "cells": [
    {
      "cell_type": "markdown",
      "metadata": {
        "id": "view-in-github",
        "colab_type": "text"
      },
      "source": [
        "<a href=\"https://colab.research.google.com/github/rooftopmunda/Daily-Practice/blob/main/Reverse_Countdown.ipynb\" target=\"_parent\"><img src=\"https://colab.research.google.com/assets/colab-badge.svg\" alt=\"Open In Colab\"/></a>"
      ]
    },
    {
      "cell_type": "markdown",
      "source": [
        "#Write a program that asks the user to enter a positive integer and then prints the countdown from that number to 1. For example, if the user enters 5, the program should print \"5, 4, 3, 2, 1\"."
      ],
      "metadata": {
        "id": "etfoKRXx-CQ_"
      }
    },
    {
      "cell_type": "code",
      "source": [
        "number = int(input(\"Enter a positive number to begin a countdown: \"))\n",
        "while number >= 1:\n",
        "  print(number)\n",
        "  number -= 1"
      ],
      "metadata": {
        "id": "V0gfY7sI-KkL"
      },
      "execution_count": null,
      "outputs": []
    },
    {
      "cell_type": "markdown",
      "source": [
        "Practice =  12/7/2023\n",
        "\n",
        "---\n",
        "\n",
        "\n",
        "Creating a countdown timer with simple while loop\n",
        "The logic in this code is to ask for positive input and check if the number is actually positive. Once checked we can move ahead an create an empty string and set a condtion that while the number is greater than one add each number to the string, separated by a comma and a space and for each iteration count the number back until it is equal to 1.\n",
        "We strip the comma and space and print the result."
      ],
      "metadata": {
        "id": "FG26DhxiADRp"
      }
    },
    {
      "cell_type": "code",
      "source": [
        "number  = int(input(\"Input a positive number to begin a countdown: \"))\n",
        "if number <= 0:\n",
        "  print(\"Enter a positive number: \")\n",
        "else:\n",
        "  countdown = \"\"\n",
        "while number >= 1:\n",
        "  countdown += str(number) + \", \"\n",
        "  number -= 1\n",
        "\n",
        "countdown = countdown.rstrip(\", \")\n",
        "print(countdown)"
      ],
      "metadata": {
        "id": "mm55sAz87m10"
      },
      "execution_count": null,
      "outputs": []
    },
    {
      "cell_type": "code",
      "source": [
        "num = int(input(\"Enter a positive number to begin a countdown: \"))\n",
        "while num >= 1:\n",
        "  print(num)\n",
        "  num -= 1"
      ],
      "metadata": {
        "id": "jdVaPd4ECpDN"
      },
      "execution_count": null,
      "outputs": []
    },
    {
      "cell_type": "code",
      "source": [
        "#Practice 13/7/2023\n",
        "integer = int(input(\"Enter a number to begin a countdown: \"))\n",
        "while integer >= 1:\n",
        "  print(integer)\n",
        "  integer -= 1"
      ],
      "metadata": {
        "id": "WiQ1Q1W8C5d-"
      },
      "execution_count": null,
      "outputs": []
    },
    {
      "cell_type": "code",
      "source": [
        "#Practice 13/7/2023\n",
        "\n",
        "number = int(input(\"Enter a number to begin a countdown: \"))\n",
        "if number <= 0:\n",
        "  print(\"Enter a positive number: \")\n",
        "else:\n",
        "  countdown = \"\"\n",
        "while number >= 1:\n",
        "  countdown += str(number) + \", \"\n",
        "  number -= 1\n",
        "\n",
        "countdown = countdown.rstrip(\", \")\n",
        "print(countdown)"
      ],
      "metadata": {
        "id": "RxxyI1JmpaoE",
        "outputId": "a898bf79-bf0a-4a38-d937-4a6b9068dbfe",
        "colab": {
          "base_uri": "https://localhost:8080/"
        }
      },
      "execution_count": 22,
      "outputs": [
        {
          "output_type": "stream",
          "name": "stdout",
          "text": [
            "Enter a number to begin a countdown: 6\n",
            "6, 5, 4, 3, 2, 1\n"
          ]
        }
      ]
    },
    {
      "cell_type": "markdown",
      "source": [
        "Missed the logic to use if else sstatement in today's practice. In order to validate an input always use if/else statement. In order to repeat a task use while loop.\n",
        "\n",
        "---\n",
        "Missed to use the augmented operator += to concatenate the str(number) and separators\n"
      ],
      "metadata": {
        "id": "O4xWoVDzsCQI"
      }
    },
    {
      "cell_type": "code",
      "source": [
        "integer = int(input(\"Enter a positive number to begin a countdown: \"))\n",
        "if integer <= 0:\n",
        "  print(\"Enter a positive number: \")\n",
        "else:\n",
        "  countdown = \"\"\n",
        "while integer >= 1:\n",
        "  countdown += str(integer) + \"... \"\n",
        "  integer -= 1\n",
        "\n",
        "countdown = countdown.rstrip(\"... \")\n",
        "print(\"Countdown begins: \", countdown)"
      ],
      "metadata": {
        "id": "uG0vmcp1tFw-",
        "outputId": "d2f4c309-4edc-43bb-ed68-73986531aff8",
        "colab": {
          "base_uri": "https://localhost:8080/"
        }
      },
      "execution_count": 27,
      "outputs": [
        {
          "output_type": "stream",
          "name": "stdout",
          "text": [
            "Enter a positive number to begin a countdown: 15\n",
            "Countdown begins:  15... 14... 13... 12... 11... 10... 9... 8... 7... 6... 5... 4... 3... 2... 1\n"
          ]
        }
      ]
    },
    {
      "cell_type": "code",
      "source": [],
      "metadata": {
        "id": "Rui-jK0Ct_-u"
      },
      "execution_count": null,
      "outputs": []
    }
  ]
}