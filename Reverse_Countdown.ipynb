{
  "nbformat": 4,
  "nbformat_minor": 0,
  "metadata": {
    "colab": {
      "provenance": [],
      "authorship_tag": "ABX9TyP2NtdW5Qu/skjEj+VCKdeE",
      "include_colab_link": true
    },
    "kernelspec": {
      "name": "python3",
      "display_name": "Python 3"
    },
    "language_info": {
      "name": "python"
    }
  },
  "cells": [
    {
      "cell_type": "markdown",
      "metadata": {
        "id": "view-in-github",
        "colab_type": "text"
      },
      "source": [
        "<a href=\"https://colab.research.google.com/github/rooftopmunda/Daily-Practice/blob/main/Reverse_Countdown.ipynb\" target=\"_parent\"><img src=\"https://colab.research.google.com/assets/colab-badge.svg\" alt=\"Open In Colab\"/></a>"
      ]
    },
    {
      "cell_type": "markdown",
      "source": [
        "#Write a program that asks the user to enter a positive integer and then prints the countdown from that number to 1. For example, if the user enters 5, the program should print \"5, 4, 3, 2, 1\"."
      ],
      "metadata": {
        "id": "etfoKRXx-CQ_"
      }
    },
    {
      "cell_type": "code",
      "source": [
        "number = int(input(\"Enter a positive number to begin a countdown: \"))\n",
        "while number >= 1:\n",
        "  print(number)\n",
        "  number -= 1"
      ],
      "metadata": {
        "id": "V0gfY7sI-KkL"
      },
      "execution_count": null,
      "outputs": []
    },
    {
      "cell_type": "markdown",
      "source": [
        "Practice =  12/7/2023\n",
        "\n",
        "---\n",
        "\n",
        "\n",
        "Creating a countdown timer with simple while loop\n",
        "The logic in this code is to ask for positive input and check if the number is actually positive. Once checked we can move ahead an create an empty string and set a condtion that while the number is greater than one add each number to the string, separated by a comma and a space and for each iteration count the number back until it is equal to 1.\n",
        "We strip the comma and space and print the result."
      ],
      "metadata": {
        "id": "FG26DhxiADRp"
      }
    },
    {
      "cell_type": "code",
      "source": [
        "number  = int(input(\"Input a positive number to begin a countdown: \"))\n",
        "if number <= 0:\n",
        "  print(\"Enter a positive number: \")\n",
        "else:\n",
        "  countdown = \"\"\n",
        "while number >= 1:\n",
        "  countdown += str(number) + \", \"\n",
        "  number -= 1\n",
        "\n",
        "countdown = countdown.rstrip(\", \")\n",
        "print(countdown)"
      ],
      "metadata": {
        "id": "mm55sAz87m10"
      },
      "execution_count": null,
      "outputs": []
    },
    {
      "cell_type": "code",
      "source": [
        "num = int(input(\"Enter a positive number to begin a countdown: \"))\n",
        "while num >= 1:\n",
        "  print(num)\n",
        "  num -= 1"
      ],
      "metadata": {
        "id": "jdVaPd4ECpDN"
      },
      "execution_count": null,
      "outputs": []
    },
    {
      "cell_type": "code",
      "source": [],
      "metadata": {
        "id": "WiQ1Q1W8C5d-"
      },
      "execution_count": null,
      "outputs": []
    }
  ]
}