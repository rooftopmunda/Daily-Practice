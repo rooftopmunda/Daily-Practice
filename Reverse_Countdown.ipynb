{
  "cells": [
    {
      "cell_type": "markdown",
      "metadata": {
        "colab_type": "text",
        "id": "view-in-github"
      },
      "source": [
        "<a href=\"https://colab.research.google.com/github/rooftopmunda/Daily-Practice/blob/main/Reverse_Countdown.ipynb\" target=\"_parent\"><img src=\"https://colab.research.google.com/assets/colab-badge.svg\" alt=\"Open In Colab\"/></a>"
      ]
    },
    {
      "cell_type": "markdown",
      "metadata": {
        "id": "etfoKRXx-CQ_"
      },
      "source": [
        "#Write a program that asks the user to enter a positive integer and then prints the countdown from that number to 1. For example, if the user enters 5, the program should print \"5, 4, 3, 2, 1\"."
      ]
    },
    {
      "cell_type": "code",
      "execution_count": null,
      "metadata": {
        "id": "V0gfY7sI-KkL"
      },
      "outputs": [],
      "source": [
        "number = int(input(\"Enter a positive number to begin a countdown: \"))\n",
        "while number >= 1:\n",
        "  print(number)\n",
        "  number -= 1"
      ]
    },
    {
      "cell_type": "markdown",
      "metadata": {
        "id": "FG26DhxiADRp"
      },
      "source": [
        "Practice =  12/7/2023\n",
        "\n",
        "---\n",
        "\n",
        "\n",
        "Creating a countdown timer with simple while loop\n",
        "The logic in this code is to ask for positive input and check if the number is actually positive. Once checked we can move ahead an create an empty string and set a condtion that while the number is greater than one add each number to the string, separated by a comma and a space and for each iteration count the number back until it is equal to 1.\n",
        "We strip the comma and space and print the result."
      ]
    },
    {
      "cell_type": "code",
      "execution_count": null,
      "metadata": {
        "id": "mm55sAz87m10"
      },
      "outputs": [],
      "source": [
        "number  = int(input(\"Input a positive number to begin a countdown: \"))\n",
        "if number <= 0:\n",
        "  print(\"Enter a positive number: \")\n",
        "else:\n",
        "  countdown = \"\"\n",
        "while number >= 1:\n",
        "  countdown += str(number) + \", \"\n",
        "  number -= 1\n",
        "\n",
        "countdown = countdown.rstrip(\", \")\n",
        "print(countdown)"
      ]
    },
    {
      "cell_type": "code",
      "execution_count": null,
      "metadata": {
        "id": "jdVaPd4ECpDN"
      },
      "outputs": [],
      "source": [
        "num = int(input(\"Enter a positive number to begin a countdown: \"))\n",
        "while num >= 1:\n",
        "  print(num)\n",
        "  num -= 1"
      ]
    },
    {
      "cell_type": "code",
      "execution_count": null,
      "metadata": {
        "id": "WiQ1Q1W8C5d-"
      },
      "outputs": [],
      "source": [
        "#Practice 13/7/2023\n",
        "integer = int(input(\"Enter a number to begin a countdown: \"))\n",
        "while integer >= 1:\n",
        "  print(integer)\n",
        "  integer -= 1"
      ]
    },
    {
      "cell_type": "code",
      "execution_count": null,
      "metadata": {
        "colab": {
          "base_uri": "https://localhost:8080/"
        },
        "id": "RxxyI1JmpaoE",
        "outputId": "a898bf79-bf0a-4a38-d937-4a6b9068dbfe"
      },
      "outputs": [],
      "source": [
        "#Practice 13/7/2023\n",
        "\n",
        "number = int(input(\"Enter a number to begin a countdown: \"))\n",
        "if number <= 0:\n",
        "  print(\"Enter a positive number: \")\n",
        "else:\n",
        "  countdown = \"\"\n",
        "while number >= 1:\n",
        "  countdown += str(number) + \", \"\n",
        "  number -= 1\n",
        "\n",
        "countdown = countdown.rstrip(\", \")\n",
        "print(countdown)"
      ]
    },
    {
      "cell_type": "markdown",
      "metadata": {
        "id": "O4xWoVDzsCQI"
      },
      "source": [
        "Missed the logic to use if else sstatement in today's practice. In order to validate an input always use if/else statement. In order to repeat a task use while loop.\n",
        "\n",
        "---\n",
        "Missed to use the augmented operator += to concatenate the str(number) and separators\n"
      ]
    },
    {
      "cell_type": "code",
      "execution_count": null,
      "metadata": {
        "colab": {
          "base_uri": "https://localhost:8080/"
        },
        "id": "uG0vmcp1tFw-",
        "outputId": "d2f4c309-4edc-43bb-ed68-73986531aff8"
      },
      "outputs": [],
      "source": [
        "integer = int(input(\"Enter a positive number to begin a countdown: \"))\n",
        "if integer <= 0:\n",
        "  print(\"Enter a positive number: \")\n",
        "else:\n",
        "  countdown = \"\"\n",
        "while integer >= 1:\n",
        "  countdown += str(integer) + \"... \"\n",
        "  integer -= 1\n",
        "\n",
        "countdown = countdown.rstrip(\"... \")\n",
        "print(\"Countdown begins: \", countdown)"
      ]
    },
    {
      "cell_type": "code",
      "execution_count": null,
      "metadata": {},
      "outputs": [],
      "source": [
        "integer = int(input(\"Enter a positive number to begin countdown\"))\n",
        "if integer <= 0:\n",
        "    print(\"Please enter a positive number\")\n",
        "else:\n",
        "    countdown = \"\"\n",
        "while integer >=1:\n",
        "    countdown += str(integer) + (\", \") #Concatenate countdown\n",
        "    integer -= 1\n",
        "\n",
        "countdown = countdown.rstrip(\", \")\n",
        "print(\"The countdown begins:\", countdown)\n",
        "\n",
        "    "
      ]
    },
    {
      "cell_type": "code",
      "execution_count": null,
      "metadata": {},
      "outputs": [],
      "source": [
        "number = int(input(\"Enter a positive number : \"))\n",
        "\n",
        "if number <= 0:\n",
        "    print(\"Enter a positive number!\")\n",
        "else:\n",
        "    countdown = \"\"\n",
        "while number >= 1:\n",
        "    countdown += str(number) + (\", \")\n",
        "    number -= 1\n",
        "    \n",
        "countdown = countdown.rstrip(\", \")\n",
        "print(countdown)"
      ]
    },
    {
      "cell_type": "code",
      "execution_count": null,
      "metadata": {},
      "outputs": [],
      "source": [
        "integer = int(input(\"Enter a positive number: \"))\n",
        "\n",
        "while integer <= 0:\n",
        "    print(\"Please enter a positive number.\")\n",
        "    integer = int(input(\"Enter a positive number: \"))\n",
        "\n",
        "print('Beginning Countdown:')\n",
        "while integer >= 1:\n",
        "    print(integer, end=\" \")\n",
        "    integer -= 1"
      ]
    },
    {
      "cell_type": "code",
      "execution_count": null,
      "metadata": {},
      "outputs": [],
      "source": [
        "integer = int(input(\"Enter a positive integer: \"))\n",
        "\n",
        "while integer <= 0:\n",
        "    print(\"Enter a positive number: \")\n",
        "    integer = int(input(\"Enter a positive integer: \"))\n",
        "    \n",
        "print(\"Countdown Begins: \")\n",
        "while integer >= 1:\n",
        "    print(integer, end = \" \")\n",
        "    integer -= 1\n"
      ]
    },
    {
      "cell_type": "code",
      "execution_count": 2,
      "metadata": {},
      "outputs": [
        {
          "name": "stdout",
          "output_type": "stream",
          "text": [
            "Countdown begins: \n",
            "5 4 3 2 1 "
          ]
        }
      ],
      "source": [
        "number = int(input(\"Enter a positive number to begin countdown: \"))\n",
        "\n",
        "while number <= 0:\n",
        "    print(\"Enter a positive number: \")\n",
        "    number = int(input(\"Enter a positive number to begin countdown: \"))\n",
        "    \n",
        "print(\"Countdown begins: \")\n",
        "while number >= 1:\n",
        "    print(number,end = \" \")\n",
        "    number -= 1"
      ]
    },
    {
      "cell_type": "code",
      "execution_count": null,
      "metadata": {},
      "outputs": [],
      "source": []
    }
  ],
  "metadata": {
    "colab": {
      "authorship_tag": "ABX9TyOZYWYuOH1L7wTOXPoTRtaB",
      "include_colab_link": true,
      "provenance": []
    },
    "kernelspec": {
      "display_name": "Python 3",
      "name": "python3"
    },
    "language_info": {
      "codemirror_mode": {
        "name": "ipython",
        "version": 3
      },
      "file_extension": ".py",
      "mimetype": "text/x-python",
      "name": "python",
      "nbconvert_exporter": "python",
      "pygments_lexer": "ipython3",
      "version": "3.11.3"
    }
  },
  "nbformat": 4,
  "nbformat_minor": 0
}
