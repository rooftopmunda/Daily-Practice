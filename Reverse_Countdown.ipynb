{
  "nbformat": 4,
  "nbformat_minor": 0,
  "metadata": {
    "colab": {
      "provenance": [],
      "authorship_tag": "ABX9TyO7Yawg/tIU6LvKQqZiY54s",
      "include_colab_link": true
    },
    "kernelspec": {
      "name": "python3",
      "display_name": "Python 3"
    },
    "language_info": {
      "name": "python"
    }
  },
  "cells": [
    {
      "cell_type": "markdown",
      "metadata": {
        "id": "view-in-github",
        "colab_type": "text"
      },
      "source": [
        "<a href=\"https://colab.research.google.com/github/rooftopmunda/Daily-Practice/blob/main/Reverse_Countdown.ipynb\" target=\"_parent\"><img src=\"https://colab.research.google.com/assets/colab-badge.svg\" alt=\"Open In Colab\"/></a>"
      ]
    },
    {
      "cell_type": "markdown",
      "source": [
        "#Write a program that asks the user to enter a positive integer and then prints the countdown from that number to 1. For example, if the user enters 5, the program should print \"5, 4, 3, 2, 1\"."
      ],
      "metadata": {
        "id": "etfoKRXx-CQ_"
      }
    },
    {
      "cell_type": "code",
      "source": [
        "number = int(input(\"Enter a positive number to begin a countdown: \"))\n",
        "while number >= 1:\n",
        "  print(number)\n",
        "  number -= 1"
      ],
      "metadata": {
        "colab": {
          "base_uri": "https://localhost:8080/"
        },
        "id": "V0gfY7sI-KkL",
        "outputId": "ddfb1075-eb53-43a5-da17-6ac7abb0e42f"
      },
      "execution_count": 10,
      "outputs": [
        {
          "output_type": "stream",
          "name": "stdout",
          "text": [
            "Enter a positive number to begin a countdown: 6\n",
            "6\n",
            "5\n",
            "4\n",
            "3\n",
            "2\n",
            "1\n"
          ]
        }
      ]
    },
    {
      "cell_type": "markdown",
      "source": [
        "1- The user is prompted to enter a positive number using the input() function. The input is converted to an integer using int(), and the value is assigned to the variable number.\n",
        "2- The code enters a while loop with the condition number >= 1, which means the loop will continue as long as number is greater than or equal to 1.\n",
        "Inside the loop, the current value of number is printed using the print() function.\n",
        "3- After printing the number, number is decremented by 1 using the statement number -= 1. This reduces the value of number by 1 in each iteration of the loop.\n",
        "4- The loop continues until number becomes less than 1. Once number becomes less than 1, the condition number >= 1 evaluates to False, and the loop terminates.\n",
        "\n",
        "---\n",
        "This is a simple while loop which will continue printing the number as long as it is greater or equal to one. Therefore, making it a positive number. Once the condition is met the loop will terminate."
      ],
      "metadata": {
        "id": "84jn64RbNmoF"
      }
    },
    {
      "cell_type": "code",
      "source": [
        "number = int(input(\"Enter a positive integer: \"))\n",
        "\n",
        "# Check if the number is positive\n",
        "if number <= 0:\n",
        "    print(\"Invalid input. Please enter a positive integer.\")\n",
        "else:\n",
        "    countdown = \"\"\n",
        "    while number >= 1:\n",
        "        countdown += str(number) + \", \"\n",
        "        number -= 1\n",
        "\n",
        "    countdown = countdown.rstrip(\", \")  # Remove the trailing comma and space\n",
        "    print(countdown)"
      ],
      "metadata": {
        "colab": {
          "base_uri": "https://localhost:8080/"
        },
        "id": "c4eHm1WnPILN",
        "outputId": "b48f4a61-0b74-4079-871f-3586f562eefa"
      },
      "execution_count": 8,
      "outputs": [
        {
          "output_type": "stream",
          "name": "stdout",
          "text": [
            "Enter a positive integer: 6\n",
            "6, 5, 4, 3, 2, 1\n"
          ]
        }
      ]
    },
    {
      "cell_type": "code",
      "source": [
        "number = int(input(\"Enter a positive integer: \"))\n",
        "\n",
        "# Check if the number is positive\n",
        "if number <= 0:\n",
        "    print(\"Invalid input. Please enter a positive integer.\")\n",
        "else:\n",
        "    countdown = \"\"\n",
        "    for i in range(number, 0, -1):\n",
        "        countdown += str(i) + \", \"\n",
        "\n",
        "    countdown = countdown.rstrip(\", \")  # Remove the trailing comma and space\n",
        "    print(countdown)"
      ],
      "metadata": {
        "colab": {
          "base_uri": "https://localhost:8080/"
        },
        "id": "2JruMlfpPVhE",
        "outputId": "56a19c33-4a9f-436a-e960-ed12d028f80d"
      },
      "execution_count": 9,
      "outputs": [
        {
          "output_type": "stream",
          "name": "stdout",
          "text": [
            "Enter a positive integer: 6\n",
            "6, 5, 4, 3, 2, 1\n"
          ]
        }
      ]
    },
    {
      "cell_type": "code",
      "source": [
        "number = int(input(\"Enter a positive integer: \"))\n",
        "\n",
        "if number <= 1:\n",
        "  print(\"Enter a positive number: \")\n",
        "else:\n",
        "  countdown = \"\"\n",
        "  while number >= 1:\n",
        "    countdown += str(number) + \", \"\n",
        "    number -= 1"
      ],
      "metadata": {
        "id": "toUw0oaiPxEb"
      },
      "execution_count": null,
      "outputs": []
    }
  ]
}