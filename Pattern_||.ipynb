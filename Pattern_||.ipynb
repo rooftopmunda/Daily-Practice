{
  "nbformat": 4,
  "nbformat_minor": 0,
  "metadata": {
    "colab": {
      "provenance": [],
      "authorship_tag": "ABX9TyP1AWdGXY6LBf2CV6jn0/UM",
      "include_colab_link": true
    },
    "kernelspec": {
      "name": "python3",
      "display_name": "Python 3"
    },
    "language_info": {
      "name": "python"
    }
  },
  "cells": [
    {
      "cell_type": "markdown",
      "metadata": {
        "id": "view-in-github",
        "colab_type": "text"
      },
      "source": [
        "<a href=\"https://colab.research.google.com/github/rooftopmunda/Daily-Practice/blob/main/Pattern_%7C%7C.ipynb\" target=\"_parent\"><img src=\"https://colab.research.google.com/assets/colab-badge.svg\" alt=\"Open In Colab\"/></a>"
      ]
    },
    {
      "cell_type": "code",
      "source": [
        "n =int(input(\"Enter the number of lines: \")) #This represents the height of the traiangular pattern.\n",
        "i=1    #This keeps the track of the current line number.\n",
        "symbols = ((n*2)-1) #representing the width of each line in terms of the number of symbols (vertical bars).\n",
        "\n",
        "while (n>0): #The outer while loop runs as long as n is greater than 0, indicating there are more lines to print.\n",
        "    b=1 #It keeps track of the number of spaces to print before the vertical bars.\n",
        "    while (b<i): #The first inner while loop runs as long as b is less than i, printing spaces (\" \") before the vertical bars on each line.\n",
        "        print (\" \", end = '') #\n",
        "        b=b+1\n",
        "\n",
        "    j=1\n",
        "    while (symbols>=j):\n",
        "        print (\"|\", end = '')\n",
        "        j+=1\n",
        "    print ()\n",
        "    n= n-1\n",
        "    i=i+1\n",
        "    symbols = symbols - 2"
      ],
      "metadata": {
        "colab": {
          "base_uri": "https://localhost:8080/"
        },
        "id": "zGcpsVyc-WQX",
        "outputId": "f76d937c-60b5-4330-c40c-209226c26c3f"
      },
      "execution_count": 2,
      "outputs": [
        {
          "output_type": "stream",
          "name": "stdout",
          "text": [
            "Enter the number of lines: 6\n",
            "|||||||||||\n",
            " |||||||||\n",
            "  |||||||\n",
            "   |||||\n",
            "    |||\n",
            "     |\n"
          ]
        }
      ]
    },
    {
      "cell_type": "code",
      "source": [
        "n = int(input(\"Enter the number of lines: \"))\n",
        "\n",
        "for i in range(1, n + 1):\n",
        "    print(\" \" * (i - 1), end=\"\")\n",
        "    print(\"|\" * ((n - i) * 2 + 1))"
      ],
      "metadata": {
        "colab": {
          "base_uri": "https://localhost:8080/"
        },
        "id": "hy1XHnNrB0DR",
        "outputId": "1bf303fd-c959-4bcf-e594-26ac99577250"
      },
      "execution_count": 1,
      "outputs": [
        {
          "output_type": "stream",
          "name": "stdout",
          "text": [
            "Enter the number of lines: 6\n",
            "|||||||||||\n",
            " |||||||||\n",
            "  |||||||\n",
            "   |||||\n",
            "    |||\n",
            "     |\n"
          ]
        }
      ]
    },
    {
      "cell_type": "code",
      "source": [
        "n = int(input(\"Enter the number of lines: \")) #This controls the height of the triangle\n",
        "\n",
        "for i in range(1, n + 1):\n",
        "  print(\" \" * (i - 1), end=\"\")\n",
        "  print(\"|\" * ((n - i) * 2 +1))"
      ],
      "metadata": {
        "colab": {
          "base_uri": "https://localhost:8080/"
        },
        "id": "HdHa90p2Lfl6",
        "outputId": "2e53cdf4-3c2e-4a6e-cbde-576f9b3d06bd"
      },
      "execution_count": 6,
      "outputs": [
        {
          "output_type": "stream",
          "name": "stdout",
          "text": [
            "Enter the number of lines: 5\n",
            "|||||||||\n",
            " |||||||\n",
            "  |||||\n",
            "   |||\n",
            "    |\n"
          ]
        }
      ]
    },
    {
      "cell_type": "code",
      "source": [
        "n = int(input(\"Type the number of lines \"))\n",
        "for i in range(1, n+1):\n",
        "  print(\" \" * (i - 1), end = \"\")\n",
        "  print(\"|\" * ((n - i) * 2 + 1))"
      ],
      "metadata": {
        "colab": {
          "base_uri": "https://localhost:8080/"
        },
        "id": "h0-ECX6FMMss",
        "outputId": "ec1db5f9-5103-412f-9bb9-5961ddf78b47"
      },
      "execution_count": 18,
      "outputs": [
        {
          "output_type": "stream",
          "name": "stdout",
          "text": [
            "Type the number of lines 5\n",
            "|||||||||\n",
            " |||||||\n",
            "  |||||\n",
            "   |||\n",
            "    |\n"
          ]
        }
      ]
    },
    {
      "cell_type": "code",
      "source": [],
      "metadata": {
        "id": "XcPLeOmXpcuW"
      },
      "execution_count": null,
      "outputs": []
    }
  ]
}