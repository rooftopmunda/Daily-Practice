{
  "nbformat": 4,
  "nbformat_minor": 0,
  "metadata": {
    "colab": {
      "provenance": [],
      "authorship_tag": "ABX9TyONDSSMrQOgm9csPGpx3IP3",
      "include_colab_link": true
    },
    "kernelspec": {
      "name": "python3",
      "display_name": "Python 3"
    },
    "language_info": {
      "name": "python"
    }
  },
  "cells": [
    {
      "cell_type": "markdown",
      "metadata": {
        "id": "view-in-github",
        "colab_type": "text"
      },
      "source": [
        "<a href=\"https://colab.research.google.com/github/rooftopmunda/Daily-Practice/blob/main/All_in_One.ipynb\" target=\"_parent\"><img src=\"https://colab.research.google.com/assets/colab-badge.svg\" alt=\"Open In Colab\"/></a>"
      ]
    },
    {
      "cell_type": "code",
      "execution_count": null,
      "metadata": {
        "id": "Mtd5gKonIbDS"
      },
      "outputs": [],
      "source": [
        "#Practice 12/7/23\n",
        "print('''Simple Calculator\n",
        "Add - 1\n",
        "Sub - 2\n",
        "Mul - 3\n",
        "Div - 4\n",
        "\n",
        "Note: Division by 0 is not allowed!\n",
        "''')\n",
        "number1 = int(input(\"Enter a number: \"))\n",
        "number2 = int(input(\"Enter another number: \"))\n",
        "choice = int(input(\"Choose an operation: \"))\n",
        "\n",
        "valid_statement = True\n",
        "\n",
        "if choice == 1:\n",
        "  result = number1 + number2\n",
        "  operation = \"Add\"\n",
        "elif choice == 2:\n",
        "  result = number1 - number2\n",
        "  operation = \"Subtract\"\n",
        "elif choice == 3:\n",
        "  result = number1 * number2\n",
        "  operation = \"Multiply\"\n",
        "elif choice == 4 and number2 != 0:\n",
        "  result = float(number1) / float(number2)\n",
        "  operation = \"Divide\"\n",
        "elif choice == 4 and number2 == 0:\n",
        "  print(\"Division by 0 is not allowed!\")\n",
        "  valid_statement = False\n",
        "elif choice > 4:\n",
        "  print(\"Invalid Choice!\")\n",
        "  valid_statement = False\n",
        "\n",
        "if valid_statement:\n",
        "  print(f\"When you {operation} {number1} and {number2}, you get:\", result)"
      ]
    },
    {
      "cell_type": "code",
      "source": [
        "#Practice 12/7/2023\n",
        "a = number = int(input(\"Enter a number: \"))\n",
        "b = number2 = int(input(\"Enter second number: \"))\n",
        "print(a, b)\n",
        "\n",
        "a = a + b\n",
        "b = a - b\n",
        "a = a - b\n",
        "print(a, b)\n",
        "\n",
        "number1 = int(input(\"Enter a number: \"))\n",
        "number_2 = int(input(\"Enter second number: \"))\n",
        "print(number1, number_2)\n",
        "\n",
        "temp = number1\n",
        "number1 = number_2\n",
        "number_2 = temp\n",
        "print(number1, number_2)"
      ],
      "metadata": {
        "id": "S3tapi_oKoFo"
      },
      "execution_count": null,
      "outputs": []
    },
    {
      "cell_type": "code",
      "source": [
        "#Practice - 12/7/2023\n",
        "\n",
        "string = input(\"Enter a string\")\n",
        "rev_string = string.split()\n",
        "string_rev = \" \".join(reversed(rev_string))\n",
        "print(string_rev)"
      ],
      "metadata": {
        "id": "5y4EFEpZLENv"
      },
      "execution_count": null,
      "outputs": []
    },
    {
      "cell_type": "code",
      "source": [
        "#Practice - 12/7/2023\n",
        "integer = (input(\"Enter a number to reverse it: \"))\n",
        "rev_int = \" \".join(integer[::-1])\n",
        "print(rev_int)"
      ],
      "metadata": {
        "colab": {
          "base_uri": "https://localhost:8080/"
        },
        "id": "zDXThPn6NcAV",
        "outputId": "0829eb15-0aca-4a4c-8d3b-5d650c4630d5"
      },
      "execution_count": 24,
      "outputs": [
        {
          "output_type": "stream",
          "name": "stdout",
          "text": [
            "Enter a number to reverse it: 23568\n",
            "8 6 5 3 2\n"
          ]
        }
      ]
    },
    {
      "cell_type": "code",
      "source": [
        "#Practice - 12/7/2023\n",
        "number = input(\"Enter a number to check if it is a palindrome number\")\n",
        "check = number[::-1]\n",
        "if check == number:\n",
        "  print(\"It is a palindrome number!\")\n",
        "else:\n",
        "  print(\"it is not a palindrome number!\")"
      ],
      "metadata": {
        "colab": {
          "base_uri": "https://localhost:8080/"
        },
        "id": "LNo0TXwaOLaI",
        "outputId": "d190e93c-91d9-4cdb-b755-d535703e94f6"
      },
      "execution_count": 27,
      "outputs": [
        {
          "output_type": "stream",
          "name": "stdout",
          "text": [
            "Enter a number to check if it is a palindrome number12321\n",
            "It is a palindrome number!\n"
          ]
        }
      ]
    },
    {
      "cell_type": "code",
      "source": [
        "number = int(input(\"Enter a number to check if it is divisible by 3 OR 6: \"))\n",
        "if number % 3 == 0 or number % 6 == 0:\n",
        "  print(\"The number is divisible by 3 or 6\")\n",
        "else:\n",
        "  print(\"The number is not divisible by 3 or 6\")"
      ],
      "metadata": {
        "colab": {
          "base_uri": "https://localhost:8080/"
        },
        "id": "oGrWzP3GePsT",
        "outputId": "8c9a45b1-2288-4d8c-a710-d3fce8c3033a"
      },
      "execution_count": 30,
      "outputs": [
        {
          "output_type": "stream",
          "name": "stdout",
          "text": [
            "Enter a number to check if it is divisible by 3 OR 6: 1\n",
            "The number is not divisible by 3 or 6\n"
          ]
        }
      ]
    },
    {
      "cell_type": "code",
      "source": [
        "number1 = int(input(\"Enter a number: \"))\n",
        "if number1 % 3 == 0:\n",
        "  print(f'{number1} is divisible by 3.')\n",
        "  if number1 % 6 == 0:\n",
        "    print(f'{number1} is divisible by 6')\n",
        "  else:\n",
        "    print(f'{number1} is not divisible by 6')\n",
        "else:\n",
        "  print(f'{number1} is not divisible by 3 or 6')"
      ],
      "metadata": {
        "id": "j3i56GkHjlag"
      },
      "execution_count": null,
      "outputs": []
    },
    {
      "cell_type": "code",
      "source": [
        "side1 = float(input(\"Enter the first side of the triangle: \"))\n",
        "side2 = float(input(\"Enter the second side of the triangle: \"))\n",
        "\n",
        "hypotenuse = (side1**2 + side2**2) ** 0.5\n",
        "r_hyp = round(hypotenuse, 2)\n",
        "print(\"The length of the hypotenuse is\", r_hyp)"
      ],
      "metadata": {
        "id": "cdPArUjulISx"
      },
      "execution_count": null,
      "outputs": []
    },
    {
      "cell_type": "code",
      "source": [
        "import math\n",
        "\n",
        "side1 = float(input(\"Enter the first side of the triangle: \"))\n",
        "side2 = float(input(\"Enter the second side of the triangle: \"))\n",
        "\n",
        "hypotenuse = math.sqrt(side1**2 + side2**2)\n",
        "r_hyp = round(hypotenuse, 3)\n",
        "print(\"The length of the hypotenuse is: \", r_hyp)\n"
      ],
      "metadata": {
        "id": "T41LX8NTRbZU"
      },
      "execution_count": null,
      "outputs": []
    },
    {
      "cell_type": "code",
      "source": [
        "sentence = input(\"Enter a sentence to check if a word exists in the sentence: \")\n",
        "word = input(\"Enter the word you want to verify: \")\n",
        "if word.lower() in sentence.lower():\n",
        "  print(f\"{word} is present in the sentence!\")\n",
        "else:\n",
        "  print(f\"{word} is not present in the sentence!\")"
      ],
      "metadata": {
        "id": "0tkPYdpDScNQ"
      },
      "execution_count": null,
      "outputs": []
    },
    {
      "cell_type": "code",
      "source": [
        "fruits = [\"apple\", \"banana\", \"cherry\", \"orange\", \"apricot\", \"custard apple\", \"grapes\"]\n",
        "\n",
        "for fruit in fruits:\n",
        "  print(fruit)\n",
        "  for char in fruit:\n",
        "    print(char)\n"
      ],
      "metadata": {
        "id": "QPk0sKvVTc16"
      },
      "execution_count": null,
      "outputs": []
    },
    {
      "cell_type": "code",
      "source": [
        "w_time = input(\"What time is it now? Day/Night: \")\n",
        "if \"day\" in w_time.lower():\n",
        "  day = input('''What activity would you like to do?\n",
        "  Play Outside?\n",
        "  Read a Book?\n",
        "  Take a Nap?\n",
        "  ''')\n",
        "  if \"play\" or \"book\" or \"nap\" in day.lower():\n",
        "    print(\"Goodluck!\")\n",
        "\n",
        "else:\n",
        "  print(\"take rest\")\n",
        "\n"
      ],
      "metadata": {
        "id": "JPgQ1UnjWCVI"
      },
      "execution_count": null,
      "outputs": []
    },
    {
      "cell_type": "code",
      "source": [
        "integer = int(input(\"Enter a positive number: \"))\n",
        "\n",
        "if integer <= 1:\n",
        "  print(\"Enter a positive number: \")\n",
        "\n",
        "countdown = \"\"\n",
        "while integer >= 1:\n",
        "  countdown += str(integer) + (\", \")\n",
        "  integer -= 1\n",
        "\n",
        "countdown = countdown.rstrip(\", \")\n",
        "print(countdown)"
      ],
      "metadata": {
        "id": "P3g0LptSay5o"
      },
      "execution_count": null,
      "outputs": []
    },
    {
      "cell_type": "code",
      "source": [
        "integer = int(input(\"Enter a positive number: \"))\n",
        "while integer >= 0:\n",
        "  print(integer)\n",
        "  integer -= 1"
      ],
      "metadata": {
        "id": "kWnoiOEkchre"
      },
      "execution_count": null,
      "outputs": []
    },
    {
      "cell_type": "code",
      "source": [
        "#12/7/2023\n",
        "number_pages = int(input(\"Enter the number of pages in the book: \"))\n",
        "num_page_chapter = int(input(\"Enter the number of pages per chapter in the book: \"))\n",
        "\n",
        "total_chapter = number_pages // num_page_chapter\n",
        "print(\"The total number of chapters in the book are: \", total_chapter)"
      ],
      "metadata": {
        "colab": {
          "base_uri": "https://localhost:8080/"
        },
        "id": "rP9TMoURcygP",
        "outputId": "96c4ade4-bc62-4ae6-d0bc-b13f84ac3eca"
      },
      "execution_count": 23,
      "outputs": [
        {
          "output_type": "stream",
          "name": "stdout",
          "text": [
            "Enter the number of pages in the book: 1200\n",
            "Enter the number of pages per chapter in the book: 66\n",
            "The total number of chapters in the book are:  18\n"
          ]
        }
      ]
    },
    {
      "cell_type": "code",
      "source": [],
      "metadata": {
        "id": "wX6rIk8XeA8b"
      },
      "execution_count": null,
      "outputs": []
    }
  ]
}