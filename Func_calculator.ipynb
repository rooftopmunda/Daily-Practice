{
 "cells": [
  {
   "cell_type": "code",
   "execution_count": null,
   "metadata": {},
   "outputs": [],
   "source": [
    "def add(x, y):\n",
    "    return x + y\n",
    "\n",
    "def subtract(x, y):\n",
    "    return x - y\n",
    "\n",
    "def multiply(x, y):\n",
    "    return x * y\n",
    "\n",
    "def divide(x, y):\n",
    "    if y != 0:\n",
    "        return x / y\n",
    "    else:\n",
    "        return \"Error: Cannot divide by zero.\"\n",
    "\n",
    "def calculator():\n",
    "    print(\"Select operation:\")\n",
    "    print(\"1. Addition\")\n",
    "    print(\"2. Subtraction\")\n",
    "    print(\"3. Multiplication\")\n",
    "    print(\"4. Division\")\n",
    "\n",
    "    choice = input(\"Enter choice (1/2/3/4): \")\n",
    "\n",
    "    if choice not in ('1', '2', '3', '4'):\n",
    "        print(\"Invalid input.\")\n",
    "        return\n",
    "\n",
    "    num1 = float(input(\"Enter first number: \"))\n",
    "    num2 = float(input(\"Enter second number: \"))\n",
    "\n",
    "    if choice == '1':\n",
    "        print(\"Result:\", add(num1, num2))\n",
    "    elif choice == '2':\n",
    "        print(\"Result:\", subtract(num1, num2))\n",
    "    elif choice == '3':\n",
    "        print(\"Result:\", multiply(num1, num2))\n",
    "    elif choice == '4':\n",
    "        print(\"Result:\", divide(num1, num2))\n",
    "\n",
    "calculator()"
   ]
  },
  {
   "cell_type": "code",
   "execution_count": 10,
   "metadata": {},
   "outputs": [
    {
     "name": "stdout",
     "output_type": "stream",
     "text": [
      "Enter an operation: \n",
      "Add: 1\n",
      "Sub: 2\n",
      "Mul: 3\n",
      "Div: 4\n",
      "Result: 66.0\n"
     ]
    }
   ],
   "source": [
    "def add_num(x,y):\n",
    "    return x + y\n",
    "\n",
    "def sub_num(x,y):\n",
    "    return x - y\n",
    "\n",
    "def mul_num(x,y):\n",
    "    return x * y\n",
    "\n",
    "def div_num(x,y):\n",
    "    if y != 0:\n",
    "        return x / y\n",
    "    else:\n",
    "        print(\"Division by 0 is not allowed!\") #----------- Can use return instead of print\n",
    "        \n",
    "def calculator():\n",
    "    print(\"Enter an operation: \")\n",
    "    print(\"Add: 1\")\n",
    "    print(\"Sub: 2\")\n",
    "    print(\"Mul: 3\")\n",
    "    print(\"Div: 4\")\n",
    "    \n",
    "    choice = input(\"Enter a choice 1/2/3/4: \")\n",
    "\n",
    "    if choice not in [\"1\", \"2\",\"3\",\"4\"] : #-----------List\n",
    "        print(\"Invalid Choice!\")\n",
    "        return\n",
    "\n",
    "    num1 = float(input(\"Enter first number: \"))\n",
    "    num2 = float(input(\"Enter second number: \"))\n",
    "\n",
    "    if choice == \"1\":\n",
    "        print(\"Result:\", add_num(num1,num2))\n",
    "    elif choice == \"2\":\n",
    "        print(\"Result:\", sub_num(num1,num2))\n",
    "    elif choice == \"3\":\n",
    "        print(\"Result:\", mul_num(num1,num2))\n",
    "    elif choice == \"4\":\n",
    "        print(\"Result:\", div_num(num1,num2))\n",
    "    \n",
    "calculator()\n",
    "\n",
    "    \n",
    "    "
   ]
  },
  {
   "cell_type": "code",
   "execution_count": null,
   "metadata": {},
   "outputs": [],
   "source": []
  }
 ],
 "metadata": {
  "kernelspec": {
   "display_name": "Python 3",
   "language": "python",
   "name": "python3"
  },
  "language_info": {
   "codemirror_mode": {
    "name": "ipython",
    "version": 3
   },
   "file_extension": ".py",
   "mimetype": "text/x-python",
   "name": "python",
   "nbconvert_exporter": "python",
   "pygments_lexer": "ipython3",
   "version": "3.11.3"
  },
  "orig_nbformat": 4
 },
 "nbformat": 4,
 "nbformat_minor": 2
}
