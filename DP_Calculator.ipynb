{
  "nbformat": 4,
  "nbformat_minor": 0,
  "metadata": {
    "colab": {
      "provenance": [],
      "authorship_tag": "ABX9TyNebJ+DAfCuo4++QOM2HsF8",
      "include_colab_link": true
    },
    "kernelspec": {
      "name": "python3",
      "display_name": "Python 3"
    },
    "language_info": {
      "name": "python"
    }
  },
  "cells": [
    {
      "cell_type": "markdown",
      "metadata": {
        "id": "view-in-github",
        "colab_type": "text"
      },
      "source": [
        "<a href=\"https://colab.research.google.com/github/rooftopmunda/Daily-Practice/blob/main/DP_Calculator.ipynb\" target=\"_parent\"><img src=\"https://colab.research.google.com/assets/colab-badge.svg\" alt=\"Open In Colab\"/></a>"
      ]
    },
    {
      "cell_type": "markdown",
      "source": [
        "#Create a calculator in python using if else elif statement. Acknowledge the fact that division by 0 is not allowed."
      ],
      "metadata": {
        "id": "DxLb502zf4x9"
      }
    },
    {
      "cell_type": "code",
      "execution_count": null,
      "metadata": {
        "id": "2IppGvuZT3vg"
      },
      "outputs": [],
      "source": [
        "print(\"\"\"This is a simple calculator which can perform basic arithmetic operations\n",
        "\n",
        "Add - 1\n",
        "Subtract - 2\n",
        "Multiply - 3\n",
        "Divide - 4\n",
        "\n",
        "Note: Divison by 0 is not allowed\"\"\")\n",
        "\n",
        "num1 = float(input(\"Enter a number: \"))\n",
        "num2 = float(input(\"Enter second number: \"))\n",
        "choice = int(input(\"Choose the type of operation: \"))\n",
        "\n",
        "#Operations\n",
        "\n",
        "if choice == 1:\n",
        "  result = num1 + num2\n",
        "  operation = \"Add\"\n",
        "\n",
        "elif choice == 2:\n",
        "  result = num1 - num2\n",
        "  operation = \"Subtract\"\n",
        "\n",
        "elif choice == 3:\n",
        "  result = num1 * num2\n",
        "  operation = \"Multiply\"\n",
        "\n",
        "elif choice == 4:\n",
        "  if num2 != 0:\n",
        "    result = num1 / num2\n",
        "    operation = \"Divide\"\n",
        "  else:\n",
        "    print(\"Division by 0 is not allowed\")\n",
        "else:\n",
        "  print(\"Invalid choice\")\n",
        "\n",
        "if choice == 4 and num2 == 0: #here a specific condition has been set that if the user choose division which is choice = 4 and num2 = 0 only then it will trigger \"invalid choice\"\n",
        "  print(\"Invalid Choice\")\n",
        "else:\n",
        "  print(f\"When you {operation} {num1} and {num2} you get {result}\")"
      ]
    },
    {
      "cell_type": "markdown",
      "source": [
        "Practice: 8/7/23\n",
        "In this version, I added a valid_operation flag variable which is initially set to True. If a division by 0 or an invalid operation occurs, the flag is set to False. After performing the necessary checks, the last print statement is only executed if valid_operation is True."
      ],
      "metadata": {
        "id": "smn5q-H1ptHa"
      }
    },
    {
      "cell_type": "code",
      "source": [
        "print(\"\"\"This is a simple Calculator\n",
        "Add - 1\n",
        "Sub - 2\n",
        "Multiply - 3\n",
        "Divide - 4\n",
        "\"\"\")\n",
        "number1 = int(input(\"Enter a number: \"))\n",
        "number2 = int(input(\"Enter another number: \"))\n",
        "choice = int(input(\"Enter an operation: \"))\n",
        "\n",
        "valid_operation = True\n",
        "\n",
        "#Operations\n",
        "if choice == 1:\n",
        "  result = float(number1) + float(number2)\n",
        "  opr = \"Add\"\n",
        "elif choice == 2:\n",
        "    result = float(number1) - float(number2)\n",
        "    opr = \"Subtract\"\n",
        "elif choice == 3:\n",
        "    result = float(number1) * float(number2)\n",
        "    opr = \"Multiply\"\n",
        "elif choice == 4 and number2 != 0:\n",
        "    result = float(number1) / float(number2)\n",
        "    opr = \"Divide\"\n",
        "elif choice == 4 and number2 == 0:\n",
        "  print(\"Division by 0 is not allowed!\")\n",
        "  valid_operation = False\n",
        "elif choice > 4:\n",
        "  print(\"Invalid operation\")\n",
        "  valid_operation = False\n",
        "\n",
        "if valid_operation:\n",
        "  print(f\"When you {opr} {number1} and {number2}, you get: {result}\")"
      ],
      "metadata": {
        "id": "tULcB5YCeEf5"
      },
      "execution_count": null,
      "outputs": []
    },
    {
      "cell_type": "markdown",
      "source": [
        "Practice 9/7/2023\n",
        "Mistakes : Couldn't understand the logic behind valid operations. Got confused while adding the elif statement for division operation.\n",
        "\n",
        "Suggestions = In the next version try to add a conditon which prompts the user to re-enter the second digit if the number is 0 and then continues with the division operation."
      ],
      "metadata": {
        "id": "TAahhRvzfJxt"
      }
    },
    {
      "cell_type": "code",
      "source": [
        "print('''This is a simple calculator\n",
        "Add - 1\n",
        "Sub - 2\n",
        "Mul - 3\n",
        "Div - 4\n",
        "''')\n",
        "\n",
        "num1 = int(input(\"Enter a number: \"))\n",
        "num2 = int(input(\"Enter another number: \"))\n",
        "choice = int(input(\"Choose an operation: \"))\n",
        "\n",
        "valid_operation = True\n",
        "\n",
        "if choice == 1:\n",
        "  result = num1 + num2\n",
        "  opr = \"Add\"\n",
        "elif choice == 2:\n",
        "  result = num1 - num2\n",
        "  opr = \"Subtract\"\n",
        "elif choice == 3:\n",
        "  result = num1 * num2\n",
        "  opr = \"Multiply\"\n",
        "elif choice == 4 and num2 != 0:\n",
        "  result = float(num1) / float(num2)\n",
        "  opr = \"Divide\"\n",
        "elif choice == 4 and num2 == 0:\n",
        "  print(\"Division by 0 is not allowed\")\n",
        "  valid_operation = False\n",
        "elif choice > 4:\n",
        "  print(\"Invalid Operation\")\n",
        "  valid_operation = False\n",
        "\n",
        "if valid_operation:\n",
        "  print(f'when you {opr} {num1} and {num2}, you get: {result}')"
      ],
      "metadata": {
        "id": "JLBDfBKql1HG"
      },
      "execution_count": null,
      "outputs": []
    },
    {
      "cell_type": "markdown",
      "source": [
        "Practice 10/07/23"
      ],
      "metadata": {
        "id": "URpoQ-suRIx5"
      }
    },
    {
      "cell_type": "code",
      "source": [
        "print(\"\"\"This is a calculator\n",
        "Add - 1\n",
        "Sub - 2\n",
        "Mul - 3\n",
        "Div - 4\n",
        "*Division by 0 is not allowed*\"\"\")\n",
        "\n",
        "num1 = int(input(\"Type a number: \"))\n",
        "num2 = int(input(\"Type another number: \"))\n",
        "choice = int(input(\"Choose an operation: \"))\n",
        "\n",
        "#Operation\n",
        "valid_operation = True\n",
        "\n",
        "if choice == 1:\n",
        "  result = num1 + num2\n",
        "  opr = \"Add\"\n",
        "elif choice == 2:\n",
        "  result = num1 - num2\n",
        "  opr = \"Subtract\"\n",
        "elif choice == 3:\n",
        "  result = num1 * num2\n",
        "  opr = \"Multiply\"\n",
        "elif choice == 4 and num2 != 0:\n",
        "  result = float(num1) / float(num2)\n",
        "  opr = \"Divide\"\n",
        "elif choice == 4 and num2 == 0:\n",
        "  print(\"Division by 0 is not allowed!\")\n",
        "  valid_operation = False\n",
        "elif choice > 4:\n",
        "  print(\"Invalid choice\")\n",
        "  valid_operation = False\n",
        "\n",
        "if valid_operation:\n",
        "  print(f'When you {opr} {num1} and {num2}, you get: {result}')"
      ],
      "metadata": {
        "id": "OrjQDgeqRy91"
      },
      "execution_count": null,
      "outputs": []
    },
    {
      "cell_type": "code",
      "source": [],
      "metadata": {
        "id": "gA0Xjt-4SCWi"
      },
      "execution_count": null,
      "outputs": []
    }
  ]
}