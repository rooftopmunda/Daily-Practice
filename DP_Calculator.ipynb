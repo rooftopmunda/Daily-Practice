{
  "nbformat": 4,
  "nbformat_minor": 0,
  "metadata": {
    "colab": {
      "provenance": [],
      "authorship_tag": "ABX9TyP6Y6MUhWuExfKlRxiPYcxw",
      "include_colab_link": true
    },
    "kernelspec": {
      "name": "python3",
      "display_name": "Python 3"
    },
    "language_info": {
      "name": "python"
    }
  },
  "cells": [
    {
      "cell_type": "markdown",
      "metadata": {
        "id": "view-in-github",
        "colab_type": "text"
      },
      "source": [
        "<a href=\"https://colab.research.google.com/github/rooftopmunda/Daily-Practice/blob/main/DP_Calculator.ipynb\" target=\"_parent\"><img src=\"https://colab.research.google.com/assets/colab-badge.svg\" alt=\"Open In Colab\"/></a>"
      ]
    },
    {
      "cell_type": "code",
      "execution_count": null,
      "metadata": {
        "id": "2IppGvuZT3vg"
      },
      "outputs": [],
      "source": [
        "print(\"\"\"This is a simple calculator which can perform basic arithmetic operations\n",
        "\n",
        "Add - 1\n",
        "Subtract - 2\n",
        "Multiply - 3\n",
        "Divide - 4\n",
        "\n",
        "Note: Divison by 0 is not allowed\"\"\")\n",
        "\n",
        "num1 = float(input(\"Enter a number: \"))\n",
        "num2 = float(input(\"Enter second number: \"))\n",
        "choice = int(input(\"Choose the type of operation: \"))\n",
        "\n",
        "#Operations\n",
        "\n",
        "if choice == 1:\n",
        "  result = num1 + num2\n",
        "  operation = \"Add\"\n",
        "\n",
        "elif choice == 2:\n",
        "  result = num1 - num2\n",
        "  operation = \"Subtract\"\n",
        "\n",
        "elif choice == 3:\n",
        "  result = num1 * num2\n",
        "  operation = \"Multiply\"\n",
        "\n",
        "elif choice == 4:\n",
        "  if num2 != 0:\n",
        "    result = num1 / num2\n",
        "    operation = \"Divide\"\n",
        "  else:\n",
        "    print(\"Division by 0 is not allowed\")\n",
        "else:\n",
        "  print(\"Invalid choice\")\n",
        "\n",
        "if choice == 4 and num2 == 0: #here a specific condition has been set that if the user choose division which is choice = 4 and num2 = 0 only then it will trigger \"invalid choice\"\n",
        "  print(\"Invalid Choice\")\n",
        "else:\n",
        "  print(f\"When you {operation} {num1} and {num2} you get {result}\")"
      ]
    }
  ]
}