{
  "nbformat": 4,
  "nbformat_minor": 0,
  "metadata": {
    "colab": {
      "provenance": [],
      "authorship_tag": "ABX9TyNGr2hS/1WLZke45JJCIPXN",
      "include_colab_link": true
    },
    "kernelspec": {
      "name": "python3",
      "display_name": "Python 3"
    },
    "language_info": {
      "name": "python"
    }
  },
  "cells": [
    {
      "cell_type": "markdown",
      "metadata": {
        "id": "view-in-github",
        "colab_type": "text"
      },
      "source": [
        "<a href=\"https://colab.research.google.com/github/rooftopmunda/Daily-Practice/blob/main/3D.ipynb\" target=\"_parent\"><img src=\"https://colab.research.google.com/assets/colab-badge.svg\" alt=\"Open In Colab\"/></a>"
      ]
    },
    {
      "cell_type": "markdown",
      "source": [
        "#Write a programme that calculates  Euclidean distance between\n",
        "#two points in a three-dimensional space."
      ],
      "metadata": {
        "id": "l4Hxfs0N2UUH"
      }
    },
    {
      "cell_type": "code",
      "execution_count": null,
      "metadata": {
        "id": "ymFL9hBe0w_E"
      },
      "outputs": [],
      "source": [
        "import math\n",
        "\n",
        "# Function to calculate Euclidean distance\n",
        "def euclidean_distance(x1, y1, z1, x2, y2, z2):\n",
        "    distance = math.sqrt((x2 - x1)**2 + (y2 - y1)**2 + (z2 - z1)**2)\n",
        "    return distance\n",
        "\n",
        "# Input coordinates\n",
        "x1 = float(input(\"Enter the x-coordinate of the first point: \"))\n",
        "y1 = float(input(\"Enter the y-coordinate of the first point: \"))\n",
        "z1 = float(input(\"Enter the z-coordinate of the first point: \"))\n",
        "x2 = float(input(\"Enter the x-coordinate of the second point: \"))\n",
        "y2 = float(input(\"Enter the y-coordinate of the second point: \"))\n",
        "z2 = float(input(\"Enter the z-coordinate of the second point: \"))\n",
        "\n",
        "# Calculate 3-D Euclidean distance\n",
        "distance = euclidean_distance(x1, y1, z1, x2, y2, z2)\n",
        "\n",
        "# Print the result\n",
        "print(\"The Euclidean distance between the two coordinates is:\", distance)"
      ]
    },
    {
      "cell_type": "code",
      "source": [
        "import math\n",
        "\n",
        "# Input coordinates\n",
        "x1 = float(input(\"Enter the x-coordinate of the first point: \"))\n",
        "y1 = float(input(\"Enter the y-coordinate of the first point: \"))\n",
        "z1 = float(input(\"Enter the z-coordinate of the first point: \"))\n",
        "x2 = float(input(\"Enter the x-coordinate of the second point: \"))\n",
        "y2 = float(input(\"Enter the y-coordinate of the second point: \"))\n",
        "z2 = float(input(\"Enter the z-coordinate of the second point: \"))\n",
        "\n",
        "# Calculate Euclidean distance\n",
        "distance = math.sqrt((x2 - x1)**2 + (y2 - y1)**2 + (z2 - z1)**2)\n",
        "final_d = round(distance, 2)\n",
        "\n",
        "# Print the result\n",
        "print(\"The Euclidean distance between the two coordinates is:\", final_d)"
      ],
      "metadata": {
        "id": "tmXfqnFeW83I"
      },
      "execution_count": null,
      "outputs": []
    },
    {
      "cell_type": "code",
      "source": [
        "#Practice 15/7/2023\n",
        "import math\n",
        "x1 = float(input(\"Enter the x-coordinate of the first point: \"))\n",
        "y1 = float(input(\"Enter the y-coordinate of the first point: \"))\n",
        "z1 = float(input(\"Enter the z-coordinate of the first point: \"))\n",
        "x2 = float(input(\"Enter the x-coordinate of the second point: \"))\n",
        "y2 = float(input(\"Enter the y-coordinate of the second point: \"))\n",
        "z2 = float(input(\"Enter the z-coordinate of the second point: \"))\n",
        "\n",
        "distance = math.sqrt((x2 - x1)**2 + (y2 - y1)**2 + (z2 - z1)**2)\n",
        "final_d = round(distance, 2)\n",
        "print(\"The Euclidean distacne between the two co-ordeinates is: \", final_d)"
      ],
      "metadata": {
        "id": "SOqJmE4dtDDu",
        "outputId": "6589f396-4f40-46c4-e0ec-6fc04f088b95",
        "colab": {
          "base_uri": "https://localhost:8080/"
        }
      },
      "execution_count": 2,
      "outputs": [
        {
          "output_type": "stream",
          "name": "stdout",
          "text": [
            "Enter the x-coordinate of the first point: 25\n",
            "Enter the y-coordinate of the first point: 63\n",
            "Enter the z-coordinate of the first point: 45\n",
            "Enter the x-coordinate of the second point: 58\n",
            "Enter the y-coordinate of the second point: 25\n",
            "Enter the z-coordinate of the second point: 36\n",
            "The Euclidean distacne between the two co-ordeinates is:  51.13\n"
          ]
        }
      ]
    },
    {
      "cell_type": "code",
      "source": [],
      "metadata": {
        "id": "f9L8TVj1tGwH"
      },
      "execution_count": null,
      "outputs": []
    }
  ]
}