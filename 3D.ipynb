{
  "cells": [
    {
      "cell_type": "markdown",
      "metadata": {
        "colab_type": "text",
        "id": "view-in-github"
      },
      "source": [
        "<a href=\"https://colab.research.google.com/github/rooftopmunda/Daily-Practice/blob/main/3D.ipynb\" target=\"_parent\"><img src=\"https://colab.research.google.com/assets/colab-badge.svg\" alt=\"Open In Colab\"/></a>"
      ]
    },
    {
      "cell_type": "markdown",
      "metadata": {
        "id": "l4Hxfs0N2UUH"
      },
      "source": [
        "#Write a programme that calculates  Euclidean distance between\n",
        "#two points in a three-dimensional space."
      ]
    },
    {
      "cell_type": "code",
      "execution_count": null,
      "metadata": {
        "id": "ymFL9hBe0w_E"
      },
      "outputs": [],
      "source": [
        "import math\n",
        "\n",
        "# Function to calculate Euclidean distance\n",
        "def euclidean_distance(x1, y1, z1, x2, y2, z2):\n",
        "    distance = math.sqrt((x2 - x1)**2 + (y2 - y1)**2 + (z2 - z1)**2)\n",
        "    return distance\n",
        "\n",
        "# Input coordinates\n",
        "x1 = float(input(\"Enter the x-coordinate of the first point: \"))\n",
        "y1 = float(input(\"Enter the y-coordinate of the first point: \"))\n",
        "z1 = float(input(\"Enter the z-coordinate of the first point: \"))\n",
        "x2 = float(input(\"Enter the x-coordinate of the second point: \"))\n",
        "y2 = float(input(\"Enter the y-coordinate of the second point: \"))\n",
        "z2 = float(input(\"Enter the z-coordinate of the second point: \"))\n",
        "\n",
        "# Calculate 3-D Euclidean distance\n",
        "distance = euclidean_distance(x1, y1, z1, x2, y2, z2)\n",
        "\n",
        "# Print the result\n",
        "print(\"The Euclidean distance between the two coordinates is:\", distance)"
      ]
    },
    {
      "cell_type": "code",
      "execution_count": null,
      "metadata": {
        "id": "tmXfqnFeW83I"
      },
      "outputs": [],
      "source": [
        "import math\n",
        "\n",
        "# Input coordinates\n",
        "x1 = float(input(\"Enter the x-coordinate of the first point: \"))\n",
        "y1 = float(input(\"Enter the y-coordinate of the first point: \"))\n",
        "z1 = float(input(\"Enter the z-coordinate of the first point: \"))\n",
        "x2 = float(input(\"Enter the x-coordinate of the second point: \"))\n",
        "y2 = float(input(\"Enter the y-coordinate of the second point: \"))\n",
        "z2 = float(input(\"Enter the z-coordinate of the second point: \"))\n",
        "\n",
        "# Calculate Euclidean distance\n",
        "distance = math.sqrt((x2 - x1)**2 + (y2 - y1)**2 + (z2 - z1)**2)\n",
        "final_d = round(distance, 2)\n",
        "\n",
        "# Print the result\n",
        "print(\"The Euclidean distance between the two coordinates is:\", final_d)"
      ]
    },
    {
      "cell_type": "code",
      "execution_count": null,
      "metadata": {
        "colab": {
          "base_uri": "https://localhost:8080/"
        },
        "id": "SOqJmE4dtDDu",
        "outputId": "6589f396-4f40-46c4-e0ec-6fc04f088b95"
      },
      "outputs": [],
      "source": [
        "#Practice 15/7/2023\n",
        "import math\n",
        "x1 = float(input(\"Enter the x-coordinate of the first point: \"))\n",
        "y1 = float(input(\"Enter the y-coordinate of the first point: \"))\n",
        "z1 = float(input(\"Enter the z-coordinate of the first point: \"))\n",
        "x2 = float(input(\"Enter the x-coordinate of the second point: \"))\n",
        "y2 = float(input(\"Enter the y-coordinate of the second point: \"))\n",
        "z2 = float(input(\"Enter the z-coordinate of the second point: \"))\n",
        "\n",
        "distance = math.sqrt((x2 - x1)**2 + (y2 - y1)**2 + (z2 - z1)**2)\n",
        "final_d = round(distance, 2)\n",
        "print(\"The Euclidean distacne between the two co-ordeinates is: \", final_d)"
      ]
    },
    {
      "cell_type": "code",
      "execution_count": null,
      "metadata": {
        "id": "f9L8TVj1tGwH"
      },
      "outputs": [],
      "source": []
    }
  ],
  "metadata": {
    "colab": {
      "authorship_tag": "ABX9TyNGr2hS/1WLZke45JJCIPXN",
      "include_colab_link": true,
      "provenance": []
    },
    "kernelspec": {
      "display_name": "Python 3",
      "name": "python3"
    },
    "language_info": {
      "name": "python"
    }
  },
  "nbformat": 4,
  "nbformat_minor": 0
}
