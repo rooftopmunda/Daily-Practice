{
  "nbformat": 4,
  "nbformat_minor": 0,
  "metadata": {
    "colab": {
      "provenance": [],
      "authorship_tag": "ABX9TyOg2xHZjAIAjoea2PqaqerZ",
      "include_colab_link": true
    },
    "kernelspec": {
      "name": "python3",
      "display_name": "Python 3"
    },
    "language_info": {
      "name": "python"
    }
  },
  "cells": [
    {
      "cell_type": "markdown",
      "metadata": {
        "id": "view-in-github",
        "colab_type": "text"
      },
      "source": [
        "<a href=\"https://colab.research.google.com/github/rooftopmunda/Daily-Practice/blob/main/Check_word_in_a_sentence.ipynb\" target=\"_parent\"><img src=\"https://colab.research.google.com/assets/colab-badge.svg\" alt=\"Open In Colab\"/></a>"
      ]
    },
    {
      "cell_type": "markdown",
      "source": [
        "#Write a program which prompts the user to enter a sentence and then checks if a word exists in that sentence."
      ],
      "metadata": {
        "id": "RpMYaW-nVCFS"
      }
    },
    {
      "cell_type": "markdown",
      "source": [
        "Practice - 10/7/2023\n",
        "\n",
        "The logic here is to take an input from the user. Once we have the sentence we can convert the sentence into a list of string or we can directly compare the string in the second sentence but we need to use the .lower() method so that the comparison is consistent."
      ],
      "metadata": {
        "id": "afv7SbxAZXEM"
      }
    },
    {
      "cell_type": "code",
      "execution_count": null,
      "metadata": {
        "id": "pU6dp7x9UfuC"
      },
      "outputs": [],
      "source": [
        "sentence =  input(\"Enter a sentence: \")\n",
        "word = input(\"Enter the word you want to check: \")\n",
        "\n",
        "if word.lower() in sentence.lower():\n",
        "  print(f\"{word} is present in the sentence!\")\n",
        "else:\n",
        "  print(f\"{word} is not present in the sentence!\")"
      ]
    }
  ]
}