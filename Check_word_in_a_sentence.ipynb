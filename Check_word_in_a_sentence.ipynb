{
  "cells": [
    {
      "cell_type": "markdown",
      "metadata": {
        "colab_type": "text",
        "id": "view-in-github"
      },
      "source": [
        "<a href=\"https://colab.research.google.com/github/rooftopmunda/Daily-Practice/blob/main/Check_word_in_a_sentence.ipynb\" target=\"_parent\"><img src=\"https://colab.research.google.com/assets/colab-badge.svg\" alt=\"Open In Colab\"/></a>"
      ]
    },
    {
      "cell_type": "markdown",
      "metadata": {
        "id": "RpMYaW-nVCFS"
      },
      "source": [
        "#Write a program which prompts the user to enter a sentence and then checks if a word exists in that sentence."
      ]
    },
    {
      "cell_type": "markdown",
      "metadata": {
        "id": "afv7SbxAZXEM"
      },
      "source": [
        "Practice - 10/7/2023\n",
        "\n",
        "The logic here is to take an input from the user. Once we have the sentence we can convert the sentence into a list of string or we can directly compare the string in the second sentence but we need to use the .lower() method so that the comparison is consistent."
      ]
    },
    {
      "cell_type": "code",
      "execution_count": null,
      "metadata": {
        "id": "pU6dp7x9UfuC"
      },
      "outputs": [],
      "source": [
        "sentence =  input(\"Enter a sentence: \")\n",
        "word = input(\"Enter the word you want to check: \")\n",
        "\n",
        "if word.lower() in sentence.lower():\n",
        "  print(f\"{word} is present in the sentence!\")\n",
        "else:\n",
        "  print(f\"{word} is not present in the sentence!\")"
      ]
    },
    {
      "cell_type": "code",
      "execution_count": 1,
      "metadata": {},
      "outputs": [
        {
          "name": "stdout",
          "output_type": "stream",
          "text": [
            "sufal is present in the sentence!\n"
          ]
        }
      ],
      "source": [
        "sentence = input(\"Enter a sentence and I will check if a specific word exists in that sentence: \")\n",
        "word = input(\"Enter the word you wish to check: \")\n",
        "\n",
        "if word.lower() in sentence.lower():\n",
        "    print(f'{word} is present in the sentence!')\n",
        "else:\n",
        "    print(f'{word} is not present in the sentence!')\n",
        "    "
      ]
    },
    {
      "cell_type": "code",
      "execution_count": 1,
      "metadata": {},
      "outputs": [
        {
          "name": "stdout",
          "output_type": "stream",
          "text": [
            "sufal is present in the sentence!\n"
          ]
        }
      ],
      "source": [
        "sentence = input(\"Enter a sentence to check if a specific word exists in it: \")\n",
        "word = input(\"Enter the word you want to check: \")\n",
        "\n",
        "if word.lower() in sentence.lower():\n",
        "    print(f'{word} is present in the sentence!')\n",
        "else:\n",
        "    print(f'{word} is not present in the sentence!')\n",
        "    "
      ]
    }
  ],
  "metadata": {
    "colab": {
      "authorship_tag": "ABX9TyOg2xHZjAIAjoea2PqaqerZ",
      "include_colab_link": true,
      "provenance": []
    },
    "kernelspec": {
      "display_name": "Python 3",
      "name": "python3"
    },
    "language_info": {
      "codemirror_mode": {
        "name": "ipython",
        "version": 3
      },
      "file_extension": ".py",
      "mimetype": "text/x-python",
      "name": "python",
      "nbconvert_exporter": "python",
      "pygments_lexer": "ipython3",
      "version": "3.10.9"
    }
  },
  "nbformat": 4,
  "nbformat_minor": 0
}
