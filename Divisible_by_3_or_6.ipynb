{
  "nbformat": 4,
  "nbformat_minor": 0,
  "metadata": {
    "colab": {
      "provenance": [],
      "authorship_tag": "ABX9TyPuim5MQ78YuQc14UhJ7/S4",
      "include_colab_link": true
    },
    "kernelspec": {
      "name": "python3",
      "display_name": "Python 3"
    },
    "language_info": {
      "name": "python"
    }
  },
  "cells": [
    {
      "cell_type": "markdown",
      "metadata": {
        "id": "view-in-github",
        "colab_type": "text"
      },
      "source": [
        "<a href=\"https://colab.research.google.com/github/rooftopmunda/Daily-Practice/blob/main/Divisible_by_3_or_6.ipynb\" target=\"_parent\"><img src=\"https://colab.research.google.com/assets/colab-badge.svg\" alt=\"Open In Colab\"/></a>"
      ]
    },
    {
      "cell_type": "markdown",
      "source": [
        "#Write a program that will tell whether the given number is divisible by 3 & 6."
      ],
      "metadata": {
        "id": "T8sRALUgBDF1"
      }
    },
    {
      "cell_type": "markdown",
      "source": [
        "The program below checks if the given is divisible by either 3 or 6:\n",
        "The logic is to check if the remainder is 0, because if the remainder is 0 it logically means that the number is divisible by the given number.\n",
        "Divisiblity is checked by using the modulo operator %"
      ],
      "metadata": {
        "id": "-f7-K0zSBPda"
      }
    },
    {
      "cell_type": "code",
      "source": [
        "number  = int(input(\"Enter a number to check if the number is divisible by 3 or 6\"))\n",
        "if number % 3 == 0 or number % 6 == 0:\n",
        "    print(\"The number is divisible by 3 or 6\")\n",
        "else:\n",
        "    print(\"The number is not divisible by 3 or 6\")"
      ],
      "metadata": {
        "colab": {
          "base_uri": "https://localhost:8080/"
        },
        "id": "jP50B4RtBIQe",
        "outputId": "62ce1954-1e5d-4e5d-b1ee-bb16904b9f38"
      },
      "execution_count": 4,
      "outputs": [
        {
          "output_type": "stream",
          "name": "stdout",
          "text": [
            "Enter a number to check if the number is divisible by 3 or 621\n",
            "The number is divisible by 3 or 6\n"
          ]
        }
      ]
    },
    {
      "cell_type": "code",
      "source": [],
      "metadata": {
        "id": "7BH12ErDBQgs"
      },
      "execution_count": null,
      "outputs": []
    }
  ]
}