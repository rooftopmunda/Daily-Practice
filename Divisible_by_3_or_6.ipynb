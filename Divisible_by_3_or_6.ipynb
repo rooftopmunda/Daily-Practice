{
  "cells": [
    {
      "cell_type": "markdown",
      "metadata": {
        "colab_type": "text",
        "id": "view-in-github"
      },
      "source": [
        "<a href=\"https://colab.research.google.com/github/rooftopmunda/Daily-Practice/blob/main/Divisible_by_3_or_6.ipynb\" target=\"_parent\"><img src=\"https://colab.research.google.com/assets/colab-badge.svg\" alt=\"Open In Colab\"/></a>"
      ]
    },
    {
      "cell_type": "markdown",
      "metadata": {},
      "source": [
        "#Write a program that will tell whether the given number is divisible by 3 & 6."
      ]
    },
    {
      "cell_type": "markdown",
      "metadata": {
        "id": "-f7-K0zSBPda"
      },
      "source": [
        "The program below checks if the given is divisible by either 3 or 6:\n",
        "The logic is to check if the remainder is 0, because if the remainder is 0 it logically means that the number is divisible by the given number.\n",
        "Divisiblity is checked by using the modulo operator %"
      ]
    },
    {
      "cell_type": "code",
      "execution_count": null,
      "metadata": {
        "colab": {
          "base_uri": "https://localhost:8080/"
        },
        "id": "jP50B4RtBIQe",
        "outputId": "62ce1954-1e5d-4e5d-b1ee-bb16904b9f38"
      },
      "outputs": [],
      "source": [
        "number  = int(input(\"Enter a number to check if the number is divisible by 3 or 6\"))\n",
        "if number % 3 == 0 or number % 6 == 0:\n",
        "    print(\"The number is divisible by 3 or 6\")\n",
        "else:\n",
        "    print(\"The number is not divisible by 3 or 6\")"
      ]
    },
    {
      "cell_type": "markdown",
      "metadata": {
        "id": "8tYx9SA8WuIh"
      },
      "source": [
        "Practice - 10/7/2023"
      ]
    },
    {
      "cell_type": "code",
      "execution_count": null,
      "metadata": {
        "id": "7BH12ErDBQgs"
      },
      "outputs": [],
      "source": [
        "number = int(input(\"Enter a number to check if it is divisible by either 3 or 6: \"))\n",
        "if number % 3 == 0 and number % 6 == 0:\n",
        "  print(\"The number is divisible by 3 and 6!\")\n",
        "else:\n",
        "  print(\"The number is not divisible by 3 and 6!\")"
      ]
    },
    {
      "cell_type": "code",
      "execution_count": null,
      "metadata": {},
      "outputs": [],
      "source": [
        "number = int(input(\"Enter a number to check if it is divisible by 5 or 10: \"))\n",
        "if number % 5 == 0 or number % 10 == 0:\n",
        "       print(f'{number} is divisible by 5 and 10')\n",
        "elif number % 5 != 0 or number % 10 != 0:\n",
        "    print(f'{number} is not divisible by 5 or 10')"
      ]
    },
    {
      "cell_type": "code",
      "execution_count": null,
      "metadata": {},
      "outputs": [],
      "source": [
        "sufal"
      ]
    }
  ],
  "metadata": {
    "colab": {
      "authorship_tag": "ABX9TyO546rtPGfYAwbY1afx3+WZ",
      "include_colab_link": true,
      "provenance": []
    },
    "kernelspec": {
      "display_name": "Python 3",
      "name": "python3"
    },
    "language_info": {
      "codemirror_mode": {
        "name": "ipython",
        "version": 3
      },
      "file_extension": ".py",
      "mimetype": "text/x-python",
      "name": "python",
      "nbconvert_exporter": "python",
      "pygments_lexer": "ipython3",
      "version": "3.11.3"
    }
  },
  "nbformat": 4,
  "nbformat_minor": 0
}
