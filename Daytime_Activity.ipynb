{
  "nbformat": 4,
  "nbformat_minor": 0,
  "metadata": {
    "colab": {
      "provenance": [],
      "authorship_tag": "ABX9TyND7QewEqtNE2ub+SjLsH5c",
      "include_colab_link": true
    },
    "kernelspec": {
      "name": "python3",
      "display_name": "Python 3"
    },
    "language_info": {
      "name": "python"
    }
  },
  "cells": [
    {
      "cell_type": "markdown",
      "metadata": {
        "id": "view-in-github",
        "colab_type": "text"
      },
      "source": [
        "<a href=\"https://colab.research.google.com/github/rooftopmunda/Daily-Practice/blob/main/Daytime_Activity.ipynb\" target=\"_parent\"><img src=\"https://colab.research.google.com/assets/colab-badge.svg\" alt=\"Open In Colab\"/></a>"
      ]
    },
    {
      "cell_type": "markdown",
      "source": [
        "#Write a Python program that asks the user whether it is day or night. Depending on the response, the program will prompt for an activity choice. If it is daytime, the program will offer options to play outside, read a book, or take a nap. If it is nighttime, the program will suggest sleeping and resting."
      ],
      "metadata": {
        "id": "njKeHn2w5keB"
      }
    },
    {
      "cell_type": "code",
      "source": [
        "print('''Tell me what time is it and I will suggest you an activity.\n",
        "Options: Day or Night''')\n",
        "time = input(\"Enter the time of the day: \")\n",
        "if time.lower() == \"day\" or time.lower() == \"night\":\n",
        "  print('''It's daytime! What would you like to do?\n",
        "  1) Play Outside\n",
        "  2) Read a book\n",
        "  3) Take a nap''')\n",
        "\n"
      ],
      "metadata": {
        "colab": {
          "base_uri": "https://localhost:8080/"
        },
        "id": "Cn9WzIO75nL7",
        "outputId": "022cf78a-d1d2-464a-cdae-380bdd2b9a07"
      },
      "execution_count": 2,
      "outputs": [
        {
          "output_type": "stream",
          "name": "stdout",
          "text": [
            "Tell me what time is it and I will suggest you an activity.\n",
            "Options: Day or Night\n",
            "Enter the time of the day: day\n",
            "It's daytime! What would you like to do?\n",
            "  1) Play Outside\n",
            "  2) Read a book\n",
            "  3) Take a nap\n"
          ]
        }
      ]
    },
    {
      "cell_type": "code",
      "source": [],
      "metadata": {
        "id": "HZerH00A6LBX"
      },
      "execution_count": null,
      "outputs": []
    }
  ]
}