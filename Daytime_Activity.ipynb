{
  "cells": [
    {
      "cell_type": "markdown",
      "metadata": {
        "colab_type": "text",
        "id": "view-in-github"
      },
      "source": [
        "<a href=\"https://colab.research.google.com/github/rooftopmunda/Daily-Practice/blob/main/Daytime_Activity.ipynb\" target=\"_parent\"><img src=\"https://colab.research.google.com/assets/colab-badge.svg\" alt=\"Open In Colab\"/></a>"
      ]
    },
    {
      "cell_type": "markdown",
      "metadata": {
        "id": "njKeHn2w5keB"
      },
      "source": [
        "#Write a Python program that asks the user whether it is day or night. Depending on the response, the program will prompt for an activity choice. If it is daytime, the program will offer options to play outside, read a book, or take a nap. If it is nighttime, the program will suggest sleeping and resting."
      ]
    },
    {
      "cell_type": "markdown",
      "metadata": {
        "id": "VyHxSoEaiYGG"
      },
      "source": [
        "Practice - 11/07/2023"
      ]
    },
    {
      "cell_type": "code",
      "execution_count": null,
      "metadata": {
        "id": "Cn9WzIO75nL7"
      },
      "outputs": [],
      "source": [
        "print('''Tell me what time is it and I will suggest you an activity.\n",
        "Options: Day or Night''')\n",
        "time = input(\"Enter the time of the day: \")\n",
        "if time.lower() == \"day\":\n",
        "  act = input('''It's daytime! What would you like to do?\n",
        "  1) Play Outside\n",
        "  2) Read a book\n",
        "  3) Take a nap''')\n",
        "  if \"read\" in act.lower():\n",
        "    print(\"I suggest, Sapiens!\")\n",
        "  elif \"play\" in act.lower():\n",
        "    print(\"Let's play Valorant!\")\n",
        "  elif \"nap\" in act.lower():\n",
        "    print(\"Go take a Power Nap!\")\n",
        "\n",
        "elif time.lower() == \"night\":\n",
        "  print(\"It is night time, you may rest!\")"
      ]
    },
    {
      "cell_type": "markdown",
      "metadata": {},
      "source": [
        "Practice 18/7/2023"
      ]
    },
    {
      "cell_type": "code",
      "execution_count": null,
      "metadata": {},
      "outputs": [],
      "source": [
        "time_of_day = input(\"Enter the time of day (Day/Night): \")\n",
        "time_of_day = time_of_day.lower()\n",
        "\n",
        "if time_of_day == \"day\":\n",
        "    activity = input(\"It's daytime! What do you want to do? (play/read/nap): \")\n",
        "    activity = activity.lower()\n",
        "\n",
        "    if activity == \"play\":\n",
        "        print(\"I suggest you play soccer!\")\n",
        "    elif \"read\" in activity:\n",
        "        print(\"Read 'Sapiens'!\")\n",
        "    elif activity == \"nap\":\n",
        "        print(\"Have a nice nap!\")\n",
        "    else:\n",
        "        print(\"Invalid input. Please choose a valid activity.\")\n",
        "\n",
        "elif time_of_day == \"night\":\n",
        "    print(\"It's night time, you should rest!\")\n",
        "\n",
        "else:\n",
        "    print(\"Invalid input. Please enter either 'Day' or 'Night'.\")"
      ]
    }
  ],
  "metadata": {
    "colab": {
      "authorship_tag": "ABX9TyOyxXMZLeewZ/fXwhrb63KC",
      "include_colab_link": true,
      "provenance": []
    },
    "kernelspec": {
      "display_name": "Python 3",
      "name": "python3"
    },
    "language_info": {
      "codemirror_mode": {
        "name": "ipython",
        "version": 3
      },
      "file_extension": ".py",
      "mimetype": "text/x-python",
      "name": "python",
      "nbconvert_exporter": "python",
      "pygments_lexer": "ipython3",
      "version": "3.10.9"
    }
  },
  "nbformat": 4,
  "nbformat_minor": 0
}
