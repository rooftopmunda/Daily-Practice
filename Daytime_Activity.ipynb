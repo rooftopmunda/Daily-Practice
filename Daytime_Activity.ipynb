{
  "nbformat": 4,
  "nbformat_minor": 0,
  "metadata": {
    "colab": {
      "provenance": [],
      "authorship_tag": "ABX9TyOyxXMZLeewZ/fXwhrb63KC",
      "include_colab_link": true
    },
    "kernelspec": {
      "name": "python3",
      "display_name": "Python 3"
    },
    "language_info": {
      "name": "python"
    }
  },
  "cells": [
    {
      "cell_type": "markdown",
      "metadata": {
        "id": "view-in-github",
        "colab_type": "text"
      },
      "source": [
        "<a href=\"https://colab.research.google.com/github/rooftopmunda/Daily-Practice/blob/main/Daytime_Activity.ipynb\" target=\"_parent\"><img src=\"https://colab.research.google.com/assets/colab-badge.svg\" alt=\"Open In Colab\"/></a>"
      ]
    },
    {
      "cell_type": "markdown",
      "source": [
        "#Write a Python program that asks the user whether it is day or night. Depending on the response, the program will prompt for an activity choice. If it is daytime, the program will offer options to play outside, read a book, or take a nap. If it is nighttime, the program will suggest sleeping and resting."
      ],
      "metadata": {
        "id": "njKeHn2w5keB"
      }
    },
    {
      "cell_type": "markdown",
      "source": [
        "Practice - 11/07/2023"
      ],
      "metadata": {
        "id": "VyHxSoEaiYGG"
      }
    },
    {
      "cell_type": "code",
      "source": [
        "print('''Tell me what time is it and I will suggest you an activity.\n",
        "Options: Day or Night''')\n",
        "time = input(\"Enter the time of the day: \")\n",
        "if time.lower() == \"day\":\n",
        "  act = input('''It's daytime! What would you like to do?\n",
        "  1) Play Outside\n",
        "  2) Read a book\n",
        "  3) Take a nap''')\n",
        "  if \"read\" in act.lower():\n",
        "    print(\"I suggest, Sapiens!\")\n",
        "  elif \"play\" in act.lower():\n",
        "    print(\"Let's play Valorant!\")\n",
        "  elif \"nap\" in act.lower():\n",
        "    print(\"Go take a Power Nap!\")\n",
        "\n",
        "elif time.lower() == \"night\":\n",
        "  print(\"It is night time, you may rest!\")\n"
      ],
      "metadata": {
        "id": "Cn9WzIO75nL7"
      },
      "execution_count": null,
      "outputs": []
    }
  ]
}