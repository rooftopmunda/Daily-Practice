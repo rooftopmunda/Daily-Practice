{
 "cells": [
  {
   "cell_type": "markdown",
   "metadata": {},
   "source": [
    "# Write a program to automatically move the mouse cursor every 2 seconds"
   ]
  },
  {
   "cell_type": "code",
   "execution_count": 3,
   "metadata": {},
   "outputs": [
    {
     "ename": "KeyboardInterrupt",
     "evalue": "",
     "output_type": "error",
     "traceback": [
      "\u001b[1;31m---------------------------------------------------------------------------\u001b[0m",
      "\u001b[1;31mKeyboardInterrupt\u001b[0m                         Traceback (most recent call last)",
      "\u001b[1;32mrooftopmunda\\Daily-Practice\\Move_Mouse.ipynb Cell 2\u001b[0m line \u001b[0;36m9\n\u001b[0;32m      <a href='vscode-notebook-cell://github/rooftopmunda/Daily-Practice/Move_Mouse.ipynb#W1sdnNjb2RlLXZmcw%3D%3D?line=6'>7</a>\u001b[0m y_axis \u001b[39m=\u001b[39m random\u001b[39m.\u001b[39mrandint(\u001b[39m200\u001b[39m,\u001b[39m600\u001b[39m)\n\u001b[0;32m      <a href='vscode-notebook-cell://github/rooftopmunda/Daily-Practice/Move_Mouse.ipynb#W1sdnNjb2RlLXZmcw%3D%3D?line=7'>8</a>\u001b[0m pag\u001b[39m.\u001b[39mmoveTo(x_axis,y_axis,\u001b[39m0.5\u001b[39m)\n\u001b[1;32m----> <a href='vscode-notebook-cell://github/rooftopmunda/Daily-Practice/Move_Mouse.ipynb#W1sdnNjb2RlLXZmcw%3D%3D?line=8'>9</a>\u001b[0m time\u001b[39m.\u001b[39;49msleep(\u001b[39m2\u001b[39;49m)\n",
      "\u001b[1;31mKeyboardInterrupt\u001b[0m: "
     ]
    }
   ],
   "source": [
    "import pyautogui as pag\n",
    "import random\n",
    "import time\n",
    "\n",
    "while True:\n",
    "    x_axis = random.randint(600,700)\n",
    "    y_axis = random.randint(200,600)\n",
    "    pag.moveTo(x_axis,y_axis,0.5)\n",
    "    time.sleep(2)"
   ]
  }
 ],
 "metadata": {
  "kernelspec": {
   "display_name": "base",
   "language": "python",
   "name": "python3"
  },
  "language_info": {
   "codemirror_mode": {
    "name": "ipython",
    "version": 3
   },
   "file_extension": ".py",
   "mimetype": "text/x-python",
   "name": "python",
   "nbconvert_exporter": "python",
   "pygments_lexer": "ipython3",
   "version": "3.10.9"
  },
  "orig_nbformat": 4
 },
 "nbformat": 4,
 "nbformat_minor": 2
}
