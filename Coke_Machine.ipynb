{
 "cells": [
  {
   "cell_type": "markdown",
   "metadata": {},
   "source": [
    "Suppose that a machine sells bottles of Coca-Cola (Coke) for 50 cents and only accepts coins in these denominations: 25 cents, 10 cents, and 5 cents.\n",
    "\n",
    "Write a program that prompts the user to insert a coin, one at a time, each time informing the user of the amount due. Once the user has inputted at least 50 cents, output how many cents in change the user is owed. Assume that the user will only input integers, and ignore any integer that isn’t an accepted denomination."
   ]
  },
  {
   "cell_type": "code",
   "execution_count": null,
   "metadata": {},
   "outputs": [],
   "source": [
    "amount_due = 50\n",
    "coins_accepted = [5,10,25]\n",
    "\n",
    "while amount_due > 0:\n",
    "    print(f'Amount Due:{amount_due}')\n",
    "    \n",
    "    coin = int(input(\"Insert a coin: \"))\n",
    "    if coin in coins_accepted:\n",
    "        amount_due -= coin\n",
    "        \n",
    "print(f'Change Owed: {abs(amount_due)}')"
   ]
  },
  {
   "cell_type": "code",
   "execution_count": null,
   "metadata": {},
   "outputs": [],
   "source": [
    "amount_due = 50\n",
    "coins_accepted = [5,10,25]\n",
    "\n",
    "while amount_due > 0:\n",
    "    print(f\"Amount Due: {amount_due}\")\n",
    "    coin = int(input(\"Insert a coin: \"))\n",
    "    if coin in coins_accepted:\n",
    "        amount_due -= coin\n",
    "        \n",
    "print(f'Change Owed: {abs(amount_due)}')"
   ]
  },
  {
   "cell_type": "code",
   "execution_count": null,
   "metadata": {},
   "outputs": [],
   "source": [
    "amount_due = 50\n",
    "coins_accepted = [5,10,25]\n",
    "\n",
    "while amount_due > 0:\n",
    "    print(f\"Amount Due : {amount_due}\")\n",
    "    coin = int(input(\"Insert Coin: \"))\n",
    "    if coin in coins_accepted:\n",
    "        amount_due -= coin\n",
    "        \n",
    "print(f\"Change Owed: {abs(amount_due)}\")"
   ]
  },
  {
   "cell_type": "markdown",
   "metadata": {},
   "source": [
    "The logic is to ask for the coin and until the balance is 0, keep asking to enter the coin.\n",
    "Only accept coins which are eligible and then minus it from the amount due.\n",
    "print the change that is owed outside the loop so that it can run independently and update everytime the amount is deducted.\n",
    "The change would always be the absolute of the amount due."
   ]
  },
  {
   "cell_type": "code",
   "execution_count": null,
   "metadata": {},
   "outputs": [],
   "source": []
  }
 ],
 "metadata": {
  "kernelspec": {
   "display_name": "base",
   "language": "python",
   "name": "python3"
  },
  "language_info": {
   "codemirror_mode": {
    "name": "ipython",
    "version": 3
   },
   "file_extension": ".py",
   "mimetype": "text/x-python",
   "name": "python",
   "nbconvert_exporter": "python",
   "pygments_lexer": "ipython3",
   "version": "3.11.3"
  },
  "orig_nbformat": 4
 },
 "nbformat": 4,
 "nbformat_minor": 2
}
