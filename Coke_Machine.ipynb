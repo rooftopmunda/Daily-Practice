{
 "cells": [
  {
   "cell_type": "markdown",
   "metadata": {},
   "source": [
    "Suppose that a machine sells bottles of Coca-Cola (Coke) for 50 cents and only accepts coins in these denominations: 25 cents, 10 cents, and 5 cents.\n",
    "\n",
    "Write a program that prompts the user to insert a coin, one at a time, each time informing the user of the amount due. Once the user has inputted at least 50 cents, output how many cents in change the user is owed. Assume that the user will only input integers, and ignore any integer that isn’t an accepted denomination."
   ]
  },
  {
   "cell_type": "code",
   "execution_count": null,
   "metadata": {},
   "outputs": [],
   "source": [
    "amount_due = 50\n",
    "coins_accepted = [5,10,25]\n",
    "\n",
    "while amount_due > 0:\n",
    "    print(f'Amount Due:{amount_due}')\n",
    "    \n",
    "    coin = int(input(\"Insert a coin: \"))\n",
    "    if coin in coins_accepted:\n",
    "        amount_due -= coin\n",
    "        \n",
    "print(f'Change Owed: {abs(amount_due)}')"
   ]
  },
  {
   "cell_type": "markdown",
   "metadata": {},
   "source": [
    "Practice : 18/7/2023"
   ]
  },
  {
   "cell_type": "code",
   "execution_count": null,
   "metadata": {},
   "outputs": [],
   "source": [
    "amount_due = 50\n",
    "coins_accepted = [5,10,25]\n",
    "\n",
    "while amount_due > 0:\n",
    "    print(f\"Amount Due: {amount_due}\")\n",
    "    coin = int(input(\"Enter a coin: \"))\n",
    "    \n",
    "    if coin in coins_accepted:\n",
    "        amount_due -= coin\n",
    "        \n",
    "print(f\"change owed: {abs(amount_due)}\")"
   ]
  },
  {
   "cell_type": "code",
   "execution_count": null,
   "metadata": {},
   "outputs": [],
   "source": [
    "amount_due = 50\n",
    "coins_accepted = [5,10,25]\n",
    "\n",
    "while amount_due > 0:\n",
    "    print(f\"Amount Due: {amount_due}\")\n",
    "    coin = int(input(\"Enter a coin: \"))\n",
    "     \n",
    "    if coin in coins_accepted:\n",
    "        amount_due -= coin\n",
    "        \n",
    "print(f\"balance_owed: {abs(amount_due)}\")"
   ]
  },
  {
   "cell_type": "code",
   "execution_count": null,
   "metadata": {},
   "outputs": [],
   "source": [
    "amount_due = 50\n",
    "coins_accepted = [5,10,25]\n",
    "\n",
    "while amount_due > 0:\n",
    "    print(f\"Amount Due: {amount_due}\")\n",
    "    coin = int(input(\"Insert a coin: \"))\n",
    "    if coin in coins_accepted:\n",
    "        amount_due -= coin\n",
    "    print(f\"amount owed: {abs(amount_due)}\")"
   ]
  },
  {
   "cell_type": "code",
   "execution_count": 9,
   "metadata": {},
   "outputs": [
    {
     "name": "stdout",
     "output_type": "stream",
     "text": [
      "Paisa Daalo: 50\n",
      "Paise Bache: 25\n",
      "Paisa Daalo: 25\n",
      "Paise Bache: 15\n",
      "Paisa Daalo: 15\n",
      "Paise Bache: 10\n",
      "Paisa Daalo: 10\n",
      "Paise Bache: 5\n",
      "Paisa Daalo: 5\n",
      "Paise Bache: 5\n"
     ]
    }
   ],
   "source": [
    "paisa_baaki = 50\n",
    "paisa_accepted = [5,10,25]\n",
    "\n",
    "while paisa_baaki > 0:\n",
    "    print(f\"Paisa Daalo: {paisa_baaki}\")\n",
    "    paisa = int(input('Insert a coin: '))\n",
    "    if paisa in paisa_accepted:\n",
    "        paisa_baaki -= paisa\n",
    "        \n",
    "    print(f'Paise Bache: {abs(paisa_baaki)}')"
   ]
  },
  {
   "cell_type": "code",
   "execution_count": null,
   "metadata": {},
   "outputs": [],
   "source": []
  }
 ],
 "metadata": {
  "kernelspec": {
   "display_name": "base",
   "language": "python",
   "name": "python3"
  },
  "language_info": {
   "codemirror_mode": {
    "name": "ipython",
    "version": 3
   },
   "file_extension": ".py",
   "mimetype": "text/x-python",
   "name": "python",
   "nbconvert_exporter": "python",
   "pygments_lexer": "ipython3",
   "version": "3.11.3"
  },
  "orig_nbformat": 4
 },
 "nbformat": 4,
 "nbformat_minor": 2
}
