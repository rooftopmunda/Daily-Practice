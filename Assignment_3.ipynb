{
  "nbformat": 4,
  "nbformat_minor": 0,
  "metadata": {
    "colab": {
      "provenance": [],
      "authorship_tag": "ABX9TyM7JZqdwP18dYeBBmtzwcy0",
      "include_colab_link": true
    },
    "kernelspec": {
      "name": "python3",
      "display_name": "Python 3"
    },
    "language_info": {
      "name": "python"
    }
  },
  "cells": [
    {
      "cell_type": "markdown",
      "metadata": {
        "id": "view-in-github",
        "colab_type": "text"
      },
      "source": [
        "<a href=\"https://colab.research.google.com/github/rooftopmunda/Daily-Practice/blob/main/Assignment_3.ipynb\" target=\"_parent\"><img src=\"https://colab.research.google.com/assets/colab-badge.svg\" alt=\"Open In Colab\"/></a>"
      ]
    },
    {
      "cell_type": "markdown",
      "source": [
        "## 1. Why are functions advantageous to have in your programs?"
      ],
      "metadata": {
        "id": "rn_I_-EkV-2B"
      }
    },
    {
      "cell_type": "markdown",
      "source": [
        "* Reusability: Avoid rewriting code by calling functions multiple times.\n",
        "* Modularity: Break complex tasks into smaller, manageable modules.\n",
        "* Readability: Descriptive function names make the code more understandable.\n",
        "* Abstraction: Hide implementation details from the caller.\n",
        "* Testing: Functions can be tested independently, which helps in debugging.\n",
        "* Easy to maintain: Changes are centralized, reducing bugs and improving code.\n",
        "* Collaboration: Facilitate parallel development with different team members.\n",
        "* Organization: Functions improve code structure and navigation.\n",
        "\n"
      ],
      "metadata": {
        "id": "W2OmCCHnWIgP"
      }
    },
    {
      "cell_type": "markdown",
      "source": [
        "## 2. When does the code in a function run: when it's specified or when it's called?"
      ],
      "metadata": {
        "id": "6J48Ep-NWvHE"
      }
    },
    {
      "cell_type": "markdown",
      "source": [
        "The code inside a function runs when the function is called, not when it is specified. Defining a function only creates a blueprint for what the function should do when it is invoked, but it does not execute the code inside the function at that moment but when you call a function, the program jumps to the function's definition and starts executing the code inside it."
      ],
      "metadata": {
        "id": "vjcpxw03XFUp"
      }
    },
    {
      "cell_type": "markdown",
      "source": [
        "## 3. What statement creates a function?"
      ],
      "metadata": {
        "id": "z2TZjBdFXZBL"
      }
    },
    {
      "cell_type": "markdown",
      "source": [
        "The \"def\" statement is used to create a function. It is followed by the function name, a pair of parentheses (), and a colon :\n",
        "* Ex: def add_num(x,y):"
      ],
      "metadata": {
        "id": "HwWL0XrzXg9g"
      }
    },
    {
      "cell_type": "markdown",
      "source": [
        "## 4. What is the difference between a function and a function call?"
      ],
      "metadata": {
        "id": "rW3BVXSpYQpy"
      }
    },
    {
      "cell_type": "markdown",
      "source": [
        "* Function: A block of code defined using def that performs a specific task. It can take inputs and optionally return a value.\n",
        "\n",
        "* Function Call: The execution of a function's code using the function's name with parentheses and, if necessary, passing arguments to it."
      ],
      "metadata": {
        "id": "jUUKrsf-YV7V"
      }
    },
    {
      "cell_type": "markdown",
      "source": [
        "## 5. How many global scopes are there in a Python program? How many local scopes?"
      ],
      "metadata": {
        "id": "M5RJY-aUYqjw"
      }
    },
    {
      "cell_type": "markdown",
      "source": [
        "In a Python program:\n",
        "\n",
        "**Global Scopes:** There is only one global scope. It is the top-level scope that exists throughout the entire program and includes all the variables defined at the outermost level of the script or module. Variables defined in the global scope can be accessed from anywhere within the program.\n",
        "\n",
        "**Local Scopes:** The number of local scopes depends on the number of function or method calls made during the program's execution. Each time a function or method is called, a new local scope is created for that specific call. Local scopes are temporary and are cleaned up once the function or method execution is completed. Variables defined within a function or method are limited to their respective local scopes and cannot be accessed from outside unless returned explicitly."
      ],
      "metadata": {
        "id": "SWTRIUjJY4O_"
      }
    },
    {
      "cell_type": "markdown",
      "source": [
        "## 6. What happens to variables in a local scope when the function call returns?"
      ],
      "metadata": {
        "id": "jqZS-3qeZcab"
      }
    },
    {
      "cell_type": "markdown",
      "source": [
        "When a function call returns in Python, the local scope of that function is destroyed, and the variables defined within that scope cease to exist. This process is known as the \"cleanup\" or \"destruction\" of the local scope."
      ],
      "metadata": {
        "id": "rdFj5MeVjEHu"
      }
    },
    {
      "cell_type": "code",
      "source": [
        "def add_num():\n",
        "    x = 10\n",
        "    y = 20\n",
        "    result = x + y\n",
        "    return result\n",
        "\n",
        "output = add_num()\n",
        "print(output)\n"
      ],
      "metadata": {
        "colab": {
          "base_uri": "https://localhost:8080/"
        },
        "id": "2ftAo78qZ4or",
        "outputId": "b70123fb-d695-43f2-a9e5-9c1c4fda7a4e"
      },
      "execution_count": 3,
      "outputs": [
        {
          "output_type": "stream",
          "name": "stdout",
          "text": [
            "30\n"
          ]
        }
      ]
    },
    {
      "cell_type": "code",
      "source": [
        "print(x)"
      ],
      "metadata": {
        "colab": {
          "base_uri": "https://localhost:8080/",
          "height": 171
        },
        "id": "WaWYm1w2jnaK",
        "outputId": "82080135-5032-4cba-d430-04ed3f469afc"
      },
      "execution_count": 4,
      "outputs": [
        {
          "output_type": "error",
          "ename": "NameError",
          "evalue": "ignored",
          "traceback": [
            "\u001b[0;31m---------------------------------------------------------------------------\u001b[0m",
            "\u001b[0;31mNameError\u001b[0m                                 Traceback (most recent call last)",
            "\u001b[0;32m<ipython-input-4-fc17d851ef81>\u001b[0m in \u001b[0;36m<cell line: 1>\u001b[0;34m()\u001b[0m\n\u001b[0;32m----> 1\u001b[0;31m \u001b[0mprint\u001b[0m\u001b[0;34m(\u001b[0m\u001b[0mx\u001b[0m\u001b[0;34m)\u001b[0m\u001b[0;34m\u001b[0m\u001b[0;34m\u001b[0m\u001b[0m\n\u001b[0m",
            "\u001b[0;31mNameError\u001b[0m: name 'x' is not defined"
          ]
        }
      ]
    },
    {
      "cell_type": "markdown",
      "source": [
        "when the add_num() function is called, it creates variables x, y, and result within its local scope. After the function call returns and the local scope is destroyed, these variables are no longer accessible, and trying to access them outside the function results in a NameError."
      ],
      "metadata": {
        "id": "HDzbyT1hkGH7"
      }
    }
  ]
}