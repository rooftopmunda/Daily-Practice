{
  "cells": [
    {
      "cell_type": "markdown",
      "metadata": {
        "colab_type": "text",
        "id": "view-in-github"
      },
      "source": [
        "<a href=\"https://colab.research.google.com/github/rooftopmunda/Daily-Practice/blob/main/Sum_of_Three_digit_numbers.ipynb\" target=\"_parent\"><img src=\"https://colab.research.google.com/assets/colab-badge.svg\" alt=\"Open In Colab\"/></a>"
      ]
    },
    {
      "cell_type": "markdown",
      "metadata": {
        "id": "CNVSHCFER67q"
      },
      "source": [
        "#Write a program that will give you the sum of 3 digits."
      ]
    },
    {
      "cell_type": "code",
      "execution_count": null,
      "metadata": {
        "colab": {
          "base_uri": "https://localhost:8080/"
        },
        "id": "JQ6hrqC1Ryjw",
        "outputId": "a14cefd4-58fe-4ae3-ec2b-dda662e53212"
      },
      "outputs": [],
      "source": [
        "number = (input(\"Enter a Three Digit Number: \"))\n",
        "digit_sum = int(number[0]) + int(number[1]) + int(number[2])\n",
        "print(digit_sum)"
      ]
    },
    {
      "cell_type": "markdown",
      "metadata": {
        "id": "QopM5MTiC4E-"
      },
      "source": [
        "In this code we ask the user for an input. Once we have the user input we then use the indexing method to determine each number, convert them into an int and add them to each other. Once done we can print it."
      ]
    },
    {
      "cell_type": "code",
      "execution_count": null,
      "metadata": {
        "colab": {
          "base_uri": "https://localhost:8080/"
        },
        "id": "ccuIBNyjCgP4",
        "outputId": "508d85c8-ca00-40a4-dbce-8685008ad3e0"
      },
      "outputs": [],
      "source": [
        "numb = input(\"Enter a number\")\n",
        "add_num = int(numb[0]) + int(numb[1]) + int(numb[2])\n",
        "print(add_num)"
      ]
    },
    {
      "cell_type": "markdown",
      "metadata": {
        "id": "hTFxtuVV6kH3"
      },
      "source": [
        "Practice - 8/7/23\n",
        "In this version, I added\n",
        "\n",
        "*   A while loop which ensures that only a 3 digit number is processed.\n",
        "*   If the number is not a 3 digit number then it will prompt the user again to enter a valid number.\n",
        "\n",
        "The logic here is to ask the user for a 3 digit number, then set a condition to check the number if it is actually 3 digit. Once it is verified, then we can perform the operation using indexing and adding the number. Converting the input into an integer is also key.\n",
        "\n",
        "\n",
        "\n",
        "\n",
        "\n"
      ]
    },
    {
      "cell_type": "code",
      "execution_count": null,
      "metadata": {
        "colab": {
          "base_uri": "https://localhost:8080/"
        },
        "id": "eZT01Rf2UQ9f",
        "outputId": "4f331b5a-5919-4caa-ee78-b82859755def"
      },
      "outputs": [],
      "source": [
        "number = input(\"Enter a three digit number: \")\n",
        "while len(number) != 3:\n",
        "  print(\"Please enter a valid number\")\n",
        "  number = input(\"Enter a three digit number: \")\n",
        "\n",
        "add_num = int(number[0]) + int(number[1]) + int(number[2])\n",
        "print(\"The sum of the three digits entered are: \", add_num)"
      ]
    },
    {
      "cell_type": "markdown",
      "metadata": {
        "id": "vOF7d3krO1pq"
      },
      "source": [
        "Practice - 10/7/2023"
      ]
    },
    {
      "cell_type": "code",
      "execution_count": null,
      "metadata": {
        "id": "dnoVSUWQVWRm"
      },
      "outputs": [],
      "source": [
        "number = input(\"Enter a 3 digit number to add it digit by digit: \")\n",
        "while len(number) != 3:\n",
        "  print(\"Only 3-digit numbers are allowed!\")\n",
        "  number = input(\"Enter a 3 digit number to add it digit by digit: \")\n",
        "\n",
        "add_num = int(number[0]) + int(number[1]) + int(number[2])\n",
        "print(\"the sum of the 3 digits you entered is: \", add_num)"
      ]
    },
    {
      "cell_type": "code",
      "execution_count": null,
      "metadata": {
        "colab": {
          "base_uri": "https://localhost:8080/"
        },
        "id": "rCJwWnBZj0VM",
        "outputId": "cb424956-3f49-4e02-e78d-e1aad7f12e34"
      },
      "outputs": [],
      "source": [
        "#Practice 13/7/2023\n",
        "\n",
        "number = input(\"Enter a 3-digit number: \")\n",
        "\n",
        "while len(number) != 3:\n",
        "  print(\"Not a 3-digit number!\")\n",
        "  number = input(\"Enter a 3-digit number: \")\n",
        "\n",
        "sum_n = int(number[0]) + int(number[1]) + int(number[2])\n",
        "print(\"The sum of the 3 numbers are:\", sum_n)"
      ]
    },
    {
      "cell_type": "code",
      "execution_count": 18,
      "metadata": {},
      "outputs": [
        {
          "name": "stdout",
          "output_type": "stream",
          "text": [
            "Enter a 3 digit number: \n",
            "Enter a 3 digit number: \n",
            "18\n"
          ]
        }
      ],
      "source": [
        "num = input(\"Enter a three digit number: \")\n",
        "\n",
        "while len(num) != 3:\n",
        "    print(\"Enter a 3 digit number: \")\n",
        "    num = input(\"Enter a three digit number: \")\n",
        "    \n",
        "add = int(num[0]) + int(num[1]) + int(num[2])\n",
        "print(add)"
      ]
    },
    {
      "cell_type": "markdown",
      "metadata": {},
      "source": [
        "# With Custom Exception"
      ]
    },
    {
      "cell_type": "code",
      "execution_count": 20,
      "metadata": {},
      "outputs": [
        {
          "name": "stdout",
          "output_type": "stream",
          "text": [
            "Please enter a 3 digit number\n"
          ]
        }
      ],
      "source": [
        "integer = input(\"Enter a 3 digit number to add all the 3 digits: \")\n",
        "\n",
        "try:\n",
        "    if len(integer) != 3:\n",
        "        raise ValueError(\"Please enter a 3 digit number\")\n",
        "except ValueError as e:\n",
        "    print(e)\n",
        "else:\n",
        "    add_num = int(integer[0]) + int(integer[1]) + int(integer[2])\n",
        "    print(\"The sum of the three digits is:\", add_num)\n"
      ]
    }
  ],
  "metadata": {
    "colab": {
      "authorship_tag": "ABX9TyOqeWiFK0kamiYo03qbZM7k",
      "include_colab_link": true,
      "provenance": []
    },
    "kernelspec": {
      "display_name": "Python 3",
      "name": "python3"
    },
    "language_info": {
      "codemirror_mode": {
        "name": "ipython",
        "version": 3
      },
      "file_extension": ".py",
      "mimetype": "text/x-python",
      "name": "python",
      "nbconvert_exporter": "python",
      "pygments_lexer": "ipython3",
      "version": "3.10.9"
    }
  },
  "nbformat": 4,
  "nbformat_minor": 0
}
