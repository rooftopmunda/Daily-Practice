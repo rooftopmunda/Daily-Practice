{
  "nbformat": 4,
  "nbformat_minor": 0,
  "metadata": {
    "colab": {
      "provenance": [],
      "authorship_tag": "ABX9TyNeLXwMFk8IDw10aEQRUkb3",
      "include_colab_link": true
    },
    "kernelspec": {
      "name": "python3",
      "display_name": "Python 3"
    },
    "language_info": {
      "name": "python"
    }
  },
  "cells": [
    {
      "cell_type": "markdown",
      "metadata": {
        "id": "view-in-github",
        "colab_type": "text"
      },
      "source": [
        "<a href=\"https://colab.research.google.com/github/rooftopmunda/Daily-Practice/blob/main/Sum_of_Three_digit_numbers.ipynb\" target=\"_parent\"><img src=\"https://colab.research.google.com/assets/colab-badge.svg\" alt=\"Open In Colab\"/></a>"
      ]
    },
    {
      "cell_type": "markdown",
      "source": [
        "#Write a program that will give you the sum of 3 digits."
      ],
      "metadata": {
        "id": "CNVSHCFER67q"
      }
    },
    {
      "cell_type": "code",
      "execution_count": 2,
      "metadata": {
        "colab": {
          "base_uri": "https://localhost:8080/"
        },
        "id": "JQ6hrqC1Ryjw",
        "outputId": "a14cefd4-58fe-4ae3-ec2b-dda662e53212"
      },
      "outputs": [
        {
          "output_type": "stream",
          "name": "stdout",
          "text": [
            "Enter a Three Digit Number: 568\n",
            "19\n"
          ]
        }
      ],
      "source": [
        "number = (input(\"Enter a Three Digit Number: \"))\n",
        "digit_sum = int(number[0]) + int(number[1]) + int(number[2])\n",
        "print(digit_sum)"
      ]
    },
    {
      "cell_type": "markdown",
      "source": [
        "In this code we ask the user for an input. Once we have the user input we then use the indexing method to determine each number, convert them into an int and add them to each other. Once done we can print it."
      ],
      "metadata": {
        "id": "QopM5MTiC4E-"
      }
    },
    {
      "cell_type": "code",
      "source": [
        "numb = input(\"Enter a number\")\n",
        "add_num = int(numb[0]) + int(numb[1]) + int(numb[2])\n",
        "print(add_num)"
      ],
      "metadata": {
        "colab": {
          "base_uri": "https://localhost:8080/"
        },
        "id": "ccuIBNyjCgP4",
        "outputId": "508d85c8-ca00-40a4-dbce-8685008ad3e0"
      },
      "execution_count": 4,
      "outputs": [
        {
          "output_type": "stream",
          "name": "stdout",
          "text": [
            "Enter a number111\n",
            "3\n"
          ]
        }
      ]
    },
    {
      "cell_type": "code",
      "source": [],
      "metadata": {
        "id": "sJCWqhZ-Dgdl"
      },
      "execution_count": null,
      "outputs": []
    }
  ]
}