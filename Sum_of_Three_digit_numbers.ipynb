{
  "nbformat": 4,
  "nbformat_minor": 0,
  "metadata": {
    "colab": {
      "provenance": [],
      "authorship_tag": "ABX9TyNi8PYK5u0LnyzQtDmTh3XE",
      "include_colab_link": true
    },
    "kernelspec": {
      "name": "python3",
      "display_name": "Python 3"
    },
    "language_info": {
      "name": "python"
    }
  },
  "cells": [
    {
      "cell_type": "markdown",
      "metadata": {
        "id": "view-in-github",
        "colab_type": "text"
      },
      "source": [
        "<a href=\"https://colab.research.google.com/github/rooftopmunda/Daily-Practice/blob/main/Sum_of_Three_digit_numbers.ipynb\" target=\"_parent\"><img src=\"https://colab.research.google.com/assets/colab-badge.svg\" alt=\"Open In Colab\"/></a>"
      ]
    },
    {
      "cell_type": "markdown",
      "source": [
        "#Write a program that will give you the sum of 3 digits."
      ],
      "metadata": {
        "id": "CNVSHCFER67q"
      }
    },
    {
      "cell_type": "code",
      "execution_count": null,
      "metadata": {
        "colab": {
          "base_uri": "https://localhost:8080/"
        },
        "id": "JQ6hrqC1Ryjw",
        "outputId": "a14cefd4-58fe-4ae3-ec2b-dda662e53212"
      },
      "outputs": [
        {
          "output_type": "stream",
          "name": "stdout",
          "text": [
            "Enter a Three Digit Number: 568\n",
            "19\n"
          ]
        }
      ],
      "source": [
        "number = (input(\"Enter a Three Digit Number: \"))\n",
        "digit_sum = int(number[0]) + int(number[1]) + int(number[2])\n",
        "print(digit_sum)"
      ]
    },
    {
      "cell_type": "markdown",
      "source": [
        "In this code we ask the user for an input. Once we have the user input we then use the indexing method to determine each number, convert them into an int and add them to each other. Once done we can print it."
      ],
      "metadata": {
        "id": "QopM5MTiC4E-"
      }
    },
    {
      "cell_type": "code",
      "source": [
        "numb = input(\"Enter a number\")\n",
        "add_num = int(numb[0]) + int(numb[1]) + int(numb[2])\n",
        "print(add_num)"
      ],
      "metadata": {
        "colab": {
          "base_uri": "https://localhost:8080/"
        },
        "id": "ccuIBNyjCgP4",
        "outputId": "508d85c8-ca00-40a4-dbce-8685008ad3e0"
      },
      "execution_count": null,
      "outputs": [
        {
          "output_type": "stream",
          "name": "stdout",
          "text": [
            "Enter a number111\n",
            "3\n"
          ]
        }
      ]
    },
    {
      "cell_type": "markdown",
      "source": [
        "Practice - 8/7/23\n",
        "In this version, I added\n",
        "\n",
        "*   A while loop which ensures that only a 3 digit number is processed.\n",
        "*   If the number is not a 3 digit number then it will prompt the user again to enter a valid number.\n",
        "\n",
        "The logic here is to ask the user for a 3 digit number, then set a condition to check the number if it is actually 3 digit. Once it is verified, then we can perform the operation using indexing and adding the number. Converting the input into an integer is also key.\n",
        "\n",
        "\n",
        "\n",
        "\n",
        "\n"
      ],
      "metadata": {
        "id": "hTFxtuVV6kH3"
      }
    },
    {
      "cell_type": "code",
      "source": [
        "number = input(\"Enter a three digit number: \")\n",
        "while len(number) != 3:\n",
        "  print(\"Please enter a valid number\")\n",
        "  number = input(\"Enter a three digit number: \")\n",
        "\n",
        "add_num = int(number[0]) + int(number[1]) + int(number[2])\n",
        "print(\"The sum of the three digits entered are: \", add_num)"
      ],
      "metadata": {
        "id": "eZT01Rf2UQ9f",
        "outputId": "4f331b5a-5919-4caa-ee78-b82859755def",
        "colab": {
          "base_uri": "https://localhost:8080/"
        }
      },
      "execution_count": null,
      "outputs": [
        {
          "output_type": "stream",
          "name": "stdout",
          "text": [
            "Enter a three digit number: 1235\n",
            "Please enter a valid number\n",
            "Enter a three digit number: 125\n",
            "The sum of the three digits entered are:  8\n"
          ]
        }
      ]
    },
    {
      "cell_type": "markdown",
      "source": [
        "Practice - 10/7/2023"
      ],
      "metadata": {
        "id": "vOF7d3krO1pq"
      }
    },
    {
      "cell_type": "code",
      "source": [
        "number = input(\"Enter a 3 digit number to add it digit by digit: \")\n",
        "while len(number) != 3:\n",
        "  print(\"Only 3-digit numbers are allowed!\")\n",
        "  number = input(\"Enter a 3 digit number to add it digit by digit: \")\n",
        "\n",
        "add_num = int(number[0]) + int(number[1]) + int(number[2])\n",
        "print(\"the sum of the 3 digits you entered is: \", add_num)"
      ],
      "metadata": {
        "id": "dnoVSUWQVWRm",
        "outputId": "b9e7e4d1-7a2e-4c48-c9df-f979a8eac5c8",
        "colab": {
          "base_uri": "https://localhost:8080/"
        }
      },
      "execution_count": 1,
      "outputs": [
        {
          "output_type": "stream",
          "name": "stdout",
          "text": [
            "Enter a 3 digit number to add it digit by digit: 2356\n",
            "Only 3-digit numbers are allowed!\n",
            "Enter a 3 digit number to add it digit by digit: 123\n",
            "the sum of the 3 digits you entered is:  6\n"
          ]
        }
      ]
    }
  ]
}