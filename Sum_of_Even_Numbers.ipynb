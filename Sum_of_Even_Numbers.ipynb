{
  "nbformat": 4,
  "nbformat_minor": 0,
  "metadata": {
    "colab": {
      "provenance": [],
      "authorship_tag": "ABX9TyPi7hD7EQKKiRbuxIi5XQHS",
      "include_colab_link": true
    },
    "kernelspec": {
      "name": "python3",
      "display_name": "Python 3"
    },
    "language_info": {
      "name": "python"
    }
  },
  "cells": [
    {
      "cell_type": "markdown",
      "metadata": {
        "id": "view-in-github",
        "colab_type": "text"
      },
      "source": [
        "<a href=\"https://colab.research.google.com/github/rooftopmunda/Daily-Practice/blob/main/Sum_of_Even_Numbers.ipynb\" target=\"_parent\"><img src=\"https://colab.research.google.com/assets/colab-badge.svg\" alt=\"Open In Colab\"/></a>"
      ]
    },
    {
      "cell_type": "markdown",
      "source": [
        "#Write a program that asks the user to enter a number, and then calculates and prints the sum of all the even numbers from 1 to that number (inclusive). For example, if the user enters 8, the program should calculate the sum of 2 + 4 + 6 + 8 and output the result."
      ],
      "metadata": {
        "id": "ikZU0U8Zof2Q"
      }
    },
    {
      "cell_type": "code",
      "source": [
        "number = int(input(\"Enter a number: \"))\n",
        "sum_of_even_numbers = 0\n",
        "\n",
        "for num in range(2 , number + 1, 2):\n",
        "  sum_of_even_numbers += num\n",
        "\n",
        "print(f'The sum of all the even numbers from 1 to {number} is:', sum_of_even_numbers)"
      ],
      "metadata": {
        "colab": {
          "base_uri": "https://localhost:8080/"
        },
        "id": "tcdHB9XoolpU",
        "outputId": "19121bad-e0e8-4bd2-d524-18fdcd6b81a4"
      },
      "execution_count": 1,
      "outputs": [
        {
          "output_type": "stream",
          "name": "stdout",
          "text": [
            "Enter a number: 8\n",
            "The sum of all the even numbers from 1 to 8 is: 20\n"
          ]
        }
      ]
    },
    {
      "cell_type": "code",
      "source": [],
      "metadata": {
        "id": "Z2m9iLrypXPI"
      },
      "execution_count": null,
      "outputs": []
    }
  ]
}