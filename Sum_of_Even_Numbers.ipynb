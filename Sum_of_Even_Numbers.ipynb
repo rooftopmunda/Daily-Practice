{
  "cells": [
    {
      "cell_type": "markdown",
      "metadata": {
        "colab_type": "text",
        "id": "view-in-github"
      },
      "source": [
        "<a href=\"https://colab.research.google.com/github/rooftopmunda/Daily-Practice/blob/main/Sum_of_Even_Numbers.ipynb\" target=\"_parent\"><img src=\"https://colab.research.google.com/assets/colab-badge.svg\" alt=\"Open In Colab\"/></a>"
      ]
    },
    {
      "cell_type": "markdown",
      "metadata": {
        "id": "ikZU0U8Zof2Q"
      },
      "source": [
        "#Write a program that asks the user to enter a number, and then calculates and prints the sum of all the even numbers from 1 to that number (inclusive). For example, if the user enters 8, the program should calculate the sum of 2 + 4 + 6 + 8 and output the result."
      ]
    },
    {
      "cell_type": "code",
      "execution_count": null,
      "metadata": {
        "colab": {
          "base_uri": "https://localhost:8080/"
        },
        "id": "tcdHB9XoolpU",
        "outputId": "19121bad-e0e8-4bd2-d524-18fdcd6b81a4"
      },
      "outputs": [],
      "source": [
        "number = int(input(\"Enter a number: \"))\n",
        "sum_of_even_numbers = 0\n",
        "\n",
        "for num in range(2 , number + 1, 2):\n",
        "  sum_of_even_numbers += num\n",
        "\n",
        "print(f'The sum of all the even numbers from 1 to {number} is:', sum_of_even_numbers)"
      ]
    },
    {
      "cell_type": "code",
      "execution_count": 1,
      "metadata": {},
      "outputs": [
        {
          "name": "stdout",
          "output_type": "stream",
          "text": [
            "The sum of all even numbers from 1 to 8 is:  20\n"
          ]
        }
      ],
      "source": [
        "num = int(input(\"Enter a number: \"))\n",
        "even_num = 0\n",
        "\n",
        "for number in range(2, num + 1, 2):\n",
        "    even_num += number\n",
        "    \n",
        "print(f\"The sum of all even numbers from 1 to {num} is: \", even_num)"
      ]
    },
    {
      "cell_type": "code",
      "execution_count": 4,
      "metadata": {},
      "outputs": [
        {
          "name": "stdout",
          "output_type": "stream",
          "text": [
            "20\n"
          ]
        }
      ],
      "source": [
        "num = int(input(\"Enter a number to get the sum of all even numbers: \"))\n",
        "even_num = 0\n",
        "\n",
        "for i in range(2, num + 1, 2):\n",
        "    even_num += i\n",
        "    \n",
        "print(even_num)"
      ]
    },
    {
      "cell_type": "code",
      "execution_count": 5,
      "metadata": {},
      "outputs": [
        {
          "name": "stdout",
          "output_type": "stream",
          "text": [
            "Sum of even numbers: 20\n"
          ]
        }
      ],
      "source": [
        "while True:\n",
        "    try:\n",
        "        num = int(input(\"Enter a positive number to get the sum of all even numbers: \"))\n",
        "        if num <= 0:\n",
        "            print(\"Please enter a positive number.\")\n",
        "        else:\n",
        "            break\n",
        "    except ValueError:\n",
        "        print(\"Invalid input. Please enter a valid positive number.\")\n",
        "\n",
        "# Calculate the highest even number in the range\n",
        "highest_even = num if num % 2 == 0 else num - 1\n",
        "\n",
        "# Calculate the sum of even numbers using the formula\n",
        "even_sum = highest_even * (highest_even + 2) // 4\n",
        "\n",
        "print(\"Sum of even numbers:\", even_sum)"
      ]
    },
    {
      "cell_type": "code",
      "execution_count": null,
      "metadata": {},
      "outputs": [],
      "source": []
    }
  ],
  "metadata": {
    "colab": {
      "authorship_tag": "ABX9TyPi7hD7EQKKiRbuxIi5XQHS",
      "include_colab_link": true,
      "provenance": []
    },
    "kernelspec": {
      "display_name": "Python 3",
      "name": "python3"
    },
    "language_info": {
      "codemirror_mode": {
        "name": "ipython",
        "version": 3
      },
      "file_extension": ".py",
      "mimetype": "text/x-python",
      "name": "python",
      "nbconvert_exporter": "python",
      "pygments_lexer": "ipython3",
      "version": "3.10.9"
    }
  },
  "nbformat": 4,
  "nbformat_minor": 0
}
