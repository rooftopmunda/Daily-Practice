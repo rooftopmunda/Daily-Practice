{
 "cells": [
  {
   "cell_type": "code",
   "execution_count": 188,
   "id": "65aee6d7",
   "metadata": {},
   "outputs": [],
   "source": [
    "import pandas as pd\n",
    "import requests\n",
    "from bs4 import BeautifulSoup\n",
    "\n",
    "base_url = 'https://www.ambitionbox.com/list-of-companies'\n",
    "\n",
    "header = {\n",
    "    'User-Agent': 'Mozilla/5.0 (Windows NT 10.0; Win64; x64) AppleWebKit/537.36 (KHTML, like Gecko) Chrome/93.0.4577.63 Safari/537.36',\n",
    "}\n",
    "\n",
    "name_list = []\n",
    "rating_list = []\n",
    "info_list = []\n",
    "\n",
    "# First five pages\n",
    "for page_num in range(1, 6):\n",
    "    url = f\"{base_url}?page={page_num}\"\n",
    "\n",
    "\n",
    "    webpage = requests.get(url, headers=header).text\n",
    "    soup = BeautifulSoup(webpage, 'html.parser')\n",
    "\n",
    "    name_cl_f = \"companyCardWrapper__companyName\"\n",
    "    company_name = soup.find_all('h2', class_=name_cl_f)\n",
    "    for name in company_name:\n",
    "        name = name.text.strip()\n",
    "        name_list.append(name)\n",
    "\n",
    "    rating_tag = \"companyCardWrapper__companyRatingValue\"\n",
    "    company_rating = soup.find_all('span', class_=rating_tag)\n",
    "    for rating in company_rating:\n",
    "        rating = rating.text.strip()\n",
    "        rating_list.append(rating)\n",
    "\n",
    "    info_class = \"companyCardWrapper__interLinking\"\n",
    "    company_info = soup.find_all('span', class_=info_class)\n",
    "    for info in company_info:\n",
    "        text = info.text.strip()\n",
    "        split_text = '+'.join(text.split('+', 2)[:2])\n",
    "        info_list.append(split_text)\n",
    "\n",
    "data = {\n",
    "    'Company Name': name_list,\n",
    "    'Company Rating': rating_list,\n",
    "    'Company Info': info_list\n",
    "}\n",
    "\n",
    "df = pd.DataFrame(data)\n",
    "\n",
    "excel_file = 'Ambition_box_data.xlsx'\n",
    "df.to_excel(excel_file, index = False)"
   ]
  }
 ],
 "metadata": {
  "kernelspec": {
   "display_name": "Python 3 (ipykernel)",
   "language": "python",
   "name": "python3"
  },
  "language_info": {
   "codemirror_mode": {
    "name": "ipython",
    "version": 3
   },
   "file_extension": ".py",
   "mimetype": "text/x-python",
   "name": "python",
   "nbconvert_exporter": "python",
   "pygments_lexer": "ipython3",
   "version": "3.10.9"
  }
 },
 "nbformat": 4,
 "nbformat_minor": 5
}
