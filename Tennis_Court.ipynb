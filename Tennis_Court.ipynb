{
 "cells": [
  {
   "cell_type": "markdown",
   "metadata": {},
   "source": [
    "Imagine you are playing Tennis,and you just hit a forehand from the back corner, where the baseline meets the sideline of the tennis court. Now, assume your opponent has countered with a drop shot (one that would place the ball short with little forward momentum) to the opposite corner, where the other sideline meets the net. Write a programme to determine how far must you run to reach the ball so that you don't miss the shot?\n",
    "_____\n",
    "You can determine from regulation tennis court dimensions that the baseline is 27 feet long, and the sideline (on one side of the net) is 39 feet long."
   ]
  },
  {
   "cell_type": "code",
   "execution_count": 10,
   "metadata": {},
   "outputs": [
    {
     "name": "stdout",
     "output_type": "stream",
     "text": [
      "I must run 47 feet or 14.32 meters to hit the shot!\n"
     ]
    }
   ],
   "source": [
    "import math\n",
    "x = 27\n",
    "y = 39\n",
    "z = math.sqrt(x**2 + y**2)\n",
    "z = round(z)\n",
    "mtrs = round(z / 3.281, 2)\n",
    "\n",
    "print(f'I must run {z} feet or {mtrs} meters to hit the shot!')"
   ]
  },
  {
   "cell_type": "code",
   "execution_count": null,
   "metadata": {},
   "outputs": [],
   "source": []
  }
 ],
 "metadata": {
  "kernelspec": {
   "display_name": "base",
   "language": "python",
   "name": "python3"
  },
  "language_info": {
   "codemirror_mode": {
    "name": "ipython",
    "version": 3
   },
   "file_extension": ".py",
   "mimetype": "text/x-python",
   "name": "python",
   "nbconvert_exporter": "python",
   "pygments_lexer": "ipython3",
   "version": "3.10.9"
  },
  "orig_nbformat": 4
 },
 "nbformat": 4,
 "nbformat_minor": 2
}
