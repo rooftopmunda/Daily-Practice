{
 "cells": [
  {
   "cell_type": "markdown",
   "metadata": {},
   "source": [
    "## `Q-1:` Rectangle Class\n",
    "1. Write a Rectangle class in Python language, allowing you to build a rectangle with length and width attributes.\n",
    "\n",
    "2. Create a Perimeter() method to calculate the perimeter of the rectangle and a Area() method to calculate the area of ​​the rectangle.\n",
    "\n",
    "3. Create a method display() that display the length, width, perimeter and area of an object created using an instantiation on rectangle class."
   ]
  },
  {
   "cell_type": "code",
   "execution_count": 82,
   "metadata": {},
   "outputs": [],
   "source": [
    "class Rectangle:\n",
    "    def __init__(self, len, wid):\n",
    "        self.len = len\n",
    "        self.wid = wid\n",
    "        \n",
    "    def __str__(self):\n",
    "        return \"Rectangle with len:{} and wid:{}\".format(self.len,self.wid)\n",
    "        \n",
    "    def perimeter(self):\n",
    "        perimeter = 2 * (self.len + self.wid)\n",
    "        return perimeter\n",
    "    \n",
    "    def area(self):\n",
    "        area = self.len * self.wid\n",
    "        return area\n",
    "    \n",
    "    def display(self):\n",
    "        pm = self.perimeter()\n",
    "        ar = self.area()\n",
    "        \n",
    "        \n",
    "        print(f\"\"\"\n",
    "The length of rectangle is: {self.len}\n",
    "The width of rectangle is: {self.wid}\n",
    "The perimeter of rectangle is: {pm}\n",
    "The area of rectangle is: {ar}\n",
    "\"\"\")"
   ]
  },
  {
   "cell_type": "code",
   "execution_count": 81,
   "metadata": {},
   "outputs": [
    {
     "name": "stdout",
     "output_type": "stream",
     "text": [
      "\n",
      "The length of rectangle is: 6\n",
      "The width of rectangle is: 5\n",
      "The perimeter of rectangle is: 22\n",
      "The area of rectangle is: 30\n",
      "\n"
     ]
    }
   ],
   "source": [
    "Rec2 = Rectangle(6,5)\n",
    "Rec2.display()"
   ]
  },
  {
   "cell_type": "code",
   "execution_count": null,
   "metadata": {},
   "outputs": [],
   "source": []
  }
 ],
 "metadata": {
  "kernelspec": {
   "display_name": "base",
   "language": "python",
   "name": "python3"
  },
  "language_info": {
   "codemirror_mode": {
    "name": "ipython",
    "version": 3
   },
   "file_extension": ".py",
   "mimetype": "text/x-python",
   "name": "python",
   "nbconvert_exporter": "python",
   "pygments_lexer": "ipython3",
   "version": "3.10.9"
  },
  "orig_nbformat": 4
 },
 "nbformat": 4,
 "nbformat_minor": 2
}
