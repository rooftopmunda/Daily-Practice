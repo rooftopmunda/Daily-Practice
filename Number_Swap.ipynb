{
  "nbformat": 4,
  "nbformat_minor": 0,
  "metadata": {
    "colab": {
      "provenance": [],
      "authorship_tag": "ABX9TyPnEqVCXs707Q0iiufD87Dx",
      "include_colab_link": true
    },
    "kernelspec": {
      "name": "python3",
      "display_name": "Python 3"
    },
    "language_info": {
      "name": "python"
    }
  },
  "cells": [
    {
      "cell_type": "markdown",
      "metadata": {
        "id": "view-in-github",
        "colab_type": "text"
      },
      "source": [
        "<a href=\"https://colab.research.google.com/github/rooftopmunda/Daily-Practice/blob/main/Number_Swap.ipynb\" target=\"_parent\"><img src=\"https://colab.research.google.com/assets/colab-badge.svg\" alt=\"Open In Colab\"/></a>"
      ]
    },
    {
      "cell_type": "markdown",
      "source": [
        "#Prompt the user to enter 2 numbers\n",
        "#Swap the number without using third variable"
      ],
      "metadata": {
        "id": "GyhCShwOgj19"
      }
    },
    {
      "cell_type": "markdown",
      "source": [
        "Logic = Take 2 numbers as variables from the user and print them.\n",
        "replace the first variable by adding the two variables\n",
        "replace the second variable by subtracting the first variable and second variable.\n",
        "replace the first variable again by subtracting the first variable\n",
        "print the variables\n",
        "\n"
      ],
      "metadata": {
        "id": "n0R71453oW1_"
      }
    },
    {
      "cell_type": "code",
      "source": [
        "x = int(input(\"Enter a number\"))\n",
        "y = int(input(\"Enter second number\"))\n",
        "print(x , y)\n",
        "\n",
        "x = x + y\n",
        "y = x - y\n",
        "x = x - y\n",
        "print(x , y)"
      ],
      "metadata": {
        "colab": {
          "base_uri": "https://localhost:8080/"
        },
        "id": "Dq3B3-HYqGo3",
        "outputId": "a23e1b42-ae6a-4e9f-fb0e-1f5c1425b803"
      },
      "execution_count": null,
      "outputs": [
        {
          "output_type": "stream",
          "name": "stdout",
          "text": [
            "Enter a number5\n",
            "Enter second number8\n",
            "5 8\n",
            "8 5\n"
          ]
        }
      ]
    },
    {
      "cell_type": "markdown",
      "source": [
        "This works because, we are adding the first number and the second number which gives us the sum of the two numbers. This is then assigned to the first variable. In the second variable we subtract the newly assigned first variable and subtract the original variable from it to get the same value as the original number and then we swap the numbers by subtracting the new first value and original second value."
      ],
      "metadata": {
        "id": "GFEoD34Uqsn8"
      }
    },
    {
      "cell_type": "markdown",
      "source": [
        "#Solve the same question by using a third value \"z\""
      ],
      "metadata": {
        "id": "h1j_EJZussNC"
      }
    },
    {
      "cell_type": "code",
      "source": [
        "x = int(input(\"Enter a number\"))\n",
        "y = int(input(\"Enter second number\"))\n",
        "\n",
        "print(x , y)\n",
        "\n",
        "z = x\n",
        "x = y\n",
        "y = z\n",
        "print(x , y)"
      ],
      "metadata": {
        "colab": {
          "base_uri": "https://localhost:8080/"
        },
        "id": "mxHKLNPkqj7v",
        "outputId": "0087c529-125d-40f8-effe-a6c54f74b683"
      },
      "execution_count": null,
      "outputs": [
        {
          "output_type": "stream",
          "name": "stdout",
          "text": [
            "Enter a number5\n",
            "Enter second number6\n",
            "5 6\n",
            "6 5\n"
          ]
        }
      ]
    },
    {
      "cell_type": "markdown",
      "source": [
        "here we assigned the value of x to new variable z and then assigned the value of y to x and the we did the same for y and z. So in way, the logic is to cycle thorugh the variables like a loop. Its like if a = b = c then a = c"
      ],
      "metadata": {
        "id": "Ov8dHnCytpRc"
      }
    },
    {
      "cell_type": "code",
      "source": [
        "a = int(input(\"Enter a number\"))\n",
        "b = int(input(\"Enter second number\"))\n",
        "print(a , b)\n",
        "\n",
        "a = a + b\n",
        "b = a - b\n",
        "a = a - b\n",
        "print(a , b)"
      ],
      "metadata": {
        "colab": {
          "base_uri": "https://localhost:8080/"
        },
        "id": "vOHog-YBuMfA",
        "outputId": "7c6020a8-c75b-4143-e922-e6c47da0f859"
      },
      "execution_count": null,
      "outputs": [
        {
          "output_type": "stream",
          "name": "stdout",
          "text": [
            "Enter a number5\n",
            "Enter second number6\n",
            "5 6\n",
            "6 5\n"
          ]
        }
      ]
    },
    {
      "cell_type": "code",
      "source": [
        "x = int(input(\"Enter a number\"))\n",
        "y = int(input(\"Enter another number\"))\n",
        "print(\"Original Numbers:\" , x ,y)\n",
        "\n",
        "z = x\n",
        "x = y\n",
        "y = z\n",
        "print(\"Swapped numbers:\", x , y)"
      ],
      "metadata": {
        "colab": {
          "base_uri": "https://localhost:8080/"
        },
        "id": "QqFHVMtZu3cQ",
        "outputId": "7eaaaede-e158-4fcb-e936-1d995ce6aea3"
      },
      "execution_count": null,
      "outputs": [
        {
          "output_type": "stream",
          "name": "stdout",
          "text": [
            "Enter a number5\n",
            "Enter another number3\n",
            "Original Numbers: 5 3\n",
            "Swapped numbers: 3 5\n"
          ]
        }
      ]
    },
    {
      "cell_type": "markdown",
      "source": [
        "Practice: 8/7/2023\n",
        "Without using a third variable"
      ],
      "metadata": {
        "id": "ATGYY_Z2sVg6"
      }
    },
    {
      "cell_type": "code",
      "source": [
        "number1 = int(input(\"Enter a number\"))\n",
        "number2 = int(input(\"Enter another number\"))\n",
        "print(number1 , number2)\n",
        "\n",
        "number1 = number1 + number2\n",
        "number2 = number1 - number2\n",
        "number1 = number1 - number2\n",
        "print(number1 , number2)\n",
        "\n"
      ],
      "metadata": {
        "id": "XatximnqvRlF",
        "outputId": "b62203fc-6cf2-4d3c-82dd-4c9db5850e62",
        "colab": {
          "base_uri": "https://localhost:8080/"
        }
      },
      "execution_count": null,
      "outputs": [
        {
          "output_type": "stream",
          "name": "stdout",
          "text": [
            "Enter a number5\n",
            "Enter another number6\n",
            "5 6\n",
            "6 5\n"
          ]
        }
      ]
    },
    {
      "cell_type": "markdown",
      "source": [
        "Using a third variable.\n",
        "The key is to assign the value of the first number to the temporary variable and then cycle through the variable until you complete the loop.\n",
        "Ex:\n",
        "a = 5\n",
        "b = 9\n",
        "print(a, b)\n",
        "\n",
        "c = a\n",
        "a = b\n",
        "b = c\n",
        "print(a, b)"
      ],
      "metadata": {
        "id": "Qu3UZfW0tmTO"
      }
    },
    {
      "cell_type": "code",
      "source": [
        "n1 = int(input(\"Enter a number\"))\n",
        "n2 = int(input(\"enter another number\"))\n",
        "print(n1, n2)\n",
        "\n",
        "temp = n1\n",
        "n1 = n2\n",
        "n2 = temp\n",
        "print(n1, n2)"
      ],
      "metadata": {
        "id": "g8JYQAxotC5j",
        "outputId": "fd6d4a59-f2fa-4f08-d91e-3c754c2c91e0",
        "colab": {
          "base_uri": "https://localhost:8080/"
        }
      },
      "execution_count": null,
      "outputs": [
        {
          "output_type": "stream",
          "name": "stdout",
          "text": [
            "Enter a number5\n",
            "enter another number3\n",
            "5 3\n",
            "3 5\n"
          ]
        }
      ]
    },
    {
      "cell_type": "markdown",
      "source": [
        "Practice 9/7/2023"
      ],
      "metadata": {
        "id": "eZj2jc-glciO"
      }
    },
    {
      "cell_type": "code",
      "source": [
        "#without a third variable\n",
        "number1 = int(input(\"Enter a number\"))\n",
        "number2 = int(input(\"Enter second number\"))\n",
        "print(number1 , number2)\n",
        "\n",
        "number1 = number1 + number2\n",
        "number2 = number1 - number2\n",
        "number1 = number1 - number2\n",
        "print(number1 , number2)"
      ],
      "metadata": {
        "id": "QNdxit1-v4Fo"
      },
      "execution_count": null,
      "outputs": []
    },
    {
      "cell_type": "code",
      "source": [
        "#With a third variable\n",
        "a = int(input(\"Enter a number\"))\n",
        "b = int(input(\"Enter another number\"))\n",
        "print(a ,b)\n",
        "\n",
        "c = a\n",
        "a = b\n",
        "b = c\n",
        "print(a,b)"
      ],
      "metadata": {
        "id": "rUVWZ_0Slg4K"
      },
      "execution_count": null,
      "outputs": []
    }
  ]
}