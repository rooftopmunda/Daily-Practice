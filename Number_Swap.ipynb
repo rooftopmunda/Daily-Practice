{
  "nbformat": 4,
  "nbformat_minor": 0,
  "metadata": {
    "colab": {
      "provenance": [],
      "authorship_tag": "ABX9TyOsYEIbB1yHOF/tdO4akMT/",
      "include_colab_link": true
    },
    "kernelspec": {
      "name": "python3",
      "display_name": "Python 3"
    },
    "language_info": {
      "name": "python"
    }
  },
  "cells": [
    {
      "cell_type": "markdown",
      "metadata": {
        "id": "view-in-github",
        "colab_type": "text"
      },
      "source": [
        "<a href=\"https://colab.research.google.com/github/rooftopmunda/Daily-Practice/blob/main/Number_Swap.ipynb\" target=\"_parent\"><img src=\"https://colab.research.google.com/assets/colab-badge.svg\" alt=\"Open In Colab\"/></a>"
      ]
    },
    {
      "cell_type": "markdown",
      "source": [
        "#Prompt the user to enter 2 numbers\n",
        "#Swap the number without using third variable"
      ],
      "metadata": {
        "id": "GyhCShwOgj19"
      }
    },
    {
      "cell_type": "markdown",
      "source": [
        "Logic = Take 2 numbers as variables from the user and print them.\n",
        "replace the first variable by adding the two variables\n",
        "replace the second variable by subtracting the first variable and second variable.\n",
        "replace the first variable again by subtracting the first variable\n",
        "print the variables\n",
        "\n"
      ],
      "metadata": {
        "id": "n0R71453oW1_"
      }
    },
    {
      "cell_type": "code",
      "source": [
        "x = int(input(\"Enter a number\"))\n",
        "y = int(input(\"Enter second number\"))\n",
        "print(x , y)\n",
        "\n",
        "x = x + y\n",
        "y = x - y\n",
        "x = x - y\n",
        "print(x , y)"
      ],
      "metadata": {
        "colab": {
          "base_uri": "https://localhost:8080/"
        },
        "id": "Dq3B3-HYqGo3",
        "outputId": "a23e1b42-ae6a-4e9f-fb0e-1f5c1425b803"
      },
      "execution_count": 4,
      "outputs": [
        {
          "output_type": "stream",
          "name": "stdout",
          "text": [
            "Enter a number5\n",
            "Enter second number8\n",
            "5 8\n",
            "8 5\n"
          ]
        }
      ]
    },
    {
      "cell_type": "markdown",
      "source": [
        "This works because, we are adding the first number and the second number which gives us the sum of the two numbers. This is then assigned to the first variable. In the second variable we subtract the newly assigned first variable and subtract the original variable from it to get the same value as the original number and then we swap the numbers by subtracting the new first value and original second value."
      ],
      "metadata": {
        "id": "GFEoD34Uqsn8"
      }
    },
    {
      "cell_type": "markdown",
      "source": [
        "#Solve the same question by using a third value \"z\""
      ],
      "metadata": {
        "id": "h1j_EJZussNC"
      }
    },
    {
      "cell_type": "code",
      "source": [
        "x = int(input(\"Enter a number\"))\n",
        "y = int(input(\"Enter second number\"))\n",
        "\n",
        "print(x , y)\n",
        "\n",
        "z = x\n",
        "x = y\n",
        "y = z\n",
        "print(x , y)"
      ],
      "metadata": {
        "colab": {
          "base_uri": "https://localhost:8080/"
        },
        "id": "mxHKLNPkqj7v",
        "outputId": "0087c529-125d-40f8-effe-a6c54f74b683"
      },
      "execution_count": 6,
      "outputs": [
        {
          "output_type": "stream",
          "name": "stdout",
          "text": [
            "Enter a number5\n",
            "Enter second number6\n",
            "5 6\n",
            "6 5\n"
          ]
        }
      ]
    },
    {
      "cell_type": "markdown",
      "source": [
        "here we assigned the value of x to new variable z and then assigned the value of y to x and the we did the same for y and z. So in way, the logic is to cycle thorugh the variables like a loop. Its like if a = b = c then a = c"
      ],
      "metadata": {
        "id": "Ov8dHnCytpRc"
      }
    },
    {
      "cell_type": "code",
      "source": [
        "a = int(input(\"Enter a number\"))\n",
        "b = int(input(\"Enter second number\"))\n",
        "print(a , b)\n",
        "\n",
        "a = a + b\n",
        "b = a - b\n",
        "a = a - b\n",
        "print(a , b)"
      ],
      "metadata": {
        "colab": {
          "base_uri": "https://localhost:8080/"
        },
        "id": "vOHog-YBuMfA",
        "outputId": "7c6020a8-c75b-4143-e922-e6c47da0f859"
      },
      "execution_count": 7,
      "outputs": [
        {
          "output_type": "stream",
          "name": "stdout",
          "text": [
            "Enter a number5\n",
            "Enter second number6\n",
            "5 6\n",
            "6 5\n"
          ]
        }
      ]
    },
    {
      "cell_type": "code",
      "source": [
        "x = int(input(\"Enter a number\"))\n",
        "y = int(input(\"Enter another number\"))\n",
        "print(\"Original Numbers:\" , x ,y)\n",
        "\n",
        "z = x\n",
        "x = y\n",
        "y = z\n",
        "print(\"Swapped numbers:\", x , y)"
      ],
      "metadata": {
        "colab": {
          "base_uri": "https://localhost:8080/"
        },
        "id": "QqFHVMtZu3cQ",
        "outputId": "7eaaaede-e158-4fcb-e936-1d995ce6aea3"
      },
      "execution_count": 8,
      "outputs": [
        {
          "output_type": "stream",
          "name": "stdout",
          "text": [
            "Enter a number5\n",
            "Enter another number3\n",
            "Original Numbers: 5 3\n",
            "Swapped numbers: 3 5\n"
          ]
        }
      ]
    },
    {
      "cell_type": "code",
      "source": [],
      "metadata": {
        "id": "XatximnqvRlF"
      },
      "execution_count": null,
      "outputs": []
    }
  ]
}