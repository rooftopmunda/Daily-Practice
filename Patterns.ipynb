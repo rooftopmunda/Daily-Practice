{
 "cells": [
  {
   "cell_type": "markdown",
   "metadata": {},
   "source": [
    "https://www.youtube.com/watch?v=IhnEBQF6AGs&t=618s"
   ]
  },
  {
   "cell_type": "markdown",
   "metadata": {},
   "source": [
    "# Print a Clean Square using any letter or symbol"
   ]
  },
  {
   "cell_type": "markdown",
   "metadata": {},
   "source": [
    "Patterns work using 2 loops.\n",
    "* Outer Loop = It is the height/row of the pattern.\n",
    "* Inner Loop = It is the coloumnn on the pattern and prints the symbol itself.\n",
    "\n",
    "* In the code below the user enters the number of rows they want in the pattern.\n",
    "* using a for loop we can iterate the number of rows and coloumns in the pattern."
   ]
  },
  {
   "cell_type": "code",
   "execution_count": 4,
   "metadata": {},
   "outputs": [
    {
     "name": "stdout",
     "output_type": "stream",
     "text": [
      "A A A A A \n",
      "A A A A A \n",
      "A A A A A \n",
      "A A A A A \n",
      "A A A A A \n"
     ]
    }
   ],
   "source": [
    "n = int(input(\"Enter the number of rows: \"))\n",
    "\n",
    "for i in range(n):\n",
    "    for j in range(n):\n",
    "        print(\"A\", end = \" \")\n",
    "    print()"
   ]
  },
  {
   "cell_type": "markdown",
   "metadata": {},
   "source": [
    "# Print a right angled square using any letter or symbol\n",
    "\n",
    "* Here, we print the number of rows using the initial variable n\n",
    "* We increase the number of the inner loop since it will print the symbol\n",
    "* For every row we need to increase the number of symbol hence we use range(i+1)"
   ]
  },
  {
   "cell_type": "code",
   "execution_count": 6,
   "metadata": {},
   "outputs": [
    {
     "name": "stdout",
     "output_type": "stream",
     "text": [
      "A \n",
      "A A \n",
      "A A A \n",
      "A A A A \n",
      "A A A A A \n"
     ]
    }
   ],
   "source": [
    "n = 5\n",
    "\n",
    "for i in range(n):\n",
    "    for j in range(i+1):\n",
    "        print(\"A\", end = \" \")\n",
    "    print()"
   ]
  },
  {
   "cell_type": "markdown",
   "metadata": {},
   "source": [
    "# Print a reverse right angled square using any symbol or character"
   ]
  },
  {
   "cell_type": "code",
   "execution_count": 9,
   "metadata": {},
   "outputs": [
    {
     "name": "stdout",
     "output_type": "stream",
     "text": [
      "A A A A A \n",
      "A A A A \n",
      "A A A \n",
      "A A \n",
      "A \n"
     ]
    }
   ],
   "source": [
    "n = 5 \n",
    "\n",
    "for i in range(n, 0, -1):\n",
    "    for j in range(i ,0 , -1):\n",
    "        print(\"A\", end = \" \")\n",
    "    print()"
   ]
  },
  {
   "cell_type": "code",
   "execution_count": 10,
   "metadata": {},
   "outputs": [
    {
     "name": "stdout",
     "output_type": "stream",
     "text": [
      "O \n",
      "O O \n",
      "O O O \n",
      "O O O O \n",
      "O O O O O \n",
      "O O O O O O \n",
      "O O O O O O O \n",
      "O O O O O O O O \n",
      "O O O O O O O O O \n",
      "O O O O O O O O O O \n",
      "O O O O O O O O O O O \n",
      "O O O O O O O O O O O O \n",
      "O O O O O O O O O O O O O \n",
      "O O O O O O O O O O O O O O \n",
      "O O O O O O O O O O O O O O O \n"
     ]
    }
   ],
   "source": [
    "n = 15\n",
    "\n",
    "for i in range(n):\n",
    "    for j in range(i+1):\n",
    "        print(\"O\", end = \" \")\n",
    "    print()"
   ]
  },
  {
   "cell_type": "code",
   "execution_count": null,
   "metadata": {},
   "outputs": [],
   "source": []
  }
 ],
 "metadata": {
  "kernelspec": {
   "display_name": "base",
   "language": "python",
   "name": "python3"
  },
  "language_info": {
   "codemirror_mode": {
    "name": "ipython",
    "version": 3
   },
   "file_extension": ".py",
   "mimetype": "text/x-python",
   "name": "python",
   "nbconvert_exporter": "python",
   "pygments_lexer": "ipython3",
   "version": "3.11.3"
  },
  "orig_nbformat": 4
 },
 "nbformat": 4,
 "nbformat_minor": 2
}
