{
 "cells": [
  {
   "cell_type": "markdown",
   "metadata": {},
   "source": [
    "https://www.youtube.com/watch?v=IhnEBQF6AGs&t=618s"
   ]
  },
  {
   "cell_type": "markdown",
   "metadata": {},
   "source": [
    "# Print a Clean Square using any letter or symbol"
   ]
  },
  {
   "cell_type": "markdown",
   "metadata": {},
   "source": [
    "Patterns work using 2 loops.\n",
    "* Outer Loop = It is the height/row of the pattern.\n",
    "* Inner Loop = It is the coloumnn on the pattern and prints the symbol itself.\n",
    "\n",
    "* In the code below the user enters the number of rows they want in the pattern.\n",
    "* using a for loop we can iterate the number of rows and coloumns in the pattern."
   ]
  },
  {
   "cell_type": "code",
   "execution_count": 10,
   "metadata": {},
   "outputs": [
    {
     "name": "stdout",
     "output_type": "stream",
     "text": [
      "A A A A A A A A A A A A A A A \n",
      "A A A A A A A A A A A A A A A \n",
      "A A A A A A A A A A A A A A A \n",
      "A A A A A A A A A A A A A A A \n",
      "A A A A A A A A A A A A A A A \n",
      "A A A A A A A A A A A A A A A \n",
      "A A A A A A A A A A A A A A A \n",
      "A A A A A A A A A A A A A A A \n",
      "A A A A A A A A A A A A A A A \n",
      "A A A A A A A A A A A A A A A \n",
      "A A A A A A A A A A A A A A A \n",
      "A A A A A A A A A A A A A A A \n",
      "A A A A A A A A A A A A A A A \n",
      "A A A A A A A A A A A A A A A \n",
      "A A A A A A A A A A A A A A A \n"
     ]
    }
   ],
   "source": [
    "n = int(input(\"Enter the number of rows: \"))\n",
    "\n",
    "for i in range(n):\n",
    "    for j in range(n):\n",
    "        print(\"A\", end = \" \")\n",
    "    print()"
   ]
  },
  {
   "cell_type": "markdown",
   "metadata": {},
   "source": [
    "# Print a right angled square using any letter or symbol\n",
    "\n",
    "* Here, we print the number of rows using the initial variable n\n",
    "* We increase the number of the inner loop since it will print the symbol\n",
    "* For every row we need to increase the number of symbol hence we use range(i+1)"
   ]
  },
  {
   "cell_type": "code",
   "execution_count": 11,
   "metadata": {},
   "outputs": [
    {
     "name": "stdout",
     "output_type": "stream",
     "text": [
      "A \n",
      "A A \n",
      "A A A \n",
      "A A A A \n",
      "A A A A A \n",
      "A A A A A A \n",
      "A A A A A A A \n",
      "A A A A A A A A \n",
      "A A A A A A A A A \n",
      "A A A A A A A A A A \n",
      "A A A A A A A A A A A \n",
      "A A A A A A A A A A A A \n",
      "A A A A A A A A A A A A A \n",
      "A A A A A A A A A A A A A A \n",
      "A A A A A A A A A A A A A A A \n"
     ]
    }
   ],
   "source": [
    "n = 15\n",
    "\n",
    "for i in range(n):\n",
    "    for j in range(i+1):\n",
    "        print(\"A\", end = \" \")\n",
    "    print()"
   ]
  },
  {
   "cell_type": "markdown",
   "metadata": {},
   "source": [
    "# Print a reverse right angled square using any symbol or character\n",
    "\n",
    "* The logic remains the same however, for every iteration we reverse the count, instead of increamenting the symbol we use a step value of -1\n",
    "* This ensures that the symbols decreases once every iteration until the loop is over"
   ]
  },
  {
   "cell_type": "code",
   "execution_count": 12,
   "metadata": {},
   "outputs": [
    {
     "name": "stdout",
     "output_type": "stream",
     "text": [
      "$ $ $ $ $ $ $ $ $ $ $ $ $ $ $ \n",
      "$ $ $ $ $ $ $ $ $ $ $ $ $ $ \n",
      "$ $ $ $ $ $ $ $ $ $ $ $ $ \n",
      "$ $ $ $ $ $ $ $ $ $ $ $ \n",
      "$ $ $ $ $ $ $ $ $ $ $ \n",
      "$ $ $ $ $ $ $ $ $ $ \n",
      "$ $ $ $ $ $ $ $ $ \n",
      "$ $ $ $ $ $ $ $ \n",
      "$ $ $ $ $ $ $ \n",
      "$ $ $ $ $ $ \n",
      "$ $ $ $ $ \n",
      "$ $ $ $ \n",
      "$ $ $ \n",
      "$ $ \n",
      "$ \n"
     ]
    }
   ],
   "source": [
    "n = 15 \n",
    "\n",
    "for i in range (15, 0, -1):\n",
    "    for j in range(i, 0, -1):\n",
    "        print(\"$\", end = \" \")\n",
    "    print()"
   ]
  },
  {
   "cell_type": "markdown",
   "metadata": {},
   "source": [
    "# Number of rows as the pattern\n",
    "* Here we define the number of rows first (its always n - 1)\n",
    "* then we print the number of coloumns with the range as the number of rows.\n",
    "* We print the number of rows and use the end = \" \" statement\n",
    "* Finally we loop using the print() statement"
   ]
  },
  {
   "cell_type": "code",
   "execution_count": 15,
   "metadata": {},
   "outputs": [
    {
     "name": "stdout",
     "output_type": "stream",
     "text": [
      "\n",
      "1 \n",
      "2 2 \n",
      "3 3 3 \n",
      "4 4 4 4 \n",
      "5 5 5 5 5 \n",
      "6 6 6 6 6 6 \n",
      "7 7 7 7 7 7 7 \n",
      "8 8 8 8 8 8 8 8 \n",
      "9 9 9 9 9 9 9 9 9 \n"
     ]
    }
   ],
   "source": [
    "for i in range(10):\n",
    "    for j in range(i):\n",
    "        print(i,end= \" \")\n",
    "    print()"
   ]
  },
  {
   "cell_type": "code",
   "execution_count": 14,
   "metadata": {},
   "outputs": [
    {
     "name": "stdout",
     "output_type": "stream",
     "text": [
      "9 9 9 9 9 9 9 9 9 \n",
      "8 8 8 8 8 8 8 8 \n",
      "7 7 7 7 7 7 7 \n",
      "6 6 6 6 6 6 \n",
      "5 5 5 5 5 \n",
      "4 4 4 4 \n",
      "3 3 3 \n",
      "2 2 \n",
      "1 \n"
     ]
    }
   ],
   "source": [
    "for i in range(9,0,-1):\n",
    "    for j in range(i):\n",
    "        print(i, end = \" \")\n",
    "    print()"
   ]
  },
  {
   "cell_type": "code",
   "execution_count": null,
   "metadata": {},
   "outputs": [],
   "source": []
  }
 ],
 "metadata": {
  "kernelspec": {
   "display_name": "base",
   "language": "python",
   "name": "python3"
  },
  "language_info": {
   "codemirror_mode": {
    "name": "ipython",
    "version": 3
   },
   "file_extension": ".py",
   "mimetype": "text/x-python",
   "name": "python",
   "nbconvert_exporter": "python",
   "pygments_lexer": "ipython3",
   "version": "3.11.3"
  },
  "orig_nbformat": 4
 },
 "nbformat": 4,
 "nbformat_minor": 2
}
