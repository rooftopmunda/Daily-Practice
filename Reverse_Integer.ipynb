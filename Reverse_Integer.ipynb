{
  "nbformat": 4,
  "nbformat_minor": 0,
  "metadata": {
    "colab": {
      "provenance": [],
      "authorship_tag": "ABX9TyOWPqtiLGgpwjxG+9Y1Fh9N",
      "include_colab_link": true
    },
    "kernelspec": {
      "name": "python3",
      "display_name": "Python 3"
    },
    "language_info": {
      "name": "python"
    }
  },
  "cells": [
    {
      "cell_type": "markdown",
      "metadata": {
        "id": "view-in-github",
        "colab_type": "text"
      },
      "source": [
        "<a href=\"https://colab.research.google.com/github/rooftopmunda/Daily-Practice/blob/main/Reverse_Integer.ipynb\" target=\"_parent\"><img src=\"https://colab.research.google.com/assets/colab-badge.svg\" alt=\"Open In Colab\"/></a>"
      ]
    },
    {
      "cell_type": "markdown",
      "source": [
        "Write a Program to extract each digit from an integer in the reverse order. For example, If the given int is 7536, the output shall be “6 3 5 7“, with a space separating the digits."
      ],
      "metadata": {
        "id": "vkpZJOasMPWq"
      }
    },
    {
      "cell_type": "code",
      "execution_count": null,
      "metadata": {
        "colab": {
          "base_uri": "https://localhost:8080/"
        },
        "id": "nR2dxeHFMDQz",
        "outputId": "4ffe066d-2688-47e0-f37f-b18eca290c8b"
      },
      "outputs": [
        {
          "output_type": "stream",
          "name": "stdout",
          "text": [
            "Enter a number4345\n",
            "5 4 3 4\n"
          ]
        }
      ],
      "source": [
        "integer = str(input(\"Enter a number\"))\n",
        "rev_int = \" \".join(integer[::-1])\n",
        "print(rev_int)"
      ]
    },
    {
      "cell_type": "markdown",
      "source": [
        "In this code, we take an input from the user and convert it to a string. Then we assign the string to a new variable and use the .join method along with the negative set. Finally we print the reversed string"
      ],
      "metadata": {
        "id": "IlZbOuMINRgV"
      }
    },
    {
      "cell_type": "code",
      "source": [
        "number = str(input(\"Enter a number: \"))\n",
        "rev_num = \" \".join(number[::-1])\n",
        "print(rev_num)"
      ],
      "metadata": {
        "colab": {
          "base_uri": "https://localhost:8080/"
        },
        "id": "XPTXpmnuRM3P",
        "outputId": "37dc1980-0396-4623-f534-e3feb4bbe73a"
      },
      "execution_count": null,
      "outputs": [
        {
          "output_type": "stream",
          "name": "stdout",
          "text": [
            "Enter a number: 4658765\n",
            "5 6 7 8 5 6 4\n"
          ]
        }
      ]
    },
    {
      "cell_type": "markdown",
      "source": [
        "Practice 8/7/2023\n",
        "The logic here is to keep in mind that to take the input as a string and then simply reverse it by using a negative set. using the .join method to add a space."
      ],
      "metadata": {
        "id": "0dMiU2j6zxgc"
      }
    },
    {
      "cell_type": "code",
      "source": [
        "integer = (input(\"Enter a number\"))\n",
        "rev_int = \" \".join(integer[::-1])\n",
        "print(rev_int)"
      ],
      "metadata": {
        "id": "JBHiSfWCRmwn",
        "outputId": "792ef4a5-c0fa-4f01-99fa-f66a04f13a93",
        "colab": {
          "base_uri": "https://localhost:8080/"
        }
      },
      "execution_count": 2,
      "outputs": [
        {
          "output_type": "stream",
          "name": "stdout",
          "text": [
            "Enter a number123456\n",
            "6 5 4 3 2 1\n"
          ]
        }
      ]
    },
    {
      "cell_type": "code",
      "source": [],
      "metadata": {
        "id": "TFV8anpczky1"
      },
      "execution_count": null,
      "outputs": []
    }
  ]
}